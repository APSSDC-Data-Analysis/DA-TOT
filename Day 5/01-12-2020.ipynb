{
 "cells": [
  {
   "cell_type": "markdown",
   "metadata": {},
   "source": [
    "## Day 5\n",
    "- Data Preprocessing Conti...\n",
    "- ViSualization\n",
    "    - Matplotlib"
   ]
  },
  {
   "cell_type": "code",
   "execution_count": 1,
   "metadata": {},
   "outputs": [],
   "source": [
    "import numpy as np\n",
    "import pandas as pd\n",
    "from sklearn import preprocessing"
   ]
  },
  {
   "cell_type": "markdown",
   "metadata": {},
   "source": [
    "### Standard Scaler\n",
    "- If data is normally distributed, then we can apply standard scaler.\n",
    "- It scales the data Zero mean with unit varience.\n",
    "    - [X(i) - mean(X)] / std(X)"
   ]
  },
  {
   "cell_type": "code",
   "execution_count": 2,
   "metadata": {
    "collapsed": true
   },
   "outputs": [
    {
     "data": {
      "text/html": [
       "<div>\n",
       "<style scoped>\n",
       "    .dataframe tbody tr th:only-of-type {\n",
       "        vertical-align: middle;\n",
       "    }\n",
       "\n",
       "    .dataframe tbody tr th {\n",
       "        vertical-align: top;\n",
       "    }\n",
       "\n",
       "    .dataframe thead th {\n",
       "        text-align: right;\n",
       "    }\n",
       "</style>\n",
       "<table border=\"1\" class=\"dataframe\">\n",
       "  <thead>\n",
       "    <tr style=\"text-align: right;\">\n",
       "      <th></th>\n",
       "      <th>Unnamed: 0</th>\n",
       "      <th>TV</th>\n",
       "      <th>radio</th>\n",
       "      <th>newspaper</th>\n",
       "      <th>sales</th>\n",
       "    </tr>\n",
       "  </thead>\n",
       "  <tbody>\n",
       "    <tr>\n",
       "      <th>0</th>\n",
       "      <td>1</td>\n",
       "      <td>230.1</td>\n",
       "      <td>37.8</td>\n",
       "      <td>69.2</td>\n",
       "      <td>22.1</td>\n",
       "    </tr>\n",
       "    <tr>\n",
       "      <th>1</th>\n",
       "      <td>2</td>\n",
       "      <td>44.5</td>\n",
       "      <td>39.3</td>\n",
       "      <td>45.1</td>\n",
       "      <td>10.4</td>\n",
       "    </tr>\n",
       "    <tr>\n",
       "      <th>2</th>\n",
       "      <td>3</td>\n",
       "      <td>17.2</td>\n",
       "      <td>45.9</td>\n",
       "      <td>69.3</td>\n",
       "      <td>9.3</td>\n",
       "    </tr>\n",
       "    <tr>\n",
       "      <th>3</th>\n",
       "      <td>4</td>\n",
       "      <td>151.5</td>\n",
       "      <td>41.3</td>\n",
       "      <td>58.5</td>\n",
       "      <td>18.5</td>\n",
       "    </tr>\n",
       "    <tr>\n",
       "      <th>4</th>\n",
       "      <td>5</td>\n",
       "      <td>180.8</td>\n",
       "      <td>10.8</td>\n",
       "      <td>58.4</td>\n",
       "      <td>12.9</td>\n",
       "    </tr>\n",
       "  </tbody>\n",
       "</table>\n",
       "</div>"
      ],
      "text/plain": [
       "   Unnamed: 0     TV  radio  newspaper  sales\n",
       "0           1  230.1   37.8       69.2   22.1\n",
       "1           2   44.5   39.3       45.1   10.4\n",
       "2           3   17.2   45.9       69.3    9.3\n",
       "3           4  151.5   41.3       58.5   18.5\n",
       "4           5  180.8   10.8       58.4   12.9"
      ]
     },
     "execution_count": 2,
     "metadata": {},
     "output_type": "execute_result"
    }
   ],
   "source": [
    "df = pd.read_csv('Advertisement.csv')\n",
    "df.head()"
   ]
  },
  {
   "cell_type": "code",
   "execution_count": 4,
   "metadata": {},
   "outputs": [],
   "source": [
    "df.drop(['Unnamed: 0'],axis = 1, inplace = True)"
   ]
  },
  {
   "cell_type": "code",
   "execution_count": 5,
   "metadata": {
    "collapsed": true
   },
   "outputs": [
    {
     "data": {
      "text/html": [
       "<div>\n",
       "<style scoped>\n",
       "    .dataframe tbody tr th:only-of-type {\n",
       "        vertical-align: middle;\n",
       "    }\n",
       "\n",
       "    .dataframe tbody tr th {\n",
       "        vertical-align: top;\n",
       "    }\n",
       "\n",
       "    .dataframe thead th {\n",
       "        text-align: right;\n",
       "    }\n",
       "</style>\n",
       "<table border=\"1\" class=\"dataframe\">\n",
       "  <thead>\n",
       "    <tr style=\"text-align: right;\">\n",
       "      <th></th>\n",
       "      <th>TV</th>\n",
       "      <th>radio</th>\n",
       "      <th>newspaper</th>\n",
       "      <th>sales</th>\n",
       "    </tr>\n",
       "  </thead>\n",
       "  <tbody>\n",
       "    <tr>\n",
       "      <th>0</th>\n",
       "      <td>230.1</td>\n",
       "      <td>37.8</td>\n",
       "      <td>69.2</td>\n",
       "      <td>22.1</td>\n",
       "    </tr>\n",
       "    <tr>\n",
       "      <th>1</th>\n",
       "      <td>44.5</td>\n",
       "      <td>39.3</td>\n",
       "      <td>45.1</td>\n",
       "      <td>10.4</td>\n",
       "    </tr>\n",
       "    <tr>\n",
       "      <th>2</th>\n",
       "      <td>17.2</td>\n",
       "      <td>45.9</td>\n",
       "      <td>69.3</td>\n",
       "      <td>9.3</td>\n",
       "    </tr>\n",
       "    <tr>\n",
       "      <th>3</th>\n",
       "      <td>151.5</td>\n",
       "      <td>41.3</td>\n",
       "      <td>58.5</td>\n",
       "      <td>18.5</td>\n",
       "    </tr>\n",
       "    <tr>\n",
       "      <th>4</th>\n",
       "      <td>180.8</td>\n",
       "      <td>10.8</td>\n",
       "      <td>58.4</td>\n",
       "      <td>12.9</td>\n",
       "    </tr>\n",
       "  </tbody>\n",
       "</table>\n",
       "</div>"
      ],
      "text/plain": [
       "      TV  radio  newspaper  sales\n",
       "0  230.1   37.8       69.2   22.1\n",
       "1   44.5   39.3       45.1   10.4\n",
       "2   17.2   45.9       69.3    9.3\n",
       "3  151.5   41.3       58.5   18.5\n",
       "4  180.8   10.8       58.4   12.9"
      ]
     },
     "execution_count": 5,
     "metadata": {},
     "output_type": "execute_result"
    }
   ],
   "source": [
    "df.head()"
   ]
  },
  {
   "cell_type": "code",
   "execution_count": 6,
   "metadata": {},
   "outputs": [],
   "source": [
    "import matplotlib.pyplot as plt"
   ]
  },
  {
   "cell_type": "code",
   "execution_count": 8,
   "metadata": {},
   "outputs": [
    {
     "data": {
      "image/png": "[encoded data removed]",
      "text/plain": [
       "<Figure size 432x288 with 1 Axes>"
      ]
     },
     "metadata": {
      "needs_background": "light"
     },
     "output_type": "display_data"
    }
   ],
   "source": [
    "plt.hist(df)\n",
    "plt.show()"
   ]
  },
  {
   "cell_type": "markdown",
   "metadata": {},
   "source": [
    "**Apply Standard Scaler model**"
   ]
  },
  {
   "cell_type": "code",
   "execution_count": 9,
   "metadata": {},
   "outputs": [],
   "source": [
    "sd = preprocessing.StandardScaler()"
   ]
  },
  {
   "cell_type": "markdown",
   "metadata": {},
   "source": [
    "- Apply standard scaler model by yourself\n",
    "- Also compare visually befor and after applying model"
   ]
  },
  {
   "cell_type": "markdown",
   "metadata": {},
   "source": [
    "### Visualization\n",
    "- Matplotlib\n",
    "- Reading and slicing images\n",
    "- Diff types of plottings"
   ]
  },
  {
   "cell_type": "markdown",
   "metadata": {},
   "source": [
    "### Matplotlib\n",
    "- Matplotlib is a python library for 2D plotting.\n",
    "- Matplotlib library again contains no.of modules\n",
    "    - pyplot\n",
    "    - collections\n",
    "    - animations\n",
    "    - etc...\n",
    "- https://matplotlib.org/"
   ]
  },
  {
   "cell_type": "markdown",
   "metadata": {},
   "source": [
    "**Pyplot**\n",
    "- Pyplot is a popular module in matplotlib\n",
    "- It is ver simple and easy user interface for constructing plots, figures ect.."
   ]
  },
  {
   "cell_type": "code",
   "execution_count": 10,
   "metadata": {
    "collapsed": true
   },
   "outputs": [
    {
     "name": "stdout",
     "output_type": "stream",
     "text": [
      "Requirement already satisfied: matplotlib in c:\\users\\mouni\\appdata\\local\\continuum\\anaconda3\\lib\\site-packages (3.1.0)\n",
      "Requirement already satisfied: cycler>=0.10 in c:\\users\\mouni\\appdata\\local\\continuum\\anaconda3\\lib\\site-packages (from matplotlib) (0.10.0)\n",
      "Requirement already satisfied: kiwisolver>=1.0.1 in c:\\users\\mouni\\appdata\\local\\continuum\\anaconda3\\lib\\site-packages (from matplotlib) (1.1.0)\n",
      "Requirement already satisfied: pyparsing!=2.0.4,!=2.1.2,!=2.1.6,>=2.0.1 in c:\\users\\mouni\\appdata\\local\\continuum\\anaconda3\\lib\\site-packages (from matplotlib) (2.4.0)\n",
      "Requirement already satisfied: python-dateutil>=2.1 in c:\\users\\mouni\\appdata\\local\\continuum\\anaconda3\\lib\\site-packages (from matplotlib) (2.8.0)\n",
      "Requirement already satisfied: numpy>=1.11 in c:\\users\\mouni\\appdata\\local\\continuum\\anaconda3\\lib\\site-packages (from matplotlib) (1.16.4)\n",
      "Requirement already satisfied: six in c:\\users\\mouni\\appdata\\local\\continuum\\anaconda3\\lib\\site-packages (from cycler>=0.10->matplotlib) (1.12.0)\n",
      "Requirement already satisfied: setuptools in c:\\users\\mouni\\appdata\\local\\continuum\\anaconda3\\lib\\site-packages (from kiwisolver>=1.0.1->matplotlib) (41.0.1)\n",
      "Note: you may need to restart the kernel to use updated packages.\n"
     ]
    },
    {
     "name": "stderr",
     "output_type": "stream",
     "text": [
      "WARNING: You are using pip version 20.0.2; however, version 20.3 is available.\n",
      "You should consider upgrading via the 'C:\\Users\\Mouni\\AppData\\Local\\Continuum\\anaconda3\\python.exe -m pip install --upgrade pip' command.\n"
     ]
    }
   ],
   "source": [
    "pip install matplotlib"
   ]
  },
  {
   "cell_type": "code",
   "execution_count": 11,
   "metadata": {},
   "outputs": [],
   "source": [
    "## Importing\n",
    "import matplotlib as mpl"
   ]
  },
  {
   "cell_type": "code",
   "execution_count": 12,
   "metadata": {},
   "outputs": [],
   "source": [
    "import matplotlib.pyplot as plt"
   ]
  },
  {
   "cell_type": "code",
   "execution_count": 13,
   "metadata": {
    "collapsed": true
   },
   "outputs": [
    {
     "name": "stdout",
     "output_type": "stream",
     "text": [
      "['Annotation', 'Arrow', 'Artist', 'AutoLocator', 'Axes', 'Button', 'Circle', 'Figure', 'FigureCanvasBase', 'FixedFormatter', 'FixedLocator', 'FormatStrFormatter', 'Formatter', 'FuncFormatter', 'GridSpec', 'IndexLocator', 'Line2D', 'LinearLocator', 'Locator', 'LogFormatter', 'LogFormatterExponent', 'LogFormatterMathtext', 'LogLocator', 'MaxNLocator', 'MultipleLocator', 'Normalize', 'NullFormatter', 'NullLocator', 'Number', 'PolarAxes', 'Polygon', 'Rectangle', 'ScalarFormatter', 'Slider', 'Subplot', 'SubplotTool', 'Text', 'TickHelper', 'Widget', '_INSTALL_FIG_OBSERVER', '_IP_REGISTERED', '__builtins__', '__cached__', '__doc__', '__file__', '__loader__', '__name__', '__package__', '__spec__', '_auto_draw_if_interactive', '_backend_mod', '_get_running_interactive_framework', '_interactive_bk', '_log', '_pylab_helpers', '_setp', '_setup_pyplot_info_docstrings', '_show', 'acorr', 'angle_spectrum', 'annotate', 'arrow', 'autoscale', 'autumn', 'axes', 'axhline', 'axhspan', 'axis', 'axvline', 'axvspan', 'bar', 'barbs', 'barh', 'bone', 'box', 'boxplot', 'broken_barh', 'cbook', 'cla', 'clabel', 'clf', 'clim', 'close', 'cm', 'cohere', 'colorbar', 'colormaps', 'connect', 'contour', 'contourf', 'cool', 'copper', 'csd', 'cycler', 'dedent', 'delaxes', 'deprecated', 'disconnect', 'docstring', 'draw', 'draw_all', 'draw_if_interactive', 'errorbar', 'eventplot', 'figaspect', 'figimage', 'figlegend', 'fignum_exists', 'figtext', 'figure', 'fill', 'fill_between', 'fill_betweenx', 'findobj', 'flag', 'functools', 'gca', 'gcf', 'gci', 'get', 'get_backend', 'get_cmap', 'get_current_fig_manager', 'get_figlabels', 'get_fignums', 'get_plot_commands', 'get_scale_docs', 'get_scale_names', 'getp', 'ginput', 'gray', 'grid', 'hexbin', 'hist', 'hist2d', 'hlines', 'hot', 'hsv', 'importlib', 'imread', 'imsave', 'imshow', 'inferno', 'inspect', 'install_repl_displayhook', 'interactive', 'ioff', 'ion', 'isinteractive', 'jet', 'legend', 'locator_params', 'logging', 'loglog', 'magma', 'magnitude_spectrum', 'margins', 'matplotlib', 'matshow', 'minorticks_off', 'minorticks_on', 'mlab', 'new_figure_manager', 'nipy_spectral', 'np', 'pause', 'pcolor', 'pcolormesh', 'phase_spectrum', 'pie', 'pink', 'plasma', 'plot', 'plot_date', 'plotfile', 'plotting', 'polar', 'prism', 'psd', 'pylab_setup', 'quiver', 'quiverkey', 'rc', 'rcParams', 'rcParamsDefault', 'rcParamsOrig', 'rc_context', 'rcdefaults', 'rcsetup', 're', 'register_cmap', 'rgrids', 'savefig', 'sca', 'scatter', 'sci', 'semilogx', 'semilogy', 'set_cmap', 'set_loglevel', 'setp', 'show', 'silent_list', 'specgram', 'spring', 'spy', 'stackplot', 'stem', 'step', 'streamplot', 'style', 'subplot', 'subplot2grid', 'subplot_tool', 'subplots', 'subplots_adjust', 'summer', 'suptitle', 'switch_backend', 'sys', 'table', 'text', 'thetagrids', 'tick_params', 'ticklabel_format', 'tight_layout', 'time', 'title', 'tricontour', 'tricontourf', 'tripcolor', 'triplot', 'twinx', 'twiny', 'uninstall_repl_displayhook', 'violinplot', 'viridis', 'vlines', 'waitforbuttonpress', 'warn_deprecated', 'winter', 'xcorr', 'xkcd', 'xlabel', 'xlim', 'xscale', 'xticks', 'ylabel', 'ylim', 'yscale', 'yticks']\n"
     ]
    }
   ],
   "source": [
    "print(dir(plt))"
   ]
  },
  {
   "cell_type": "markdown",
   "metadata": {},
   "source": [
    "### Reading and slicing image using Matplotlib"
   ]
  },
  {
   "cell_type": "code",
   "execution_count": 14,
   "metadata": {
    "collapsed": true
   },
   "outputs": [
    {
     "data": {
      "text/plain": [
       "array([[[28, 28, 28],\n",
       "        [28, 28, 28],\n",
       "        [28, 28, 28],\n",
       "        ...,\n",
       "        [30, 28, 29],\n",
       "        [31, 29, 30],\n",
       "        [31, 29, 30]],\n",
       "\n",
       "       [[28, 28, 28],\n",
       "        [28, 28, 28],\n",
       "        [28, 28, 28],\n",
       "        ...,\n",
       "        [30, 28, 29],\n",
       "        [30, 28, 29],\n",
       "        [31, 29, 30]],\n",
       "\n",
       "       [[27, 27, 27],\n",
       "        [27, 27, 27],\n",
       "        [27, 27, 27],\n",
       "        ...,\n",
       "        [30, 28, 29],\n",
       "        [30, 28, 29],\n",
       "        [30, 28, 29]],\n",
       "\n",
       "       ...,\n",
       "\n",
       "       [[55, 53, 54],\n",
       "        [55, 53, 54],\n",
       "        [55, 53, 54],\n",
       "        ...,\n",
       "        [61, 59, 60],\n",
       "        [61, 59, 60],\n",
       "        [61, 59, 60]],\n",
       "\n",
       "       [[54, 53, 51],\n",
       "        [54, 53, 51],\n",
       "        [54, 53, 51],\n",
       "        ...,\n",
       "        [55, 53, 54],\n",
       "        [56, 54, 55],\n",
       "        [61, 59, 60]],\n",
       "\n",
       "       [[54, 53, 51],\n",
       "        [54, 53, 51],\n",
       "        [54, 53, 51],\n",
       "        ...,\n",
       "        [55, 53, 54],\n",
       "        [56, 54, 55],\n",
       "        [61, 59, 60]]], dtype=uint8)"
      ]
     },
     "execution_count": 14,
     "metadata": {},
     "output_type": "execute_result"
    }
   ],
   "source": [
    "## Image Reading\n",
    "img = plt.imread('logo.jpg')\n",
    "img\n",
    "## imread() --> reads pixel values of image"
   ]
  },
  {
   "cell_type": "code",
   "execution_count": 15,
   "metadata": {
    "collapsed": true
   },
   "outputs": [
    {
     "data": {
      "text/plain": [
       "<matplotlib.image.AxesImage at 0x23576f7f9b0>"
      ]
     },
     "execution_count": 15,
     "metadata": {},
     "output_type": "execute_result"
    },
    {
     "data": {
      "image/png": "[encoded data removed]",
      "text/plain": [
       "<Figure size 432x288 with 1 Axes>"
      ]
     },
     "metadata": {
      "needs_background": "light"
     },
     "output_type": "display_data"
    }
   ],
   "source": [
    "plt.imshow(img)"
   ]
  },
  {
   "cell_type": "code",
   "execution_count": 21,
   "metadata": {
    "collapsed": true
   },
   "outputs": [
    {
     "data": {
      "image/png": "[encoded data removed]",
      "text/plain": [
       "<Figure size 432x288 with 1 Axes>"
      ]
     },
     "metadata": {
      "needs_background": "light"
     },
     "output_type": "display_data"
    }
   ],
   "source": [
    "## Image Slicing\n",
    "plt.imshow(img[60:150, 30:160])\n",
    "plt.savefig('slice.jpg')"
   ]
  },
  {
   "cell_type": "markdown",
   "metadata": {},
   "source": [
    "### Types of Plotting\n",
    "- Line\n",
    "- Bar Chart\n",
    "- Scatter plot\n",
    "- Boxplot\n",
    "- Histogram\n",
    "- Pie chart\n",
    "- Area plot etc.."
   ]
  },
  {
   "cell_type": "markdown",
   "metadata": {},
   "source": [
    "## 1. Line Plot\n",
    "- plt.plot()"
   ]
  },
  {
   "cell_type": "code",
   "execution_count": 23,
   "metadata": {
    "collapsed": true
   },
   "outputs": [
    {
     "data": {
      "text/plain": [
       "[<matplotlib.lines.Line2D at 0x235760b80b8>]"
      ]
     },
     "execution_count": 23,
     "metadata": {},
     "output_type": "execute_result"
    },
    {
     "data": {
      "image/png": "[encoded data removed]",
      "text/plain": [
       "<Figure size 432x288 with 1 Axes>"
      ]
     },
     "metadata": {
      "needs_background": "light"
     },
     "output_type": "display_data"
    }
   ],
   "source": [
    "x_axis = [1,2,3]\n",
    "y_axis = [20,30,40]\n",
    "plt.plot(x_axis,y_axis)"
   ]
  },
  {
   "cell_type": "code",
   "execution_count": 27,
   "metadata": {
    "collapsed": true
   },
   "outputs": [
    {
     "data": {
      "image/png": "[encoded data removed]",
      "text/plain": [
       "<Figure size 432x288 with 1 Axes>"
      ]
     },
     "metadata": {
      "needs_background": "light"
     },
     "output_type": "display_data"
    }
   ],
   "source": [
    "x_axis = [1,2,3]\n",
    "y_axis = [20,30,40]\n",
    "plt.plot(x_axis,y_axis, label = 'Linear')\n",
    "plt.title('A Line Plot')\n",
    "plt.xlabel('X Axis')\n",
    "plt.ylabel('Y Axis')\n",
    "plt.legend()\n",
    "plt.grid()"
   ]
  },
  {
   "cell_type": "code",
   "execution_count": 28,
   "metadata": {
    "collapsed": true
   },
   "outputs": [
    {
     "name": "stdout",
     "output_type": "stream",
     "text": [
      "Help on function legend in module matplotlib.pyplot:\n",
      "\n",
      "legend(*args, **kwargs)\n",
      "    Place a legend on the axes.\n",
      "    \n",
      "    Call signatures::\n",
      "    \n",
      "        legend()\n",
      "        legend(labels)\n",
      "        legend(handles, labels)\n",
      "    \n",
      "    The call signatures correspond to three different ways how to use\n",
      "    this method.\n",
      "    \n",
      "    **1. Automatic detection of elements to be shown in the legend**\n",
      "    \n",
      "    The elements to be added to the legend are automatically determined,\n",
      "    when you do not pass in any extra arguments.\n",
      "    \n",
      "    In this case, the labels are taken from the artist. You can specify\n",
      "    them either at artist creation or by calling the\n",
      "    :meth:`~.Artist.set_label` method on the artist::\n",
      "    \n",
      "        line, = ax.plot([1, 2, 3], label='Inline label')\n",
      "        ax.legend()\n",
      "    \n",
      "    or::\n",
      "    \n",
      "        line.set_label('Label via method')\n",
      "        line, = ax.plot([1, 2, 3])\n",
      "        ax.legend()\n",
      "    \n",
      "    Specific lines can be excluded from the automatic legend element\n",
      "    selection by defining a label starting with an underscore.\n",
      "    This is default for all artists, so calling `Axes.legend` without\n",
      "    any arguments and without setting the labels manually will result in\n",
      "    no legend being drawn.\n",
      "    \n",
      "    \n",
      "    **2. Labeling existing plot elements**\n",
      "    \n",
      "    To make a legend for lines which already exist on the axes\n",
      "    (via plot for instance), simply call this function with an iterable\n",
      "    of strings, one for each legend item. For example::\n",
      "    \n",
      "        ax.plot([1, 2, 3])\n",
      "        ax.legend(['A simple line'])\n",
      "    \n",
      "    Note: This way of using is discouraged, because the relation between\n",
      "    plot elements and labels is only implicit by their order and can\n",
      "    easily be mixed up.\n",
      "    \n",
      "    \n",
      "    **3. Explicitly defining the elements in the legend**\n",
      "    \n",
      "    For full control of which artists have a legend entry, it is possible\n",
      "    to pass an iterable of legend artists followed by an iterable of\n",
      "    legend labels respectively::\n",
      "    \n",
      "        legend((line1, line2, line3), ('label1', 'label2', 'label3'))\n",
      "    \n",
      "    Parameters\n",
      "    ----------\n",
      "    \n",
      "    handles : sequence of `.Artist`, optional\n",
      "        A list of Artists (lines, patches) to be added to the legend.\n",
      "        Use this together with *labels*, if you need full control on what\n",
      "        is shown in the legend and the automatic mechanism described above\n",
      "        is not sufficient.\n",
      "    \n",
      "        The length of handles and labels should be the same in this\n",
      "        case. If they are not, they are truncated to the smaller length.\n",
      "    \n",
      "    labels : sequence of strings, optional\n",
      "        A list of labels to show next to the artists.\n",
      "        Use this together with *handles*, if you need full control on what\n",
      "        is shown in the legend and the automatic mechanism described above\n",
      "        is not sufficient.\n",
      "    \n",
      "    Other Parameters\n",
      "    ----------------\n",
      "    \n",
      "    \n",
      "    loc : str or pair of floats, default: :rc:`legend.loc` ('best' for axes, 'upper right' for figures)\n",
      "        The location of the legend.\n",
      "    \n",
      "        The strings\n",
      "        ``'upper left', 'upper right', 'lower left', 'lower right'``\n",
      "        place the legend at the corresponding corner of the axes/figure.\n",
      "    \n",
      "        The strings\n",
      "        ``'upper center', 'lower center', 'center left', 'center right'``\n",
      "        place the legend at the center of the corresponding edge of the\n",
      "        axes/figure.\n",
      "    \n",
      "        The string ``'center'`` places the legend at the center of the axes/figure.\n",
      "    \n",
      "        The string ``'best'`` places the legend at the location, among the nine\n",
      "        locations defined so far, with the minimum overlap with other drawn\n",
      "        artists.  This option can be quite slow for plots with large amounts of\n",
      "        data; your plotting speed may benefit from providing a specific location.\n",
      "    \n",
      "        The location can also be a 2-tuple giving the coordinates of the lower-left\n",
      "        corner of the legend in axes coordinates (in which case *bbox_to_anchor*\n",
      "        will be ignored).\n",
      "    \n",
      "        For back-compatibility, ``'center right'`` (but no other location) can also\n",
      "        be spelled ``'right'``, and each \"string\" locations can also be given as a\n",
      "        numeric value:\n",
      "    \n",
      "            ===============   =============\n",
      "            Location String   Location Code\n",
      "            ===============   =============\n",
      "            'best'            0\n",
      "            'upper right'     1\n",
      "            'upper left'      2\n",
      "            'lower left'      3\n",
      "            'lower right'     4\n",
      "            'right'           5\n",
      "            'center left'     6\n",
      "            'center right'    7\n",
      "            'lower center'    8\n",
      "            'upper center'    9\n",
      "            'center'          10\n",
      "            ===============   =============\n",
      "    \n",
      "    bbox_to_anchor : `.BboxBase`, 2-tuple, or 4-tuple of floats\n",
      "        Box that is used to position the legend in conjunction with *loc*.\n",
      "        Defaults to `axes.bbox` (if called as a method to `.Axes.legend`) or\n",
      "        `figure.bbox` (if `.Figure.legend`).  This argument allows arbitrary\n",
      "        placement of the legend.\n",
      "    \n",
      "        Bbox coordinates are interpreted in the coordinate system given by\n",
      "        `bbox_transform`, with the default transform\n",
      "        Axes or Figure coordinates, depending on which ``legend`` is called.\n",
      "    \n",
      "        If a 4-tuple or `.BboxBase` is given, then it specifies the bbox\n",
      "        ``(x, y, width, height)`` that the legend is placed in.\n",
      "        To put the legend in the best location in the bottom right\n",
      "        quadrant of the axes (or figure)::\n",
      "    \n",
      "            loc='best', bbox_to_anchor=(0.5, 0., 0.5, 0.5)\n",
      "    \n",
      "        A 2-tuple ``(x, y)`` places the corner of the legend specified by *loc* at\n",
      "        x, y.  For example, to put the legend's upper right-hand corner in the\n",
      "        center of the axes (or figure) the following keywords can be used::\n",
      "    \n",
      "            loc='upper right', bbox_to_anchor=(0.5, 0.5)\n",
      "    \n",
      "    ncol : integer\n",
      "        The number of columns that the legend has. Default is 1.\n",
      "    \n",
      "    prop : None or :class:`matplotlib.font_manager.FontProperties` or dict\n",
      "        The font properties of the legend. If None (default), the current\n",
      "        :data:`matplotlib.rcParams` will be used.\n",
      "    \n",
      "    fontsize : int or float or {'xx-small', 'x-small', 'small', 'medium', 'large', 'x-large', 'xx-large'}\n",
      "        Controls the font size of the legend. If the value is numeric the\n",
      "        size will be the absolute font size in points. String values are\n",
      "        relative to the current default font size. This argument is only\n",
      "        used if `prop` is not specified.\n",
      "    \n",
      "    numpoints : None or int\n",
      "        The number of marker points in the legend when creating a legend\n",
      "        entry for a `.Line2D` (line).\n",
      "        Default is ``None``, which will take the value from\n",
      "        :rc:`legend.numpoints`.\n",
      "    \n",
      "    scatterpoints : None or int\n",
      "        The number of marker points in the legend when creating\n",
      "        a legend entry for a `.PathCollection` (scatter plot).\n",
      "        Default is ``None``, which will take the value from\n",
      "        :rc:`legend.scatterpoints`.\n",
      "    \n",
      "    scatteryoffsets : iterable of floats\n",
      "        The vertical offset (relative to the font size) for the markers\n",
      "        created for a scatter plot legend entry. 0.0 is at the base the\n",
      "        legend text, and 1.0 is at the top. To draw all markers at the\n",
      "        same height, set to ``[0.5]``. Default is ``[0.375, 0.5, 0.3125]``.\n",
      "    \n",
      "    markerscale : None or int or float\n",
      "        The relative size of legend markers compared with the originally\n",
      "        drawn ones.\n",
      "        Default is ``None``, which will take the value from\n",
      "        :rc:`legend.markerscale`.\n",
      "    \n",
      "    markerfirst : bool\n",
      "        If *True*, legend marker is placed to the left of the legend label.\n",
      "        If *False*, legend marker is placed to the right of the legend\n",
      "        label.\n",
      "        Default is *True*.\n",
      "    \n",
      "    frameon : None or bool\n",
      "        Control whether the legend should be drawn on a patch\n",
      "        (frame).\n",
      "        Default is ``None``, which will take the value from\n",
      "        :rc:`legend.frameon`.\n",
      "    \n",
      "    fancybox : None or bool\n",
      "        Control whether round edges should be enabled around the\n",
      "        :class:`~matplotlib.patches.FancyBboxPatch` which makes up the\n",
      "        legend's background.\n",
      "        Default is ``None``, which will take the value from\n",
      "        :rc:`legend.fancybox`.\n",
      "    \n",
      "    shadow : None or bool\n",
      "        Control whether to draw a shadow behind the legend.\n",
      "        Default is ``None``, which will take the value from\n",
      "        :rc:`legend.shadow`.\n",
      "    \n",
      "    framealpha : None or float\n",
      "        Control the alpha transparency of the legend's background.\n",
      "        Default is ``None``, which will take the value from\n",
      "        :rc:`legend.framealpha`.  If shadow is activated and\n",
      "        *framealpha* is ``None``, the default value is ignored.\n",
      "    \n",
      "    facecolor : None or \"inherit\" or a color spec\n",
      "        Control the legend's background color.\n",
      "        Default is ``None``, which will take the value from\n",
      "        :rc:`legend.facecolor`.  If ``\"inherit\"``, it will take\n",
      "        :rc:`axes.facecolor`.\n",
      "    \n",
      "    edgecolor : None or \"inherit\" or a color spec\n",
      "        Control the legend's background patch edge color.\n",
      "        Default is ``None``, which will take the value from\n",
      "        :rc:`legend.edgecolor` If ``\"inherit\"``, it will take\n",
      "        :rc:`axes.edgecolor`.\n",
      "    \n",
      "    mode : {\"expand\", None}\n",
      "        If `mode` is set to ``\"expand\"`` the legend will be horizontally\n",
      "        expanded to fill the axes area (or `bbox_to_anchor` if defines\n",
      "        the legend's size).\n",
      "    \n",
      "    bbox_transform : None or :class:`matplotlib.transforms.Transform`\n",
      "        The transform for the bounding box (`bbox_to_anchor`). For a value\n",
      "        of ``None`` (default) the Axes'\n",
      "        :data:`~matplotlib.axes.Axes.transAxes` transform will be used.\n",
      "    \n",
      "    title : str or None\n",
      "        The legend's title. Default is no title (``None``).\n",
      "    \n",
      "    title_fontsize: str or None\n",
      "        The fontsize of the legend's title.  Default is the default fontsize.\n",
      "    \n",
      "    borderpad : float or None\n",
      "        The fractional whitespace inside the legend border.\n",
      "        Measured in font-size units.\n",
      "        Default is ``None``, which will take the value from\n",
      "        :rc:`legend.borderpad`.\n",
      "    \n",
      "    labelspacing : float or None\n",
      "        The vertical space between the legend entries.\n",
      "        Measured in font-size units.\n",
      "        Default is ``None``, which will take the value from\n",
      "        :rc:`legend.labelspacing`.\n",
      "    \n",
      "    handlelength : float or None\n",
      "        The length of the legend handles.\n",
      "        Measured in font-size units.\n",
      "        Default is ``None``, which will take the value from\n",
      "        :rc:`legend.handlelength`.\n",
      "    \n",
      "    handletextpad : float or None\n",
      "        The pad between the legend handle and text.\n",
      "        Measured in font-size units.\n",
      "        Default is ``None``, which will take the value from\n",
      "        :rc:`legend.handletextpad`.\n",
      "    \n",
      "    borderaxespad : float or None\n",
      "        The pad between the axes and legend border.\n",
      "        Measured in font-size units.\n",
      "        Default is ``None``, which will take the value from\n",
      "        :rc:`legend.borderaxespad`.\n",
      "    \n",
      "    columnspacing : float or None\n",
      "        The spacing between columns.\n",
      "        Measured in font-size units.\n",
      "        Default is ``None``, which will take the value from\n",
      "        :rc:`legend.columnspacing`.\n",
      "    \n",
      "    handler_map : dict or None\n",
      "        The custom dictionary mapping instances or types to a legend\n",
      "        handler. This `handler_map` updates the default handler map\n",
      "        found at :func:`matplotlib.legend.Legend.get_legend_handler_map`.\n",
      "    \n",
      "    \n",
      "    \n",
      "    Returns\n",
      "    -------\n",
      "    \n",
      "    :class:`matplotlib.legend.Legend` instance\n",
      "    \n",
      "    Notes\n",
      "    -----\n",
      "    \n",
      "    Not all kinds of artist are supported by the legend command. See\n",
      "    :doc:`/tutorials/intermediate/legend_guide` for details.\n",
      "    \n",
      "    Examples\n",
      "    --------\n",
      "    \n",
      "    .. plot:: gallery/text_labels_and_annotations/legend.py\n",
      "\n"
     ]
    }
   ],
   "source": [
    "help(plt.legend)"
   ]
  },
  {
   "cell_type": "code",
   "execution_count": 29,
   "metadata": {
    "collapsed": true
   },
   "outputs": [
    {
     "data": {
      "text/plain": [
       "<matplotlib.legend.Legend at 0x23577212208>"
      ]
     },
     "execution_count": 29,
     "metadata": {},
     "output_type": "execute_result"
    },
    {
     "data": {
      "image/png": "[encoded data removed]",
      "text/plain": [
       "<Figure size 432x288 with 1 Axes>"
      ]
     },
     "metadata": {
      "needs_background": "light"
     },
     "output_type": "display_data"
    }
   ],
   "source": [
    "x_axis = [1,2,3]\n",
    "y_axis = [20,30,40]\n",
    "plt.plot(x_axis,y_axis, label = 'Linear')\n",
    "plt.legend(loc = 'lower center')"
   ]
  },
  {
   "cell_type": "code",
   "execution_count": 30,
   "metadata": {},
   "outputs": [
    {
     "name": "stdout",
     "output_type": "stream",
     "text": [
      "Help on function plot in module matplotlib.pyplot:\n",
      "\n",
      "plot(*args, scalex=True, scaley=True, data=None, **kwargs)\n",
      "    Plot y versus x as lines and/or markers.\n",
      "    \n",
      "    Call signatures::\n",
      "    \n",
      "        plot([x], y, [fmt], *, data=None, **kwargs)\n",
      "        plot([x], y, [fmt], [x2], y2, [fmt2], ..., **kwargs)\n",
      "    \n",
      "    The coordinates of the points or line nodes are given by *x*, *y*.\n",
      "    \n",
      "    The optional parameter *fmt* is a convenient way for defining basic\n",
      "    formatting like color, marker and linestyle. It's a shortcut string\n",
      "    notation described in the *Notes* section below.\n",
      "    \n",
      "    >>> plot(x, y)        # plot x and y using default line style and color\n",
      "    >>> plot(x, y, 'bo')  # plot x and y using blue circle markers\n",
      "    >>> plot(y)           # plot y using x as index array 0..N-1\n",
      "    >>> plot(y, 'r+')     # ditto, but with red plusses\n",
      "    \n",
      "    You can use `.Line2D` properties as keyword arguments for more\n",
      "    control on the appearance. Line properties and *fmt* can be mixed.\n",
      "    The following two calls yield identical results:\n",
      "    \n",
      "    >>> plot(x, y, 'go--', linewidth=2, markersize=12)\n",
      "    >>> plot(x, y, color='green', marker='o', linestyle='dashed',\n",
      "    ...      linewidth=2, markersize=12)\n",
      "    \n",
      "    When conflicting with *fmt*, keyword arguments take precedence.\n",
      "    \n",
      "    \n",
      "    **Plotting labelled data**\n",
      "    \n",
      "    There's a convenient way for plotting objects with labelled data (i.e.\n",
      "    data that can be accessed by index ``obj['y']``). Instead of giving\n",
      "    the data in *x* and *y*, you can provide the object in the *data*\n",
      "    parameter and just give the labels for *x* and *y*::\n",
      "    \n",
      "    >>> plot('xlabel', 'ylabel', data=obj)\n",
      "    \n",
      "    All indexable objects are supported. This could e.g. be a `dict`, a\n",
      "    `pandas.DataFame` or a structured numpy array.\n",
      "    \n",
      "    \n",
      "    **Plotting multiple sets of data**\n",
      "    \n",
      "    There are various ways to plot multiple sets of data.\n",
      "    \n",
      "    - The most straight forward way is just to call `plot` multiple times.\n",
      "      Example:\n",
      "    \n",
      "      >>> plot(x1, y1, 'bo')\n",
      "      >>> plot(x2, y2, 'go')\n",
      "    \n",
      "    - Alternatively, if your data is already a 2d array, you can pass it\n",
      "      directly to *x*, *y*. A separate data set will be drawn for every\n",
      "      column.\n",
      "    \n",
      "      Example: an array ``a`` where the first column represents the *x*\n",
      "      values and the other columns are the *y* columns::\n",
      "    \n",
      "      >>> plot(a[0], a[1:])\n",
      "    \n",
      "    - The third way is to specify multiple sets of *[x]*, *y*, *[fmt]*\n",
      "      groups::\n",
      "    \n",
      "      >>> plot(x1, y1, 'g^', x2, y2, 'g-')\n",
      "    \n",
      "      In this case, any additional keyword argument applies to all\n",
      "      datasets. Also this syntax cannot be combined with the *data*\n",
      "      parameter.\n",
      "    \n",
      "    By default, each line is assigned a different style specified by a\n",
      "    'style cycle'. The *fmt* and line property parameters are only\n",
      "    necessary if you want explicit deviations from these defaults.\n",
      "    Alternatively, you can also change the style cycle using the\n",
      "    'axes.prop_cycle' rcParam.\n",
      "    \n",
      "    \n",
      "    Parameters\n",
      "    ----------\n",
      "    x, y : array-like or scalar\n",
      "        The horizontal / vertical coordinates of the data points.\n",
      "        *x* values are optional and default to `range(len(y))`.\n",
      "    \n",
      "        Commonly, these parameters are 1D arrays.\n",
      "    \n",
      "        They can also be scalars, or two-dimensional (in that case, the\n",
      "        columns represent separate data sets).\n",
      "    \n",
      "        These arguments cannot be passed as keywords.\n",
      "    \n",
      "    fmt : str, optional\n",
      "        A format string, e.g. 'ro' for red circles. See the *Notes*\n",
      "        section for a full description of the format strings.\n",
      "    \n",
      "        Format strings are just an abbreviation for quickly setting\n",
      "        basic line properties. All of these and more can also be\n",
      "        controlled by keyword arguments.\n",
      "    \n",
      "        This argument cannot be passed as keyword.\n",
      "    \n",
      "    data : indexable object, optional\n",
      "        An object with labelled data. If given, provide the label names to\n",
      "        plot in *x* and *y*.\n",
      "    \n",
      "        .. note::\n",
      "            Technically there's a slight ambiguity in calls where the\n",
      "            second label is a valid *fmt*. `plot('n', 'o', data=obj)`\n",
      "            could be `plt(x, y)` or `plt(y, fmt)`. In such cases,\n",
      "            the former interpretation is chosen, but a warning is issued.\n",
      "            You may suppress the warning by adding an empty format string\n",
      "            `plot('n', 'o', '', data=obj)`.\n",
      "    \n",
      "    Other Parameters\n",
      "    ----------------\n",
      "    scalex, scaley : bool, optional, default: True\n",
      "        These parameters determined if the view limits are adapted to\n",
      "        the data limits. The values are passed on to `autoscale_view`.\n",
      "    \n",
      "    **kwargs : `.Line2D` properties, optional\n",
      "        *kwargs* are used to specify properties like a line label (for\n",
      "        auto legends), linewidth, antialiasing, marker face color.\n",
      "        Example::\n",
      "    \n",
      "        >>> plot([1,2,3], [1,2,3], 'go-', label='line 1', linewidth=2)\n",
      "        >>> plot([1,2,3], [1,4,9], 'rs',  label='line 2')\n",
      "    \n",
      "        If you make multiple lines with one plot command, the kwargs\n",
      "        apply to all those lines.\n",
      "    \n",
      "        Here is a list of available `.Line2D` properties:\n",
      "    \n",
      "      agg_filter: a filter function, which takes a (m, n, 3) float array and a dpi value, and returns a (m, n, 3) array\n",
      "      alpha: float\n",
      "      animated: bool\n",
      "      antialiased or aa: bool\n",
      "      clip_box: `.Bbox`\n",
      "      clip_on: bool\n",
      "      clip_path: [(`~matplotlib.path.Path`, `.Transform`) | `.Patch` | None]\n",
      "      color or c: color\n",
      "      contains: callable\n",
      "      dash_capstyle: {'butt', 'round', 'projecting'}\n",
      "      dash_joinstyle: {'miter', 'round', 'bevel'}\n",
      "      dashes: sequence of floats (on/off ink in points) or (None, None)\n",
      "      drawstyle or ds: {'default', 'steps', 'steps-pre', 'steps-mid', 'steps-post'}, default: 'default'\n",
      "      figure: `.Figure`\n",
      "      fillstyle: {'full', 'left', 'right', 'bottom', 'top', 'none'}\n",
      "      gid: str\n",
      "      in_layout: bool\n",
      "      label: object\n",
      "      linestyle or ls: {'-', '--', '-.', ':', '', (offset, on-off-seq), ...}\n",
      "      linewidth or lw: float\n",
      "      marker: marker style\n",
      "      markeredgecolor or mec: color\n",
      "      markeredgewidth or mew: float\n",
      "      markerfacecolor or mfc: color\n",
      "      markerfacecoloralt or mfcalt: color\n",
      "      markersize or ms: float\n",
      "      markevery: None or int or (int, int) or slice or List[int] or float or (float, float)\n",
      "      path_effects: `.AbstractPathEffect`\n",
      "      picker: float or callable[[Artist, Event], Tuple[bool, dict]]\n",
      "      pickradius: float\n",
      "      rasterized: bool or None\n",
      "      sketch_params: (scale: float, length: float, randomness: float)\n",
      "      snap: bool or None\n",
      "      solid_capstyle: {'butt', 'round', 'projecting'}\n",
      "      solid_joinstyle: {'miter', 'round', 'bevel'}\n",
      "      transform: `matplotlib.transforms.Transform`\n",
      "      url: str\n",
      "      visible: bool\n",
      "      xdata: 1D array\n",
      "      ydata: 1D array\n",
      "      zorder: float\n",
      "    \n",
      "    Returns\n",
      "    -------\n",
      "    lines\n",
      "        A list of `.Line2D` objects representing the plotted data.\n",
      "    \n",
      "    See Also\n",
      "    --------\n",
      "    scatter : XY scatter plot with markers of varying size and/or color (\n",
      "        sometimes also called bubble chart).\n",
      "    \n",
      "    Notes\n",
      "    -----\n",
      "    **Format Strings**\n",
      "    \n",
      "    A format string consists of a part for color, marker and line::\n",
      "    \n",
      "        fmt = '[marker][line][color]'\n",
      "    \n",
      "    Each of them is optional. If not provided, the value from the style\n",
      "    cycle is used. Exception: If ``line`` is given, but no ``marker``,\n",
      "    the data will be a line without markers.\n",
      "    \n",
      "    Other combinations such as ``[color][marker][line]`` are also\n",
      "    supported, but note that their parsing may be ambiguous.\n",
      "    \n",
      "    **Markers**\n",
      "    \n",
      "    =============    ===============================\n",
      "    character        description\n",
      "    =============    ===============================\n",
      "    ``'.'``          point marker\n",
      "    ``','``          pixel marker\n",
      "    ``'o'``          circle marker\n",
      "    ``'v'``          triangle_down marker\n",
      "    ``'^'``          triangle_up marker\n",
      "    ``'<'``          triangle_left marker\n",
      "    ``'>'``          triangle_right marker\n",
      "    ``'1'``          tri_down marker\n",
      "    ``'2'``          tri_up marker\n",
      "    ``'3'``          tri_left marker\n",
      "    ``'4'``          tri_right marker\n",
      "    ``'s'``          square marker\n",
      "    ``'p'``          pentagon marker\n",
      "    ``'*'``          star marker\n",
      "    ``'h'``          hexagon1 marker\n",
      "    ``'H'``          hexagon2 marker\n",
      "    ``'+'``          plus marker\n",
      "    ``'x'``          x marker\n",
      "    ``'D'``          diamond marker\n",
      "    ``'d'``          thin_diamond marker\n",
      "    ``'|'``          vline marker\n",
      "    ``'_'``          hline marker\n",
      "    =============    ===============================\n",
      "    \n",
      "    **Line Styles**\n",
      "    \n",
      "    =============    ===============================\n",
      "    character        description\n",
      "    =============    ===============================\n",
      "    ``'-'``          solid line style\n",
      "    ``'--'``         dashed line style\n",
      "    ``'-.'``         dash-dot line style\n",
      "    ``':'``          dotted line style\n",
      "    =============    ===============================\n",
      "    \n",
      "    Example format strings::\n",
      "    \n",
      "        'b'    # blue markers with default shape\n",
      "        'or'   # red circles\n",
      "        '-g'   # green solid line\n",
      "        '--'   # dashed line with default color\n",
      "        '^k:'  # black triangle_up markers connected by a dotted line\n",
      "    \n",
      "    **Colors**\n",
      "    \n",
      "    The supported color abbreviations are the single letter codes\n",
      "    \n",
      "    =============    ===============================\n",
      "    character        color\n",
      "    =============    ===============================\n",
      "    ``'b'``          blue\n",
      "    ``'g'``          green\n",
      "    ``'r'``          red\n",
      "    ``'c'``          cyan\n",
      "    ``'m'``          magenta\n",
      "    ``'y'``          yellow\n",
      "    ``'k'``          black\n",
      "    ``'w'``          white\n",
      "    =============    ===============================\n",
      "    \n",
      "    and the ``'CN'`` colors that index into the default property cycle.\n",
      "    \n",
      "    If the color is the only part of the format string, you can\n",
      "    additionally use any  `matplotlib.colors` spec, e.g. full names\n",
      "    (``'green'``) or hex strings (``'#008000'``).\n",
      "\n"
     ]
    }
   ],
   "source": [
    "help(plt.plot)"
   ]
  },
  {
   "cell_type": "code",
   "execution_count": 31,
   "metadata": {},
   "outputs": [
    {
     "data": {
      "text/plain": [
       "array([0.        , 0.26315789, 0.52631579, 0.78947368, 1.05263158,\n",
       "       1.31578947, 1.57894737, 1.84210526, 2.10526316, 2.36842105,\n",
       "       2.63157895, 2.89473684, 3.15789474, 3.42105263, 3.68421053,\n",
       "       3.94736842, 4.21052632, 4.47368421, 4.73684211, 5.        ])"
      ]
     },
     "execution_count": 31,
     "metadata": {},
     "output_type": "execute_result"
    }
   ],
   "source": [
    "x = np.linspace(0,5,20)\n",
    "x"
   ]
  },
  {
   "cell_type": "code",
   "execution_count": 34,
   "metadata": {
    "collapsed": true
   },
   "outputs": [
    {
     "data": {
      "text/plain": [
       "[<matplotlib.lines.Line2D at 0x23576036cc0>]"
      ]
     },
     "execution_count": 34,
     "metadata": {},
     "output_type": "execute_result"
    },
    {
     "data": {
      "image/png": "[encoded data removed]",
      "text/plain": [
       "<Figure size 432x288 with 1 Axes>"
      ]
     },
     "metadata": {
      "needs_background": "light"
     },
     "output_type": "display_data"
    }
   ],
   "source": [
    "plt.plot(x,x, color = 'purple',marker = '+')\n",
    "plt.plot(x,x**2, color = 'c',marker = 'o')\n",
    "## Give title, x,y labels and legend"
   ]
  },
  {
   "cell_type": "markdown",
   "metadata": {},
   "source": [
    "**Subplots**"
   ]
  },
  {
   "cell_type": "code",
   "execution_count": 39,
   "metadata": {
    "collapsed": true
   },
   "outputs": [
    {
     "data": {
      "image/png": "[encoded data removed]",
      "text/plain": [
       "<Figure size 720x288 with 2 Axes>"
      ]
     },
     "metadata": {
      "needs_background": "light"
     },
     "output_type": "display_data"
    }
   ],
   "source": [
    "fig, (ax1,ax2) = plt.subplots(1,2, figsize = (10,4))"
   ]
  },
  {
   "cell_type": "code",
   "execution_count": 44,
   "metadata": {
    "collapsed": true
   },
   "outputs": [
    {
     "data": {
      "text/plain": [
       "[<matplotlib.lines.Line2D at 0x235771f9630>]"
      ]
     },
     "execution_count": 44,
     "metadata": {},
     "output_type": "execute_result"
    },
    {
     "data": {
      "image/png": "[encoded data removed]",
      "text/plain": [
       "<Figure size 720x288 with 2 Axes>"
      ]
     },
     "metadata": {
      "needs_background": "light"
     },
     "output_type": "display_data"
    }
   ],
   "source": [
    "fig, (ax1,ax2) = plt.subplots(1,2, figsize = (10,4))\n",
    "ax1.plot(x, x, color = 'red', label = 'Line')\n",
    "ax1.set_title('Liner Plot')\n",
    "ax1.set_xlabel('X Axis')\n",
    "ax1.set_ylabel('Y Axis')\n",
    "ax1.legend()\n",
    "\n",
    "ax2.plot(x, x**3, color = 'm')"
   ]
  },
  {
   "cell_type": "code",
   "execution_count": 107,
   "metadata": {},
   "outputs": [
    {
     "data": {
      "text/plain": [
       "array([0.        , 0.26315789, 0.52631579, 0.78947368, 1.05263158,\n",
       "       1.31578947, 1.57894737, 1.84210526, 2.10526316, 2.36842105,\n",
       "       2.63157895, 2.89473684, 3.15789474, 3.42105263, 3.68421053,\n",
       "       3.94736842, 4.21052632, 4.47368421, 4.73684211, 5.        ])"
      ]
     },
     "execution_count": 107,
     "metadata": {},
     "output_type": "execute_result"
    }
   ],
   "source": [
    "h = np.linspace(0,5,20)\n",
    "h"
   ]
  },
  {
   "cell_type": "code",
   "execution_count": 111,
   "metadata": {
    "collapsed": true
   },
   "outputs": [
    {
     "data": {
      "text/plain": [
       "[<matplotlib.lines.Line2D at 0x2357b883780>]"
      ]
     },
     "execution_count": 111,
     "metadata": {},
     "output_type": "execute_result"
    },
    {
     "data": {
      "image/png": "[encoded data removed]",
      "text/plain": [
       "<Figure size 432x288 with 4 Axes>"
      ]
     },
     "metadata": {
      "needs_background": "light"
     },
     "output_type": "display_data"
    }
   ],
   "source": [
    "plt.subplot(222)\n",
    "plt.plot(h,h,\"g*\")\n",
    "plt.subplot(221)\n",
    "plt.plot(h,h**2,\"bo\")\n",
    "plt.subplot(224)\n",
    "plt.plot(h,h**3,\"c--\")\n",
    "plt.subplot(223)\n",
    "plt.plot(h,h**4,\"m-\")"
   ]
  },
  {
   "cell_type": "code",
   "execution_count": 112,
   "metadata": {},
   "outputs": [
    {
     "data": {
      "text/plain": [
       "(<Figure size 720x288 with 222 Axes>,\n",
       " array([<matplotlib.axes._subplots.AxesSubplot object at 0x000002357BB01F60>,\n",
       "        <matplotlib.axes._subplots.AxesSubplot object at 0x000002357B99CF28>,\n",
       "        <matplotlib.axes._subplots.AxesSubplot object at 0x000002357B917518>,\n",
       "        <matplotlib.axes._subplots.AxesSubplot object at 0x000002357B895A90>,\n",
       "        <matplotlib.axes._subplots.AxesSubplot object at 0x000002357BB5B080>,\n",
       "        <matplotlib.axes._subplots.AxesSubplot object at 0x000002357BB8B630>,\n",
       "        <matplotlib.axes._subplots.AxesSubplot object at 0x000002357BBBCBE0>,\n",
       "        <matplotlib.axes._subplots.AxesSubplot object at 0x000002357BBFB198>,\n",
       "        <matplotlib.axes._subplots.AxesSubplot object at 0x000002357BC2E780>,\n",
       "        <matplotlib.axes._subplots.AxesSubplot object at 0x000002357BC5DD30>,\n",
       "        <matplotlib.axes._subplots.AxesSubplot object at 0x000002357BC9D320>,\n",
       "        <matplotlib.axes._subplots.AxesSubplot object at 0x000002357BCC98D0>,\n",
       "        <matplotlib.axes._subplots.AxesSubplot object at 0x000002357BCFEE80>,\n",
       "        <matplotlib.axes._subplots.AxesSubplot object at 0x000002357BD3B470>,\n",
       "        <matplotlib.axes._subplots.AxesSubplot object at 0x000002357BD6AA20>,\n",
       "        <matplotlib.axes._subplots.AxesSubplot object at 0x000002357BDA0FD0>,\n",
       "        <matplotlib.axes._subplots.AxesSubplot object at 0x000002357BDDF5C0>,\n",
       "        <matplotlib.axes._subplots.AxesSubplot object at 0x000002357BE0EB70>,\n",
       "        <matplotlib.axes._subplots.AxesSubplot object at 0x000002357BE4E160>,\n",
       "        <matplotlib.axes._subplots.AxesSubplot object at 0x000002357BE7D710>,\n",
       "        <matplotlib.axes._subplots.AxesSubplot object at 0x000002357BEB0CC0>,\n",
       "        <matplotlib.axes._subplots.AxesSubplot object at 0x000002357BEEE2B0>,\n",
       "        <matplotlib.axes._subplots.AxesSubplot object at 0x000002357BF20860>,\n",
       "        <matplotlib.axes._subplots.AxesSubplot object at 0x000002357BF4FE10>,\n",
       "        <matplotlib.axes._subplots.AxesSubplot object at 0x000002357BF90400>,\n",
       "        <matplotlib.axes._subplots.AxesSubplot object at 0x000002357BFBF9B0>,\n",
       "        <matplotlib.axes._subplots.AxesSubplot object at 0x000002357BFF4F60>,\n",
       "        <matplotlib.axes._subplots.AxesSubplot object at 0x000002357C02E550>,\n",
       "        <matplotlib.axes._subplots.AxesSubplot object at 0x000002357C062B00>,\n",
       "        <matplotlib.axes._subplots.AxesSubplot object at 0x000002357C09F0F0>,\n",
       "        <matplotlib.axes._subplots.AxesSubplot object at 0x000002357C0CF6A0>,\n",
       "        <matplotlib.axes._subplots.AxesSubplot object at 0x000002357C101C50>,\n",
       "        <matplotlib.axes._subplots.AxesSubplot object at 0x000002357C140240>,\n",
       "        <matplotlib.axes._subplots.AxesSubplot object at 0x000002357C1707F0>,\n",
       "        <matplotlib.axes._subplots.AxesSubplot object at 0x000002357C1A6DA0>,\n",
       "        <matplotlib.axes._subplots.AxesSubplot object at 0x000002357C1E2390>,\n",
       "        <matplotlib.axes._subplots.AxesSubplot object at 0x000002357C211940>,\n",
       "        <matplotlib.axes._subplots.AxesSubplot object at 0x000002357C246EF0>,\n",
       "        <matplotlib.axes._subplots.AxesSubplot object at 0x000002357C2804E0>,\n",
       "        <matplotlib.axes._subplots.AxesSubplot object at 0x000002357C2B1A90>,\n",
       "        <matplotlib.axes._subplots.AxesSubplot object at 0x000002357C2F3080>,\n",
       "        <matplotlib.axes._subplots.AxesSubplot object at 0x000002357C320630>,\n",
       "        <matplotlib.axes._subplots.AxesSubplot object at 0x000002357C353BE0>,\n",
       "        <matplotlib.axes._subplots.AxesSubplot object at 0x000002357C3941D0>,\n",
       "        <matplotlib.axes._subplots.AxesSubplot object at 0x000002357C3C5780>,\n",
       "        <matplotlib.axes._subplots.AxesSubplot object at 0x000002357C3F4D30>,\n",
       "        <matplotlib.axes._subplots.AxesSubplot object at 0x000002357C433320>,\n",
       "        <matplotlib.axes._subplots.AxesSubplot object at 0x000002357C4648D0>,\n",
       "        <matplotlib.axes._subplots.AxesSubplot object at 0x000002357C497E80>,\n",
       "        <matplotlib.axes._subplots.AxesSubplot object at 0x000002357C4D1470>,\n",
       "        <matplotlib.axes._subplots.AxesSubplot object at 0x000002357C504A20>,\n",
       "        <matplotlib.axes._subplots.AxesSubplot object at 0x000002357C537FD0>,\n",
       "        <matplotlib.axes._subplots.AxesSubplot object at 0x000002357C5755C0>,\n",
       "        <matplotlib.axes._subplots.AxesSubplot object at 0x000002357C5A5B70>,\n",
       "        <matplotlib.axes._subplots.AxesSubplot object at 0x000002357C5E4160>,\n",
       "        <matplotlib.axes._subplots.AxesSubplot object at 0x000002357C615710>,\n",
       "        <matplotlib.axes._subplots.AxesSubplot object at 0x000002357C648CC0>,\n",
       "        <matplotlib.axes._subplots.AxesSubplot object at 0x000002357C6852B0>,\n",
       "        <matplotlib.axes._subplots.AxesSubplot object at 0x000002357C6B7860>,\n",
       "        <matplotlib.axes._subplots.AxesSubplot object at 0x000002357C6E7E10>,\n",
       "        <matplotlib.axes._subplots.AxesSubplot object at 0x000002357C727400>,\n",
       "        <matplotlib.axes._subplots.AxesSubplot object at 0x000002357C7599B0>,\n",
       "        <matplotlib.axes._subplots.AxesSubplot object at 0x000002357C78AF60>,\n",
       "        <matplotlib.axes._subplots.AxesSubplot object at 0x000002357A4688D0>,\n",
       "        <matplotlib.axes._subplots.AxesSubplot object at 0x000002357A57CDA0>,\n",
       "        <matplotlib.axes._subplots.AxesSubplot object at 0x000002357BAABE48>,\n",
       "        <matplotlib.axes._subplots.AxesSubplot object at 0x000002357BA10BA8>,\n",
       "        <matplotlib.axes._subplots.AxesSubplot object at 0x000002357C7F8198>,\n",
       "        <matplotlib.axes._subplots.AxesSubplot object at 0x000002357C829748>,\n",
       "        <matplotlib.axes._subplots.AxesSubplot object at 0x000002357C85DCF8>,\n",
       "        <matplotlib.axes._subplots.AxesSubplot object at 0x000002357C8992E8>,\n",
       "        <matplotlib.axes._subplots.AxesSubplot object at 0x000002357C8CB898>,\n",
       "        <matplotlib.axes._subplots.AxesSubplot object at 0x000002357C8FFE48>,\n",
       "        <matplotlib.axes._subplots.AxesSubplot object at 0x000002357C93C438>,\n",
       "        <matplotlib.axes._subplots.AxesSubplot object at 0x000002357C96B9E8>,\n",
       "        <matplotlib.axes._subplots.AxesSubplot object at 0x000002357C99EF98>,\n",
       "        <matplotlib.axes._subplots.AxesSubplot object at 0x000002357C9DB588>,\n",
       "        <matplotlib.axes._subplots.AxesSubplot object at 0x000002357CA0DB38>,\n",
       "        <matplotlib.axes._subplots.AxesSubplot object at 0x000002357CA4B128>,\n",
       "        <matplotlib.axes._subplots.AxesSubplot object at 0x000002357CA7B6D8>,\n",
       "        <matplotlib.axes._subplots.AxesSubplot object at 0x000002357CAAFC88>,\n",
       "        <matplotlib.axes._subplots.AxesSubplot object at 0x000002357CAEC278>,\n",
       "        <matplotlib.axes._subplots.AxesSubplot object at 0x000002357CB1D828>,\n",
       "        <matplotlib.axes._subplots.AxesSubplot object at 0x000002357CB50DD8>,\n",
       "        <matplotlib.axes._subplots.AxesSubplot object at 0x000002357CB8C3C8>,\n",
       "        <matplotlib.axes._subplots.AxesSubplot object at 0x000002357CBBE978>,\n",
       "        <matplotlib.axes._subplots.AxesSubplot object at 0x000002357CBF1F28>,\n",
       "        <matplotlib.axes._subplots.AxesSubplot object at 0x000002357CC2D518>,\n",
       "        <matplotlib.axes._subplots.AxesSubplot object at 0x000002357CC5FAC8>,\n",
       "        <matplotlib.axes._subplots.AxesSubplot object at 0x000002357CC9F0B8>,\n",
       "        <matplotlib.axes._subplots.AxesSubplot object at 0x000002357CCD0668>,\n",
       "        <matplotlib.axes._subplots.AxesSubplot object at 0x000002357CD01C18>,\n",
       "        <matplotlib.axes._subplots.AxesSubplot object at 0x000002357CD3E208>,\n",
       "        <matplotlib.axes._subplots.AxesSubplot object at 0x000002357CD6F7B8>,\n",
       "        <matplotlib.axes._subplots.AxesSubplot object at 0x000002357CDA1D68>,\n",
       "        <matplotlib.axes._subplots.AxesSubplot object at 0x000002357CDDF358>,\n",
       "        <matplotlib.axes._subplots.AxesSubplot object at 0x000002357CE0E908>,\n",
       "        <matplotlib.axes._subplots.AxesSubplot object at 0x000002357CE42EB8>,\n",
       "        <matplotlib.axes._subplots.AxesSubplot object at 0x000002357CE814A8>,\n",
       "        <matplotlib.axes._subplots.AxesSubplot object at 0x000002357CEAFA58>,\n",
       "        <matplotlib.axes._subplots.AxesSubplot object at 0x000002357CEF4048>,\n",
       "        <matplotlib.axes._subplots.AxesSubplot object at 0x000002357CF215F8>,\n",
       "        <matplotlib.axes._subplots.AxesSubplot object at 0x000002357CF52BA8>,\n",
       "        <matplotlib.axes._subplots.AxesSubplot object at 0x000002357CF91198>,\n",
       "        <matplotlib.axes._subplots.AxesSubplot object at 0x000002357CFC2748>,\n",
       "        <matplotlib.axes._subplots.AxesSubplot object at 0x000002357CFF2CF8>,\n",
       "        <matplotlib.axes._subplots.AxesSubplot object at 0x000002357D0312E8>,\n",
       "        <matplotlib.axes._subplots.AxesSubplot object at 0x000002357D063898>,\n",
       "        <matplotlib.axes._subplots.AxesSubplot object at 0x000002357D095E48>,\n",
       "        <matplotlib.axes._subplots.AxesSubplot object at 0x000002357D0D3438>,\n",
       "        <matplotlib.axes._subplots.AxesSubplot object at 0x000002357D1029E8>,\n",
       "        <matplotlib.axes._subplots.AxesSubplot object at 0x000002357D137F98>,\n",
       "        <matplotlib.axes._subplots.AxesSubplot object at 0x000002357D172588>,\n",
       "        <matplotlib.axes._subplots.AxesSubplot object at 0x000002357D1A3B38>,\n",
       "        <matplotlib.axes._subplots.AxesSubplot object at 0x000002357D1E3128>,\n",
       "        <matplotlib.axes._subplots.AxesSubplot object at 0x000002357D2126D8>,\n",
       "        <matplotlib.axes._subplots.AxesSubplot object at 0x000002357D244C88>,\n",
       "        <matplotlib.axes._subplots.AxesSubplot object at 0x000002357E253278>,\n",
       "        <matplotlib.axes._subplots.AxesSubplot object at 0x000002357E286828>,\n",
       "        <matplotlib.axes._subplots.AxesSubplot object at 0x000002357E2B7DD8>,\n",
       "        <matplotlib.axes._subplots.AxesSubplot object at 0x000002357E2F43C8>,\n",
       "        <matplotlib.axes._subplots.AxesSubplot object at 0x000002357E327978>,\n",
       "        <matplotlib.axes._subplots.AxesSubplot object at 0x000002357E359F28>,\n",
       "        <matplotlib.axes._subplots.AxesSubplot object at 0x000002357E394518>,\n",
       "        <matplotlib.axes._subplots.AxesSubplot object at 0x000002357E3C6AC8>,\n",
       "        <matplotlib.axes._subplots.AxesSubplot object at 0x000002357E4070B8>,\n",
       "        <matplotlib.axes._subplots.AxesSubplot object at 0x000002357E437668>,\n",
       "        <matplotlib.axes._subplots.AxesSubplot object at 0x000002357E467C18>,\n",
       "        <matplotlib.axes._subplots.AxesSubplot object at 0x000002357E4A6208>,\n",
       "        <matplotlib.axes._subplots.AxesSubplot object at 0x000002357E4D77B8>,\n",
       "        <matplotlib.axes._subplots.AxesSubplot object at 0x000002357E508D68>,\n",
       "        <matplotlib.axes._subplots.AxesSubplot object at 0x000002357E547358>,\n",
       "        <matplotlib.axes._subplots.AxesSubplot object at 0x000002357E575908>,\n",
       "        <matplotlib.axes._subplots.AxesSubplot object at 0x000002357E5AAEB8>,\n",
       "        <matplotlib.axes._subplots.AxesSubplot object at 0x000002357E5E74A8>,\n",
       "        <matplotlib.axes._subplots.AxesSubplot object at 0x000002357E619A58>,\n",
       "        <matplotlib.axes._subplots.AxesSubplot object at 0x000002357E65D048>,\n",
       "        <matplotlib.axes._subplots.AxesSubplot object at 0x000002357E6885F8>,\n",
       "        <matplotlib.axes._subplots.AxesSubplot object at 0x000002357E6B9BA8>,\n",
       "        <matplotlib.axes._subplots.AxesSubplot object at 0x000002357E6FA198>,\n",
       "        <matplotlib.axes._subplots.AxesSubplot object at 0x000002357E729748>,\n",
       "        <matplotlib.axes._subplots.AxesSubplot object at 0x000002357E759CF8>,\n",
       "        <matplotlib.axes._subplots.AxesSubplot object at 0x000002357E79A2E8>,\n",
       "        <matplotlib.axes._subplots.AxesSubplot object at 0x000002357E7CA898>,\n",
       "        <matplotlib.axes._subplots.AxesSubplot object at 0x000002357E7FDE48>,\n",
       "        <matplotlib.axes._subplots.AxesSubplot object at 0x000002357E83B438>,\n",
       "        <matplotlib.axes._subplots.AxesSubplot object at 0x000002357E86B9E8>,\n",
       "        <matplotlib.axes._subplots.AxesSubplot object at 0x000002357E89DF98>,\n",
       "        <matplotlib.axes._subplots.AxesSubplot object at 0x000002357E8DA588>,\n",
       "        <matplotlib.axes._subplots.AxesSubplot object at 0x000002357E90BB38>,\n",
       "        <matplotlib.axes._subplots.AxesSubplot object at 0x000002357E94A128>,\n",
       "        <matplotlib.axes._subplots.AxesSubplot object at 0x000002357E97A6D8>,\n",
       "        <matplotlib.axes._subplots.AxesSubplot object at 0x000002357E9ADC88>,\n",
       "        <matplotlib.axes._subplots.AxesSubplot object at 0x000002357E9EC278>,\n",
       "        <matplotlib.axes._subplots.AxesSubplot object at 0x000002357EA1D828>,\n",
       "        <matplotlib.axes._subplots.AxesSubplot object at 0x000002357EA4FDD8>,\n",
       "        <matplotlib.axes._subplots.AxesSubplot object at 0x000002357EA8B3C8>,\n",
       "        <matplotlib.axes._subplots.AxesSubplot object at 0x000002357EABD978>,\n",
       "        <matplotlib.axes._subplots.AxesSubplot object at 0x000002357EAEFF28>,\n",
       "        <matplotlib.axes._subplots.AxesSubplot object at 0x000002357EB2B518>,\n",
       "        <matplotlib.axes._subplots.AxesSubplot object at 0x000002357EB5EAC8>,\n",
       "        <matplotlib.axes._subplots.AxesSubplot object at 0x000002357EB9E0B8>,\n",
       "        <matplotlib.axes._subplots.AxesSubplot object at 0x000002357EBCD668>,\n",
       "        <matplotlib.axes._subplots.AxesSubplot object at 0x000002357EBFEC18>,\n",
       "        <matplotlib.axes._subplots.AxesSubplot object at 0x000002357EC3D208>,\n",
       "        <matplotlib.axes._subplots.AxesSubplot object at 0x000002357EC6D7B8>,\n",
       "        <matplotlib.axes._subplots.AxesSubplot object at 0x000002357EC9FD68>,\n",
       "        <matplotlib.axes._subplots.AxesSubplot object at 0x000002357ECDF358>,\n",
       "        <matplotlib.axes._subplots.AxesSubplot object at 0x000002357ED0D908>,\n",
       "        <matplotlib.axes._subplots.AxesSubplot object at 0x000002357ED40EB8>,\n",
       "        <matplotlib.axes._subplots.AxesSubplot object at 0x000002357ED7F4A8>,\n",
       "        <matplotlib.axes._subplots.AxesSubplot object at 0x000002357EDAFA58>,\n",
       "        <matplotlib.axes._subplots.AxesSubplot object at 0x000002357EDF4048>,\n",
       "        <matplotlib.axes._subplots.AxesSubplot object at 0x000002357EE1F5F8>,\n",
       "        <matplotlib.axes._subplots.AxesSubplot object at 0x000002357EE51BA8>,\n",
       "        <matplotlib.axes._subplots.AxesSubplot object at 0x000002357EE90198>,\n",
       "        <matplotlib.axes._subplots.AxesSubplot object at 0x000002357EEBE748>,\n",
       "        <matplotlib.axes._subplots.AxesSubplot object at 0x000002357EEF2CF8>,\n",
       "        <matplotlib.axes._subplots.AxesSubplot object at 0x000002357EF302E8>,\n",
       "        <matplotlib.axes._subplots.AxesSubplot object at 0x000002357EF60898>,\n",
       "        <matplotlib.axes._subplots.AxesSubplot object at 0x000002357EF94E48>,\n",
       "        <matplotlib.axes._subplots.AxesSubplot object at 0x000002357EFD3438>,\n",
       "        <matplotlib.axes._subplots.AxesSubplot object at 0x000002357F0019E8>,\n",
       "        <matplotlib.axes._subplots.AxesSubplot object at 0x000002357F035F98>,\n",
       "        <matplotlib.axes._subplots.AxesSubplot object at 0x000002357F072588>,\n",
       "        <matplotlib.axes._subplots.AxesSubplot object at 0x000002357F0A3B38>,\n",
       "        <matplotlib.axes._subplots.AxesSubplot object at 0x000002357F0E3128>,\n",
       "        <matplotlib.axes._subplots.AxesSubplot object at 0x000002357F1106D8>,\n",
       "        <matplotlib.axes._subplots.AxesSubplot object at 0x000002357F144C88>,\n",
       "        <matplotlib.axes._subplots.AxesSubplot object at 0x000002357F183278>,\n",
       "        <matplotlib.axes._subplots.AxesSubplot object at 0x000002357F1B4828>,\n",
       "        <matplotlib.axes._subplots.AxesSubplot object at 0x000002357F1E6DD8>,\n",
       "        <matplotlib.axes._subplots.AxesSubplot object at 0x000002357F2233C8>,\n",
       "        <matplotlib.axes._subplots.AxesSubplot object at 0x000002357F255978>,\n",
       "        <matplotlib.axes._subplots.AxesSubplot object at 0x000002357F286F28>,\n",
       "        <matplotlib.axes._subplots.AxesSubplot object at 0x000002357F2C3518>,\n",
       "        <matplotlib.axes._subplots.AxesSubplot object at 0x000002357F2F5AC8>,\n",
       "        <matplotlib.axes._subplots.AxesSubplot object at 0x000002357F3340B8>,\n",
       "        <matplotlib.axes._subplots.AxesSubplot object at 0x000002357F366668>,\n",
       "        <matplotlib.axes._subplots.AxesSubplot object at 0x000002357F395C18>,\n",
       "        <matplotlib.axes._subplots.AxesSubplot object at 0x000002357F3D4208>,\n",
       "        <matplotlib.axes._subplots.AxesSubplot object at 0x000002357F4057B8>,\n",
       "        <matplotlib.axes._subplots.AxesSubplot object at 0x000002357F439D68>,\n",
       "        <matplotlib.axes._subplots.AxesSubplot object at 0x000002357F476358>,\n",
       "        <matplotlib.axes._subplots.AxesSubplot object at 0x000002357F4A6908>,\n",
       "        <matplotlib.axes._subplots.AxesSubplot object at 0x000002357F4D9EB8>,\n",
       "        <matplotlib.axes._subplots.AxesSubplot object at 0x000002357F5174A8>,\n",
       "        <matplotlib.axes._subplots.AxesSubplot object at 0x000002357F548A58>,\n",
       "        <matplotlib.axes._subplots.AxesSubplot object at 0x000002357F585048>,\n",
       "        <matplotlib.axes._subplots.AxesSubplot object at 0x000002357F5B75F8>,\n",
       "        <matplotlib.axes._subplots.AxesSubplot object at 0x000002357F5E9BA8>,\n",
       "        <matplotlib.axes._subplots.AxesSubplot object at 0x000002357F627198>,\n",
       "        <matplotlib.axes._subplots.AxesSubplot object at 0x000002357F657748>,\n",
       "        <matplotlib.axes._subplots.AxesSubplot object at 0x000002357F689CF8>,\n",
       "        <matplotlib.axes._subplots.AxesSubplot object at 0x000002357F6C72E8>,\n",
       "        <matplotlib.axes._subplots.AxesSubplot object at 0x000002357F6F8898>,\n",
       "        <matplotlib.axes._subplots.AxesSubplot object at 0x000002357F72CE48>,\n",
       "        <matplotlib.axes._subplots.AxesSubplot object at 0x000002357F76A438>,\n",
       "        <matplotlib.axes._subplots.AxesSubplot object at 0x000002357F79A9E8>,\n",
       "        <matplotlib.axes._subplots.AxesSubplot object at 0x000002357F7CEF98>,\n",
       "        <matplotlib.axes._subplots.AxesSubplot object at 0x000002357F80A588>,\n",
       "        <matplotlib.axes._subplots.AxesSubplot object at 0x000002357F83BB38>],\n",
       "       dtype=object))"
      ]
     },
     "execution_count": 112,
     "metadata": {},
     "output_type": "execute_result"
    },
    {
     "data": {
      "image/png": "[encoded data removed]",
      "text/plain": [
       "<Figure size 720x288 with 222 Axes>"
      ]
     },
     "metadata": {
      "needs_background": "light"
     },
     "output_type": "display_data"
    }
   ],
   "source": [
    "plt.subplots(222, figsize = (10,4))"
   ]
  },
  {
   "cell_type": "markdown",
   "metadata": {},
   "source": [
    "- Display multiple lines in Subplots and apply titles, colors etc.."
   ]
  },
  {
   "cell_type": "code",
   "execution_count": 45,
   "metadata": {},
   "outputs": [],
   "source": [
    "x1 = np.arange(100)"
   ]
  },
  {
   "cell_type": "code",
   "execution_count": 51,
   "metadata": {
    "collapsed": true
   },
   "outputs": [
    {
     "data": {
      "text/plain": [
       "[<matplotlib.lines.Line2D at 0x23576cc1160>]"
      ]
     },
     "execution_count": 51,
     "metadata": {},
     "output_type": "execute_result"
    },
    {
     "data": {
      "image/png": "[encoded data removed]",
      "text/plain": [
       "<Figure size 432x288 with 1 Axes>"
      ]
     },
     "metadata": {
      "needs_background": "light"
     },
     "output_type": "display_data"
    }
   ],
   "source": [
    "plt.plot(x1, x1 + 10, linestyle = '-.', color = 'r')\n",
    "plt.plot(x1, x1 + 15, linestyle = '--', color = 'm')\n",
    "plt.plot(x1, x1 + 20, linestyle = '-', color = 'b')"
   ]
  },
  {
   "cell_type": "code",
   "execution_count": 61,
   "metadata": {
    "collapsed": true
   },
   "outputs": [
    {
     "data": {
      "text/plain": [
       "array([10.        , 10.40816327, 10.81632653, 11.2244898 , 11.63265306,\n",
       "       12.04081633, 12.44897959, 12.85714286, 13.26530612, 13.67346939,\n",
       "       14.08163265, 14.48979592, 14.89795918, 15.30612245, 15.71428571,\n",
       "       16.12244898, 16.53061224, 16.93877551, 17.34693878, 17.75510204,\n",
       "       18.16326531, 18.57142857, 18.97959184, 19.3877551 , 19.79591837,\n",
       "       20.20408163, 20.6122449 , 21.02040816, 21.42857143, 21.83673469,\n",
       "       22.24489796, 22.65306122, 23.06122449, 23.46938776, 23.87755102,\n",
       "       24.28571429, 24.69387755, 25.10204082, 25.51020408, 25.91836735,\n",
       "       26.32653061, 26.73469388, 27.14285714, 27.55102041, 27.95918367,\n",
       "       28.36734694, 28.7755102 , 29.18367347, 29.59183673, 30.        ])"
      ]
     },
     "execution_count": 61,
     "metadata": {},
     "output_type": "execute_result"
    }
   ],
   "source": [
    "x2 = np.linspace(10,30,50)\n",
    "x2"
   ]
  },
  {
   "cell_type": "code",
   "execution_count": 70,
   "metadata": {
    "collapsed": true
   },
   "outputs": [
    {
     "data": {
      "text/plain": [
       "[<matplotlib.lines.Line2D at 0x23579f9b240>]"
      ]
     },
     "execution_count": 70,
     "metadata": {},
     "output_type": "execute_result"
    },
    {
     "data": {
      "image/png": "[encoded data removed]",
      "text/plain": [
       "<Figure size 432x288 with 1 Axes>"
      ]
     },
     "metadata": {
      "needs_background": "light"
     },
     "output_type": "display_data"
    }
   ],
   "source": [
    "plt.plot(x2, np.sin(x2), color = 'r', marker = 'D', markersize = 10, markerfacecolor = 'g', \n",
    "         linewidth = 5.1)\n",
    "plt.plot(x2, np.cos(x2), color = 'm', marker = 'H', markersize = 18,markerfacecolor = 'w')"
   ]
  },
  {
   "cell_type": "markdown",
   "metadata": {},
   "source": [
    "### 2. Bar Chart\n",
    "- plt.bar()"
   ]
  },
  {
   "cell_type": "code",
   "execution_count": 72,
   "metadata": {
    "collapsed": true
   },
   "outputs": [
    {
     "data": {
      "text/plain": [
       "<BarContainer object of 4 artists>"
      ]
     },
     "execution_count": 72,
     "metadata": {},
     "output_type": "execute_result"
    },
    {
     "data": {
      "image/png": "[encoded data removed]",
      "text/plain": [
       "<Figure size 432x288 with 1 Axes>"
      ]
     },
     "metadata": {
      "needs_background": "light"
     },
     "output_type": "display_data"
    }
   ],
   "source": [
    "year = ['2019 Dec','2020 Feb','2020 July','2020 Oct']\n",
    "Goldcost = [1000,3000,5000,3500]\n",
    "plt.bar(year, Goldcost, color = 'g')"
   ]
  },
  {
   "cell_type": "code",
   "execution_count": 73,
   "metadata": {
    "collapsed": true
   },
   "outputs": [
    {
     "name": "stdout",
     "output_type": "stream",
     "text": [
      "Help on function bar in module matplotlib.pyplot:\n",
      "\n",
      "bar(x, height, width=0.8, bottom=None, *, align='center', data=None, **kwargs)\n",
      "    Make a bar plot.\n",
      "    \n",
      "    The bars are positioned at *x* with the given *align*\\ment. Their\n",
      "    dimensions are given by *width* and *height*. The vertical baseline\n",
      "    is *bottom* (default 0).\n",
      "    \n",
      "    Each of *x*, *height*, *width*, and *bottom* may either be a scalar\n",
      "    applying to all bars, or it may be a sequence of length N providing a\n",
      "    separate value for each bar.\n",
      "    \n",
      "    Parameters\n",
      "    ----------\n",
      "    x : sequence of scalars\n",
      "        The x coordinates of the bars. See also *align* for the\n",
      "        alignment of the bars to the coordinates.\n",
      "    \n",
      "    height : scalar or sequence of scalars\n",
      "        The height(s) of the bars.\n",
      "    \n",
      "    width : scalar or array-like, optional\n",
      "        The width(s) of the bars (default: 0.8).\n",
      "    \n",
      "    bottom : scalar or array-like, optional\n",
      "        The y coordinate(s) of the bars bases (default: 0).\n",
      "    \n",
      "    align : {'center', 'edge'}, optional, default: 'center'\n",
      "        Alignment of the bars to the *x* coordinates:\n",
      "    \n",
      "        - 'center': Center the base on the *x* positions.\n",
      "        - 'edge': Align the left edges of the bars with the *x* positions.\n",
      "    \n",
      "        To align the bars on the right edge pass a negative *width* and\n",
      "        ``align='edge'``.\n",
      "    \n",
      "    Returns\n",
      "    -------\n",
      "    container : `.BarContainer`\n",
      "        Container with all the bars and optionally errorbars.\n",
      "    \n",
      "    Other Parameters\n",
      "    ----------------\n",
      "    color : scalar or array-like, optional\n",
      "        The colors of the bar faces.\n",
      "    \n",
      "    edgecolor : scalar or array-like, optional\n",
      "        The colors of the bar edges.\n",
      "    \n",
      "    linewidth : scalar or array-like, optional\n",
      "        Width of the bar edge(s). If 0, don't draw edges.\n",
      "    \n",
      "    tick_label : string or array-like, optional\n",
      "        The tick labels of the bars.\n",
      "        Default: None (Use default numeric labels.)\n",
      "    \n",
      "    xerr, yerr : scalar or array-like of shape(N,) or shape(2,N), optional\n",
      "        If not *None*, add horizontal / vertical errorbars to the bar tips.\n",
      "        The values are +/- sizes relative to the data:\n",
      "    \n",
      "        - scalar: symmetric +/- values for all bars\n",
      "        - shape(N,): symmetric +/- values for each bar\n",
      "        - shape(2,N): Separate - and + values for each bar. First row\n",
      "            contains the lower errors, the second row contains the\n",
      "            upper errors.\n",
      "        - *None*: No errorbar. (Default)\n",
      "    \n",
      "        See :doc:`/gallery/statistics/errorbar_features`\n",
      "        for an example on the usage of ``xerr`` and ``yerr``.\n",
      "    \n",
      "    ecolor : scalar or array-like, optional, default: 'black'\n",
      "        The line color of the errorbars.\n",
      "    \n",
      "    capsize : scalar, optional\n",
      "       The length of the error bar caps in points.\n",
      "       Default: None, which will take the value from\n",
      "       :rc:`errorbar.capsize`.\n",
      "    \n",
      "    error_kw : dict, optional\n",
      "        Dictionary of kwargs to be passed to the `~.Axes.errorbar`\n",
      "        method. Values of *ecolor* or *capsize* defined here take\n",
      "        precedence over the independent kwargs.\n",
      "    \n",
      "    log : bool, optional, default: False\n",
      "        If *True*, set the y-axis to be log scale.\n",
      "    \n",
      "    orientation : {'vertical',  'horizontal'}, optional\n",
      "        *This is for internal use only.* Please use `barh` for\n",
      "        horizontal bar plots. Default: 'vertical'.\n",
      "    \n",
      "    See also\n",
      "    --------\n",
      "    barh: Plot a horizontal bar plot.\n",
      "    \n",
      "    Notes\n",
      "    -----\n",
      "    The optional arguments *color*, *edgecolor*, *linewidth*,\n",
      "    *xerr*, and *yerr* can be either scalars or sequences of\n",
      "    length equal to the number of bars.  This enables you to use\n",
      "    bar as the basis for stacked bar charts, or candlestick plots.\n",
      "    Detail: *xerr* and *yerr* are passed directly to\n",
      "    :meth:`errorbar`, so they can also have shape 2xN for\n",
      "    independent specification of lower and upper errors.\n",
      "    \n",
      "    Other optional kwargs:\n",
      "    \n",
      "      agg_filter: a filter function, which takes a (m, n, 3) float array and a dpi value, and returns a (m, n, 3) array\n",
      "      alpha: float or None\n",
      "      animated: bool\n",
      "      antialiased or aa: unknown\n",
      "      capstyle: {'butt', 'round', 'projecting'}\n",
      "      clip_box: `.Bbox`\n",
      "      clip_on: bool\n",
      "      clip_path: [(`~matplotlib.path.Path`, `.Transform`) | `.Patch` | None]\n",
      "      color: color\n",
      "      contains: callable\n",
      "      edgecolor or ec: color or None or 'auto'\n",
      "      facecolor or fc: color or None\n",
      "      figure: `.Figure`\n",
      "      fill: bool\n",
      "      gid: str\n",
      "      hatch: {'/', '\\\\', '|', '-', '+', 'x', 'o', 'O', '.', '*'}\n",
      "      in_layout: bool\n",
      "      joinstyle: {'miter', 'round', 'bevel'}\n",
      "      label: object\n",
      "      linestyle or ls: {'-', '--', '-.', ':', '', (offset, on-off-seq), ...}\n",
      "      linewidth or lw: float or None\n",
      "      path_effects: `.AbstractPathEffect`\n",
      "      picker: None or bool or float or callable\n",
      "      rasterized: bool or None\n",
      "      sketch_params: (scale: float, length: float, randomness: float)\n",
      "      snap: bool or None\n",
      "      transform: `.Transform`\n",
      "      url: str\n",
      "      visible: bool\n",
      "      zorder: float\n",
      "    \n",
      "    .. note::\n",
      "        In addition to the above described arguments, this function can take a\n",
      "        **data** keyword argument. If such a **data** argument is given, the\n",
      "        following arguments are replaced by **data[<arg>]**:\n",
      "    \n",
      "        * All positional and all keyword arguments.\n",
      "    \n",
      "        Objects passed as **data** must support item access (``data[<arg>]``) and\n",
      "        membership test (``<arg> in data``).\n",
      "\n"
     ]
    }
   ],
   "source": [
    "help(plt.bar)"
   ]
  },
  {
   "cell_type": "markdown",
   "metadata": {},
   "source": [
    "- plt.barh(): For horizontal bar"
   ]
  },
  {
   "cell_type": "code",
   "execution_count": 74,
   "metadata": {
    "collapsed": true
   },
   "outputs": [
    {
     "data": {
      "text/plain": [
       "<BarContainer object of 4 artists>"
      ]
     },
     "execution_count": 74,
     "metadata": {},
     "output_type": "execute_result"
    },
    {
     "data": {
      "image/png": "[encoded data removed]",
      "text/plain": [
       "<Figure size 432x288 with 1 Axes>"
      ]
     },
     "metadata": {
      "needs_background": "light"
     },
     "output_type": "display_data"
    }
   ],
   "source": [
    "plt.barh(year, Goldcost)"
   ]
  },
  {
   "cell_type": "code",
   "execution_count": 75,
   "metadata": {},
   "outputs": [
    {
     "data": {
      "text/plain": [
       "array([0, 1, 2, 3, 4])"
      ]
     },
     "execution_count": 75,
     "metadata": {},
     "output_type": "execute_result"
    }
   ],
   "source": [
    "x = np.arange(5)\n",
    "x"
   ]
  },
  {
   "cell_type": "code",
   "execution_count": 76,
   "metadata": {
    "collapsed": true
   },
   "outputs": [
    {
     "data": {
      "text/plain": [
       "<BarContainer object of 5 artists>"
      ]
     },
     "execution_count": 76,
     "metadata": {},
     "output_type": "execute_result"
    },
    {
     "data": {
      "image/png": "[encoded data removed]",
      "text/plain": [
       "<Figure size 432x288 with 1 Axes>"
      ]
     },
     "metadata": {
      "needs_background": "light"
     },
     "output_type": "display_data"
    }
   ],
   "source": [
    "plt.bar(x, [10,11,12,13,14])\n",
    "plt.bar(x, [50,6,22,3,5])"
   ]
  },
  {
   "cell_type": "code",
   "execution_count": 78,
   "metadata": {
    "collapsed": true
   },
   "outputs": [
    {
     "data": {
      "text/plain": [
       "<BarContainer object of 5 artists>"
      ]
     },
     "execution_count": 78,
     "metadata": {},
     "output_type": "execute_result"
    },
    {
     "data": {
      "image/png": "[encoded data removed]",
      "text/plain": [
       "<Figure size 432x288 with 1 Axes>"
      ]
     },
     "metadata": {
      "needs_background": "light"
     },
     "output_type": "display_data"
    }
   ],
   "source": [
    "plt.bar(x, [10,11,12,13,14], width = 0.33)\n",
    "plt.bar(x + 0.33, [50,6,22,3,5],width = 0.33)"
   ]
  },
  {
   "cell_type": "code",
   "execution_count": 81,
   "metadata": {
    "collapsed": true
   },
   "outputs": [
    {
     "data": {
      "text/plain": [
       "<BarContainer object of 5 artists>"
      ]
     },
     "execution_count": 81,
     "metadata": {},
     "output_type": "execute_result"
    },
    {
     "data": {
      "image/png": "[encoded data removed]",
      "text/plain": [
       "<Figure size 432x288 with 1 Axes>"
      ]
     },
     "metadata": {
      "needs_background": "light"
     },
     "output_type": "display_data"
    }
   ],
   "source": [
    "plt.bar(x, [10,11,12,13,14], color = ['g','c','pink','m','r'])"
   ]
  },
  {
   "cell_type": "markdown",
   "metadata": {},
   "source": [
    "### Scatter plot\n",
    "- It is similar to line plot\n",
    "- plt.scatter()"
   ]
  },
  {
   "cell_type": "code",
   "execution_count": 82,
   "metadata": {
    "collapsed": true
   },
   "outputs": [
    {
     "data": {
      "text/plain": [
       "<matplotlib.collections.PathCollection at 0x2357a3d87b8>"
      ]
     },
     "execution_count": 82,
     "metadata": {},
     "output_type": "execute_result"
    },
    {
     "data": {
      "image/png": "[encoded data removed]",
      "text/plain": [
       "<Figure size 432x288 with 1 Axes>"
      ]
     },
     "metadata": {
      "needs_background": "light"
     },
     "output_type": "display_data"
    }
   ],
   "source": [
    "plt.scatter([1,5],[2,10])\n",
    "## (1,2) (5,10)"
   ]
  },
  {
   "cell_type": "code",
   "execution_count": 86,
   "metadata": {},
   "outputs": [
    {
     "data": {
      "text/plain": [
       "<matplotlib.collections.PathCollection at 0x2357b590f98>"
      ]
     },
     "execution_count": 86,
     "metadata": {},
     "output_type": "execute_result"
    },
    {
     "data": {
      "image/png": "[encoded data removed]",
      "text/plain": [
       "<Figure size 432x288 with 1 Axes>"
      ]
     },
     "metadata": {
      "needs_background": "light"
     },
     "output_type": "display_data"
    }
   ],
   "source": [
    "x = np.linspace(0,10,30)\n",
    "y = np.sin(x)\n",
    "plt.scatter(x,y, color = 'g', marker = 'v')"
   ]
  },
  {
   "cell_type": "markdown",
   "metadata": {},
   "source": [
    "### Boxplot\n",
    "- It gives the summary of numerical data through quartiles\n",
    "- Min\n",
    "- IQR\n",
    "    - Lower quartile\n",
    "    - Median\n",
    "    - Upper Quartile\n",
    "- Max\n",
    "\n",
    "\n",
    "- plt.boxplot()"
   ]
  },
  {
   "cell_type": "code",
   "execution_count": 87,
   "metadata": {
    "collapsed": true
   },
   "outputs": [
    {
     "data": {
      "text/plain": [
       "array([ 9432, 10484,  4766,  5510, 22898,  2032, 17430, 24329,  9981,\n",
       "        2321,  7470, 22744, 23698,  3513,  9219,  2612, 17194,  9270,\n",
       "        5751,  5154,  4349, 12643,  2115, 10558, 14710,  8534, 17033,\n",
       "        6133, 15667, 16579,  8370, 23968, 17838, 18932,  3696,  3400,\n",
       "       13708, 21667,  8749, 24816, 12273, 19617, 10943,  9535, 14303,\n",
       "       24173, 19708,  4083,  2009,  7179, 13845, 23916,  7107,  9881,\n",
       "       21666,  4188, 13027,  5881, 16178,  7499, 15991, 15766, 18248,\n",
       "       11689,  2473, 23035, 18915,  7057, 20320,  2089, 23236,  8666,\n",
       "       13705, 16144, 17331, 12274, 13208, 24858, 21961, 10945, 20204,\n",
       "       12904,  5746,  7037,  3362,  2129,  6205,  7135,  9925, 19481,\n",
       "       24006,  9085, 21807,  8405, 24240,  2573, 22339, 13097,  4942,\n",
       "       23628, 24900,  3735,  3854, 24807, 18053,  7904,  7325, 17921,\n",
       "       14803, 16169, 14889, 13130,  9699, 17696,  9513, 12409, 10555,\n",
       "       15173,  7291, 13841,  3374, 23942,  9325, 14759, 15898, 11036,\n",
       "       14926, 23078, 24281, 13979,  2886,  5341,  6811,  2779,  4333,\n",
       "       20053, 10244, 20380, 23644,  3471, 21503, 12115, 10214, 14368,\n",
       "       24436,  9030,  2127, 23403, 17959,  7819, 11851,  4188, 21590,\n",
       "       20745, 18316, 18016, 20754, 22176, 16959,  6370, 21152, 13897,\n",
       "        4976, 17743, 13835, 20993,  2888, 17377, 17730,  3122, 18030,\n",
       "       10674, 24364, 22076,  8253, 11634, 19705, 23374,  2414, 19922,\n",
       "        2550, 21452, 21961, 12604, 13929,  3791, 19798,  6761,  5107,\n",
       "        9508, 14724,  8661, 15478,  5138,  8777,  8930, 11066,  7938,\n",
       "       10790, 13642,  4874,  5996, 17723,  8387, 24404,  8500, 16675,\n",
       "       13816, 13175, 20521, 16868,  5111, 21337,  2493, 15599, 10981,\n",
       "       16507, 22560, 11768,  6681, 23444, 23644, 21019,  8891, 11538,\n",
       "       24571,  8006, 21469,  4296, 13757,  8184,  3284,  6632, 18250,\n",
       "       12728, 18663, 19532, 12293,  3549, 21285,  2562, 19835, 23980,\n",
       "        5324,  2743,  7255,  7861, 16243, 13361,  6956, 24034, 18290,\n",
       "       17045, 11792, 15527, 19167, 14539, 18244, 14396,  7289, 15293,\n",
       "       11684, 10135,  6672,  5769,  8896, 22953,  4716, 17204,  8682,\n",
       "       16013, 16081, 12193, 14725,  8593, 10809,  7881, 11830,  3445,\n",
       "       15375, 14316,  4785, 14164,  8414, 23538, 23031, 21468, 23718,\n",
       "        3098, 13006, 18390,  9991,  3436, 12279, 21570, 12394, 22406,\n",
       "       11687, 12647,  8541,  2936,  6016,  6695, 21081, 18449,  7631,\n",
       "       12992, 10292,  7920, 12782, 14195, 20175, 15999, 13384, 18585,\n",
       "       16511, 11512, 21735, 19710, 16800, 16250, 11144, 11231, 11224,\n",
       "        7048,  4066, 13316, 11607, 24788,  3181, 17733, 20379,  3603,\n",
       "       18287, 20187,  2240, 13224,  6195,  7293,  9735, 15779, 20424,\n",
       "        5807, 20140,  7847,  8412,  2470,  2845, 10703, 20784,  4020,\n",
       "       21905, 17451, 17135, 10861, 20681, 10183, 22929,  2902, 19450,\n",
       "       24891, 15661, 18728, 20947, 18892,  7647, 21511, 18410,  4370,\n",
       "       16767, 12811, 23964, 21161, 21733, 13622, 15749,  3979, 24998,\n",
       "       24989, 20038, 15197, 19548, 20487, 19807, 14776, 22558,  5592,\n",
       "       11528,  6700, 19759, 22314,  3862, 24762,  6136,  3933, 20032,\n",
       "       15765, 18407, 19959,  7715,  9788, 11591, 24781, 19705,  4223,\n",
       "       24115, 14239, 14107, 24420,  2074,  4635,  4559,  6731,  6203,\n",
       "        7468,  3890, 11648, 20041, 13941, 19861, 18616, 22241, 11055,\n",
       "        8265, 24111,  2294,  7948, 23017,  4121, 10886,  6746,  9854,\n",
       "       10940, 21297, 21513, 15631, 22111,  4347, 23483, 14926, 10535,\n",
       "        3619,  3568,  4631, 16751,  3130, 15644,  6666,  7480, 14128,\n",
       "        8041, 10660,  2557, 10376, 14946,  8501,  3380,  7806, 22262,\n",
       "       13598, 15993,  7070, 17859, 21021, 10255,  7086,  4197, 17062,\n",
       "        7210, 11055,  9316, 13510,  4527,  8570, 23007,  4245,  8488,\n",
       "       18108,  4548, 17356,  8294, 15462, 16005, 16158,  5011,  8365,\n",
       "       12758, 24370,  7897,  6501, 18326, 10919,  6790, 16756, 21576,\n",
       "       17406,  6488, 15622,  2350, 22052, 13914,  2074, 18662, 22462,\n",
       "       23648, 15748, 22960, 18496, 16029,  5855,  9939, 24103,  5702,\n",
       "       21605,  7562, 16414,  5149, 22747, 22592,  2864,  4010,  8207,\n",
       "       17255,  6085, 16939, 21350, 23802, 23818, 18237,  5549, 12840,\n",
       "       14082,  6434, 10645, 17226, 12497,  6480, 12998, 19577,  9176,\n",
       "       14782, 13174, 10504,  2926, 12686, 23827,  2191,  4602, 24470,\n",
       "       24802,  5543,  7702, 23954, 22961,  3759, 15070, 21298,  7612,\n",
       "        4888,  8198,  6811,  9024,  2451, 20475,  6524, 16303,  6362,\n",
       "       10524, 24190, 16441,  7806, 16372, 23234,  5665, 21161,  6439,\n",
       "       19021,  2645, 16912, 18416,  6400, 18952, 14925, 21627, 14489,\n",
       "       12019,  9927, 21727,  7753, 15522,  8815, 23867, 14673,  2823,\n",
       "       15041,  3309, 18735,  7461,  2720, 17252, 19755,  6560,  7842,\n",
       "       14069, 20618, 22437, 24049, 12867, 17629, 14676,  2507, 13854,\n",
       "       22562,  8459, 10112,  9033,  2950, 19900, 17993,  4076, 13677,\n",
       "       16502,  4324,  5619, 19726, 24910, 12996,  8922,  4057, 11181,\n",
       "       12265,  2685,  9776,  5314, 12841, 12327,  4031, 15262, 11798,\n",
       "        2796,  3148, 19287, 15961, 24239,  8057, 23264, 13138, 23222,\n",
       "       15252, 12845, 24831,  9649, 14979, 11650,  9359, 12107, 13700,\n",
       "       19522, 10823, 17378, 14646, 15572, 22287,  3470, 23339,  4571,\n",
       "       11067, 24860, 21178,  7649, 22927, 22370, 11237,  5107, 22116,\n",
       "       23088,  2004,  4848, 22841, 17140, 19405, 12863,  3319, 22732,\n",
       "       11132, 13456, 23301,  2782,  6113,  5513,  7517, 16231, 12969,\n",
       "        2621, 12270, 22300, 14432, 19167, 19437, 15204,  9303,  4460,\n",
       "        7806, 12235, 15352, 14357, 16548,  5418,  6392, 18780, 24861,\n",
       "       11993, 14056, 24336,  3513, 13157, 20857, 11995,  2698,  8385,\n",
       "       17219, 14572, 11694, 11287, 20496, 19145,  2983, 10849,  4684,\n",
       "        3440,  9980, 15840,  9893, 14484, 12074, 24564, 16559,  9020,\n",
       "        9583, 19632,  3122, 23670,  9579, 23349, 18486, 19025, 24323,\n",
       "       14132, 10928, 16180,  9147,  8279,  4627, 18557, 11085, 14027,\n",
       "       15789,  5522,  5651, 12694,  4558,  5083, 14214, 11116, 24277,\n",
       "       24654, 21334, 18462, 15836,  5387, 20373,  3331,  4719, 19208,\n",
       "        3071, 21966,  6848, 22036,  6031, 14169, 22771, 12735, 24655,\n",
       "       16798, 22440, 19349, 10378, 16285,  3430, 22161, 15734,  3713,\n",
       "        4687,  7943,  9260, 20305, 16284,  4489,  3913,  3133, 17066,\n",
       "        5350, 15996,  3028,  3964,  7325, 20562, 17189,  7926, 17472,\n",
       "       14976,  9011,  6573,  4414,  3417, 24216,  2128, 20863, 21489,\n",
       "       21472, 15003,  2611,  8732, 18559,  7257,  5786, 12297,  6510,\n",
       "       11305, 13680, 16163,  6777, 14690, 11774, 11330,  7044, 22934,\n",
       "       24050, 20574, 23073, 23799, 19691, 21524, 16000, 22142, 14870,\n",
       "        8376, 22388, 20733, 20217, 10937, 20565, 14987, 22125, 10460,\n",
       "       10953,  5855, 19558, 22138, 13210, 15707, 15958,  3845, 15628,\n",
       "        8162,  8539, 13619, 23290,  2340, 22657,  6629,  4280,  5388,\n",
       "       14225, 13815,  6325,  7817, 17686, 20497, 11572, 10524, 23834,\n",
       "        2377, 12564, 24266,  4205,  4536, 23610, 22577, 19455, 23141,\n",
       "       10652, 13666, 16609,  3281,  6965,  8434, 18637,  8421, 21834,\n",
       "       21798, 16451, 22364, 24575, 15001, 21690, 16023, 20548, 12876,\n",
       "       19666,  5558, 19874,  6114,  3107, 24405,  8228,  6819, 23635,\n",
       "       16642,  8033,  7374, 15541, 15904,  8634,  7687, 17213, 15305,\n",
       "        3596,  8697,  2680, 21113, 10494,  4756,  4519,  2335, 14446,\n",
       "       17425, 18789, 12508, 17370, 15677, 10673,  5008,  5852, 23263,\n",
       "       21122, 17787,  3380,  3922,  2028, 14120, 16811, 17613,  3469,\n",
       "       17172, 13891,  9583,  2096,  2876, 24133, 12830,  4263, 23676,\n",
       "        5140,  9892, 10776, 15944, 18338, 19741,  7458, 16928, 10876,\n",
       "        7465, 10577, 13246, 19667,  6277,  9774, 24445, 20141,  3054,\n",
       "       10735, 12974, 14250, 23733,  3557, 20943, 20349, 16751, 20890,\n",
       "        8115, 14818,  9097, 18545,  6375, 18833, 15738, 19245,  7226,\n",
       "       17180])"
      ]
     },
     "execution_count": 87,
     "metadata": {},
     "output_type": "execute_result"
    }
   ],
   "source": [
    "x = np.random.randint(2000,25000,1000)\n",
    "x"
   ]
  },
  {
   "cell_type": "code",
   "execution_count": 88,
   "metadata": {
    "collapsed": true
   },
   "outputs": [
    {
     "data": {
      "text/plain": [
       "{'whiskers': [<matplotlib.lines.Line2D at 0x2357a5488d0>,\n",
       "  <matplotlib.lines.Line2D at 0x2357b6026a0>],\n",
       " 'caps': [<matplotlib.lines.Line2D at 0x2357b6029e8>,\n",
       "  <matplotlib.lines.Line2D at 0x2357b602d30>],\n",
       " 'boxes': [<matplotlib.lines.Line2D at 0x2357b5f1f60>],\n",
       " 'medians': [<matplotlib.lines.Line2D at 0x2357b602e10>],\n",
       " 'fliers': [<matplotlib.lines.Line2D at 0x2357b60b400>],\n",
       " 'means': []}"
      ]
     },
     "execution_count": 88,
     "metadata": {},
     "output_type": "execute_result"
    },
    {
     "data": {
      "image/png": "[encoded data removed]",
      "text/plain": [
       "<Figure size 432x288 with 1 Axes>"
      ]
     },
     "metadata": {
      "needs_background": "light"
     },
     "output_type": "display_data"
    }
   ],
   "source": [
    "plt.boxplot(x)"
   ]
  },
  {
   "cell_type": "code",
   "execution_count": 89,
   "metadata": {},
   "outputs": [
    {
     "name": "stdout",
     "output_type": "stream",
     "text": [
      "Help on function boxplot in module matplotlib.pyplot:\n",
      "\n",
      "boxplot(x, notch=None, sym=None, vert=None, whis=None, positions=None, widths=None, patch_artist=None, bootstrap=None, usermedians=None, conf_intervals=None, meanline=None, showmeans=None, showcaps=None, showbox=None, showfliers=None, boxprops=None, labels=None, flierprops=None, medianprops=None, meanprops=None, capprops=None, whiskerprops=None, manage_ticks=True, autorange=False, zorder=None, *, data=None)\n",
      "    Make a box and whisker plot.\n",
      "    \n",
      "    Make a box and whisker plot for each column of ``x`` or each\n",
      "    vector in sequence ``x``.  The box extends from the lower to\n",
      "    upper quartile values of the data, with a line at the median.\n",
      "    The whiskers extend from the box to show the range of the\n",
      "    data.  Flier points are those past the end of the whiskers.\n",
      "    \n",
      "    Parameters\n",
      "    ----------\n",
      "    x : Array or a sequence of vectors.\n",
      "        The input data.\n",
      "    \n",
      "    notch : bool, optional (False)\n",
      "        If `True`, will produce a notched box plot. Otherwise, a\n",
      "        rectangular boxplot is produced. The notches represent the\n",
      "        confidence interval (CI) around the median. See the entry\n",
      "        for the ``bootstrap`` parameter for information regarding\n",
      "        how the locations of the notches are computed.\n",
      "    \n",
      "        .. note::\n",
      "    \n",
      "            In cases where the values of the CI are less than the\n",
      "            lower quartile or greater than the upper quartile, the\n",
      "            notches will extend beyond the box, giving it a\n",
      "            distinctive \"flipped\" appearance. This is expected\n",
      "            behavior and consistent with other statistical\n",
      "            visualization packages.\n",
      "    \n",
      "    sym : str, optional\n",
      "        The default symbol for flier points. Enter an empty string\n",
      "        ('') if you don't want to show fliers. If `None`, then the\n",
      "        fliers default to 'b+'  If you want more control use the\n",
      "        flierprops kwarg.\n",
      "    \n",
      "    vert : bool, optional (True)\n",
      "        If `True` (default), makes the boxes vertical. If `False`,\n",
      "        everything is drawn horizontally.\n",
      "    \n",
      "    whis : float, sequence, or string (default = 1.5)\n",
      "        As a float, determines the reach of the whiskers to the beyond the\n",
      "        first and third quartiles. In other words, where IQR is the\n",
      "        interquartile range (`Q3-Q1`), the upper whisker will extend to\n",
      "        last datum less than `Q3 + whis*IQR`). Similarly, the lower whisker\n",
      "        will extend to the first datum greater than `Q1 - whis*IQR`.\n",
      "        Beyond the whiskers, data\n",
      "        are considered outliers and are plotted as individual\n",
      "        points. Set this to an unreasonably high value to force the\n",
      "        whiskers to show the min and max values. Alternatively, set\n",
      "        this to an ascending sequence of percentile (e.g., [5, 95])\n",
      "        to set the whiskers at specific percentiles of the data.\n",
      "        Finally, ``whis`` can be the string ``'range'`` to force the\n",
      "        whiskers to the min and max of the data.\n",
      "    \n",
      "    bootstrap : int, optional\n",
      "        Specifies whether to bootstrap the confidence intervals\n",
      "        around the median for notched boxplots. If ``bootstrap`` is\n",
      "        None, no bootstrapping is performed, and notches are\n",
      "        calculated using a Gaussian-based asymptotic approximation\n",
      "        (see McGill, R., Tukey, J.W., and Larsen, W.A., 1978, and\n",
      "        Kendall and Stuart, 1967). Otherwise, bootstrap specifies\n",
      "        the number of times to bootstrap the median to determine its\n",
      "        95% confidence intervals. Values between 1000 and 10000 are\n",
      "        recommended.\n",
      "    \n",
      "    usermedians : array-like, optional\n",
      "        An array or sequence whose first dimension (or length) is\n",
      "        compatible with ``x``. This overrides the medians computed\n",
      "        by matplotlib for each element of ``usermedians`` that is not\n",
      "        `None`. When an element of ``usermedians`` is None, the median\n",
      "        will be computed by matplotlib as normal.\n",
      "    \n",
      "    conf_intervals : array-like, optional\n",
      "        Array or sequence whose first dimension (or length) is\n",
      "        compatible with ``x`` and whose second dimension is 2. When\n",
      "        the an element of ``conf_intervals`` is not None, the\n",
      "        notch locations computed by matplotlib are overridden\n",
      "        (provided ``notch`` is `True`). When an element of\n",
      "        ``conf_intervals`` is `None`, the notches are computed by the\n",
      "        method specified by the other kwargs (e.g., ``bootstrap``).\n",
      "    \n",
      "    positions : array-like, optional\n",
      "        Sets the positions of the boxes. The ticks and limits are\n",
      "        automatically set to match the positions. Defaults to\n",
      "        `range(1, N+1)` where N is the number of boxes to be drawn.\n",
      "    \n",
      "    widths : scalar or array-like\n",
      "        Sets the width of each box either with a scalar or a\n",
      "        sequence. The default is 0.5, or ``0.15*(distance between\n",
      "        extreme positions)``, if that is smaller.\n",
      "    \n",
      "    patch_artist : bool, optional (False)\n",
      "        If `False` produces boxes with the Line2D artist. Otherwise,\n",
      "        boxes and drawn with Patch artists.\n",
      "    \n",
      "    labels : sequence, optional\n",
      "        Labels for each dataset. Length must be compatible with\n",
      "        dimensions of ``x``.\n",
      "    \n",
      "    manage_ticks : bool, optional (True)\n",
      "        If True, the tick locations and labels will be adjusted to match\n",
      "        the boxplot positions.\n",
      "    \n",
      "    autorange : bool, optional (False)\n",
      "        When `True` and the data are distributed such that the 25th and\n",
      "        75th percentiles are equal, ``whis`` is set to ``'range'`` such\n",
      "        that the whisker ends are at the minimum and maximum of the data.\n",
      "    \n",
      "    meanline : bool, optional (False)\n",
      "        If `True` (and ``showmeans`` is `True`), will try to render\n",
      "        the mean as a line spanning the full width of the box\n",
      "        according to ``meanprops`` (see below). Not recommended if\n",
      "        ``shownotches`` is also True. Otherwise, means will be shown\n",
      "        as points.\n",
      "    \n",
      "    zorder : scalar, optional (None)\n",
      "        Sets the zorder of the boxplot.\n",
      "    \n",
      "    Other Parameters\n",
      "    ----------------\n",
      "    showcaps : bool, optional (True)\n",
      "        Show the caps on the ends of whiskers.\n",
      "    showbox : bool, optional (True)\n",
      "        Show the central box.\n",
      "    showfliers : bool, optional (True)\n",
      "        Show the outliers beyond the caps.\n",
      "    showmeans : bool, optional (False)\n",
      "        Show the arithmetic means.\n",
      "    capprops : dict, optional (None)\n",
      "        Specifies the style of the caps.\n",
      "    boxprops : dict, optional (None)\n",
      "        Specifies the style of the box.\n",
      "    whiskerprops : dict, optional (None)\n",
      "        Specifies the style of the whiskers.\n",
      "    flierprops : dict, optional (None)\n",
      "        Specifies the style of the fliers.\n",
      "    medianprops : dict, optional (None)\n",
      "        Specifies the style of the median.\n",
      "    meanprops : dict, optional (None)\n",
      "        Specifies the style of the mean.\n",
      "    \n",
      "    Returns\n",
      "    -------\n",
      "    result : dict\n",
      "      A dictionary mapping each component of the boxplot to a list\n",
      "      of the :class:`matplotlib.lines.Line2D` instances\n",
      "      created. That dictionary has the following keys (assuming\n",
      "      vertical boxplots):\n",
      "    \n",
      "      - ``boxes``: the main body of the boxplot showing the\n",
      "        quartiles and the median's confidence intervals if\n",
      "        enabled.\n",
      "    \n",
      "      - ``medians``: horizontal lines at the median of each box.\n",
      "    \n",
      "      - ``whiskers``: the vertical lines extending to the most\n",
      "        extreme, non-outlier data points.\n",
      "    \n",
      "      - ``caps``: the horizontal lines at the ends of the\n",
      "        whiskers.\n",
      "    \n",
      "      - ``fliers``: points representing data that extend beyond\n",
      "        the whiskers (fliers).\n",
      "    \n",
      "      - ``means``: points or lines representing the means.\n",
      "    \n",
      "    Notes\n",
      "    -----\n",
      "    \n",
      "    \n",
      "    .. note::\n",
      "        In addition to the above described arguments, this function can take a\n",
      "        **data** keyword argument. If such a **data** argument is given, the\n",
      "        following arguments are replaced by **data[<arg>]**:\n",
      "    \n",
      "        * All positional and all keyword arguments.\n",
      "    \n",
      "        Objects passed as **data** must support item access (``data[<arg>]``) and\n",
      "        membership test (``<arg> in data``).\n",
      "\n"
     ]
    }
   ],
   "source": [
    "help(plt.boxplot)"
   ]
  },
  {
   "cell_type": "code",
   "execution_count": 91,
   "metadata": {
    "collapsed": true
   },
   "outputs": [
    {
     "data": {
      "text/plain": [
       "{'whiskers': [<matplotlib.lines.Line2D at 0x2357b6960f0>,\n",
       "  <matplotlib.lines.Line2D at 0x2357b6b0f98>],\n",
       " 'caps': [<matplotlib.lines.Line2D at 0x2357b6bc588>,\n",
       "  <matplotlib.lines.Line2D at 0x2357b6bc8d0>],\n",
       " 'boxes': [<matplotlib.lines.Line2D at 0x2357b6b0a90>],\n",
       " 'medians': [<matplotlib.lines.Line2D at 0x2357b6bcc18>],\n",
       " 'fliers': [<matplotlib.lines.Line2D at 0x2357b6bcf60>],\n",
       " 'means': []}"
      ]
     },
     "execution_count": 91,
     "metadata": {},
     "output_type": "execute_result"
    },
    {
     "data": {
      "image/png": "[encoded data removed]",
      "text/plain": [
       "<Figure size 432x288 with 1 Axes>"
      ]
     },
     "metadata": {
      "needs_background": "light"
     },
     "output_type": "display_data"
    }
   ],
   "source": [
    "plt.boxplot(x, notch = True, vert = False)"
   ]
  },
  {
   "cell_type": "code",
   "execution_count": 92,
   "metadata": {},
   "outputs": [],
   "source": [
    "Games = ['Ludo','PubG','Cooking']\n",
    "ludo = np.random.randint(0,1000,50)\n",
    "pubg = np.random.randint(0,5000, 100)\n",
    "cook = np.random.randint(1000,3500,70)"
   ]
  },
  {
   "cell_type": "code",
   "execution_count": 102,
   "metadata": {
    "collapsed": true
   },
   "outputs": [
    {
     "data": {
      "image/png": "[encoded data removed]",
      "text/plain": [
       "<Figure size 432x288 with 1 Axes>"
      ]
     },
     "metadata": {
      "needs_background": "light"
     },
     "output_type": "display_data"
    }
   ],
   "source": [
    "plt.boxplot([ludo,pubg,cook], labels = Games, \n",
    "            patch_artist = True, \n",
    "            boxprops = dict(facecolor = 'purple',color = 'r'))\n",
    "plt.show()"
   ]
  },
  {
   "cell_type": "markdown",
   "metadata": {},
   "source": [
    "### Histogram\n",
    "- Looks similar to bar charts\n",
    "- Frequency distribution of numerical data\n",
    "    - plt.hist()"
   ]
  },
  {
   "cell_type": "code",
   "execution_count": 104,
   "metadata": {
    "collapsed": true
   },
   "outputs": [
    {
     "data": {
      "text/plain": [
       "(array([4., 1., 3., 2., 3.]),\n",
       " array([0. , 1.2, 2.4, 3.6, 4.8, 6. ]),\n",
       " <a list of 5 Patch objects>)"
      ]
     },
     "execution_count": 104,
     "metadata": {},
     "output_type": "execute_result"
    },
    {
     "data": {
      "image/png": "[encoded data removed]",
      "text/plain": [
       "<Figure size 432x288 with 1 Axes>"
      ]
     },
     "metadata": {
      "needs_background": "light"
     },
     "output_type": "display_data"
    }
   ],
   "source": [
    "h1 = [0,0,0.2,1,1.3,3.0,3.2,3.2,4.5,4.7,5.9,6,6]\n",
    "bins = 5\n",
    "plt.hist(h1,bins, rwidth = 0.4)"
   ]
  },
  {
   "cell_type": "code",
   "execution_count": 105,
   "metadata": {},
   "outputs": [
    {
     "data": {
      "text/plain": [
       "(array([3., 1., 1., 3., 0., 0., 3.]),\n",
       " array([10. , 11. , 12.5, 13. , 14. , 15. , 15. , 16. ]),\n",
       " <a list of 7 Patch objects>)"
      ]
     },
     "execution_count": 105,
     "metadata": {},
     "output_type": "execute_result"
    },
    {
     "data": {
      "image/png": "[encoded data removed]",
      "text/plain": [
       "<Figure size 432x288 with 1 Axes>"
      ]
     },
     "metadata": {
      "needs_background": "light"
     },
     "output_type": "display_data"
    }
   ],
   "source": [
    "h2 = [10,10.5,10.9,12,12.5,13.0,13.6,13.6,15,15.3,15.6]\n",
    "bins = [10,11,12.5,13,14,15,15,16]\n",
    "plt.hist(h2,bins)"
   ]
  },
  {
   "cell_type": "code",
   "execution_count": null,
   "metadata": {},
   "outputs": [],
   "source": []
  }
 ],
 "metadata": {
  "kernelspec": {
   "display_name": "Python 3",
   "language": "python",
   "name": "python3"
  },
  "language_info": {
   "codemirror_mode": {
    "name": "ipython",
    "version": 3
   },
   "file_extension": ".py",
   "mimetype": "text/x-python",
   "name": "python",
   "nbconvert_exporter": "python",
   "pygments_lexer": "ipython3",
   "version": "3.7.3"
  }
 },
 "nbformat": 4,
 "nbformat_minor": 2
}
