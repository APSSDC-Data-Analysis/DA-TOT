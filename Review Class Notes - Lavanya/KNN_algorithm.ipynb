{
 "cells": [
  {
   "cell_type": "markdown",
   "metadata": {},
   "source": [
    "# Day Agenda\n",
    "\n",
    "![](agenda.png)"
   ]
  },
  {
   "cell_type": "markdown",
   "metadata": {},
   "source": [
    "## Classification\n",
    "\n",
    "* Machine Learning classification is the process of predicting the class of given data set.\n",
    "\n",
    "* class/ Target/ categories/ labels\n",
    "\n",
    "\n",
    "* This type of  modeling, aproximating the mapping function (f) from input variables(X) to discrete output variables (y)\n",
    "* Predicting Discrete values like pass/ fail, live/died..etc\n",
    "\n",
    "\n",
    "\n",
    "```y = f(X)```\n",
    "\n",
    "\n",
    "## Types of Classifications\n",
    "\n",
    "**Based on Prediction**\n",
    "* Lazy learners\n",
    "     * take less time to train and more time to predict\n",
    "     \n",
    "* eager learner\n",
    "     * takes more time to training a model but less time to predict\n",
    "     \n",
    "     \n",
    "**Based on Target**\n",
    "\n",
    "* Binary CLassification\n",
    "     * only two possible outcomes \n",
    "     * titanic -- servived/not\n",
    "     * cancer  -- cancer/ not\n",
    "     \n",
    "* Multi-class classification\n",
    "    * more than two outcomes\n",
    "    * birds -- 6 [r,t,p,sw,so,s]\n",
    "    * iris datasets - 3 class \n",
    "    \n",
    "* Multi-label classification\n",
    "    * rice bag -- different retailers \n",
    "    \n",
    "* Imbalanced Classification\n",
    "    * covid test cases 70k --- 1000 to 2500 shows positive and remaing all shows negative\n",
    "    "
   ]
  },
  {
   "cell_type": "markdown",
   "metadata": {},
   "source": [
    "### K-Nearest Neighbors \n",
    "**“things that look alike must be alike.”**\n",
    "\n",
    "* Nearest Neighbor algorithms are among the simplest of all machine learning algorithms\n",
    "* This algorithm is versatile. It can be used for classification, regression\n",
    "* KNN is completely based on distance between any two elements\n",
    "![distance.png](distance.png)\n",
    "\n"
   ]
  },
  {
   "cell_type": "markdown",
   "metadata": {},
   "source": [
    "### KNN used for:\n",
    "* Binary Classification \n",
    "    * only two possible outcomes \n",
    "            \n",
    "* Multi-class classification\n",
    "    * Target may be scalar values but having more than two labels(classes/groups)\n",
    "    "
   ]
  },
  {
   "cell_type": "markdown",
   "metadata": {},
   "source": [
    "### What KNN says:\n",
    "**Show me your friends(Neighbors) and then i will tell you who you are**\n",
    "\n",
    "* people who are having mindset/ culture/ way of living are stay together so we called as neighbors/ friends\n",
    "\n",
    "* people livinh based on caste/ designations/ religions"
   ]
  },
  {
   "cell_type": "markdown",
   "metadata": {},
   "source": [
    "### Characteristics of a KNN Model\n",
    "\n",
    "* Fast to create model because it simply stores data\n",
    "* Slow to predict because many distance calculations\n",
    "* Can require lots of memory if data set is large\n",
    "\n",
    "* lazy learner -- KNN \n"
   ]
  },
  {
   "cell_type": "code",
   "execution_count": 2,
   "metadata": {},
   "outputs": [],
   "source": [
    "# classify the seasons\n",
    "temp = [23,20,22,19,32,35,40,42]\n",
    "hum = [20,25,23,26,30,34,32,36]\n",
    "season = [\"w\",'w','w','w','s','s','s','s']\n",
    "# s -- summer\n",
    "# w --  winter"
   ]
  },
  {
   "cell_type": "code",
   "execution_count": 3,
   "metadata": {},
   "outputs": [],
   "source": [
    "import pandas as pd"
   ]
  },
  {
   "cell_type": "code",
   "execution_count": 4,
   "metadata": {},
   "outputs": [],
   "source": [
    "df = pd.DataFrame([temp,hum,season]).T"
   ]
  },
  {
   "cell_type": "code",
   "execution_count": 6,
   "metadata": {},
   "outputs": [],
   "source": [
    "df.columns = [\"Temp\",\"Hum\",\"Season\"]"
   ]
  },
  {
   "cell_type": "code",
   "execution_count": 7,
   "metadata": {},
   "outputs": [],
   "source": [
    "import matplotlib.pyplot as plt"
   ]
  },
  {
   "cell_type": "code",
   "execution_count": 12,
   "metadata": {
    "collapsed": true
   },
   "outputs": [
    {
     "data": {
      "image/png": "[encoded data removed]",
      "text/plain": [
       "<Figure size 432x288 with 1 Axes>"
      ]
     },
     "metadata": {
      "needs_background": "light"
     },
     "output_type": "display_data"
    }
   ],
   "source": [
    "plt.scatter(df[\"Temp\"],df[\"Hum\"], c  = 'r')\n",
    "plt.title(\"Seasons\")\n",
    "plt.xlabel(\"Temp\")\n",
    "plt.ylabel(\"Humidity\")\n",
    "plt.scatter(35,30)  # predicted value\n",
    "plt.show()"
   ]
  },
  {
   "cell_type": "code",
   "execution_count": 13,
   "metadata": {},
   "outputs": [],
   "source": [
    "from sklearn.neighbors import KNeighborsClassifier\n"
   ]
  },
  {
   "cell_type": "code",
   "execution_count": 14,
   "metadata": {},
   "outputs": [],
   "source": [
    "knn = KNeighborsClassifier()"
   ]
  },
  {
   "cell_type": "code",
   "execution_count": 16,
   "metadata": {},
   "outputs": [],
   "source": [
    "X = df[[\"Temp\",\"Hum\"]]\n",
    "y = df[\"Season\"]"
   ]
  },
  {
   "cell_type": "code",
   "execution_count": 17,
   "metadata": {},
   "outputs": [
    {
     "data": {
      "text/plain": [
       "KNeighborsClassifier()"
      ]
     },
     "execution_count": 17,
     "metadata": {},
     "output_type": "execute_result"
    }
   ],
   "source": [
    "knn.fit(X,y)"
   ]
  },
  {
   "cell_type": "code",
   "execution_count": 18,
   "metadata": {},
   "outputs": [
    {
     "data": {
      "text/plain": [
       "array(['s'], dtype=object)"
      ]
     },
     "execution_count": 18,
     "metadata": {},
     "output_type": "execute_result"
    }
   ],
   "source": [
    "knn.predict([[35,30]])"
   ]
  },
  {
   "cell_type": "code",
   "execution_count": 23,
   "metadata": {
    "collapsed": true
   },
   "outputs": [
    {
     "name": "stdout",
     "output_type": "stream",
     "text": [
      "Distance between  (23, 20) & (35, 30) 112.0\n",
      "Distance between  (20, 25) & (35, 30) 40.0\n",
      "Distance between  (22, 23) & (35, 30) 62.0\n",
      "Distance between  (19, 26) & (35, 30) 32.0\n",
      "Distance between  (32, 30) & (35, 30) 3.0\n",
      "Distance between  (35, 34) & (35, 30) 16.0\n",
      "Distance between  (40, 32) & (35, 30) 9.0\n",
      "Distance between  (42, 36) & (35, 30) 43.0\n"
     ]
    }
   ],
   "source": [
    "# x1,y1,x2,y2  \n",
    "x2,y2 = 35,30\n",
    "import numpy as np\n",
    "for i in range(len(df)):\n",
    "    x1,y1 = df[\"Temp\"][i],df[\"Hum\"][i]\n",
    "    #print(x1,y1)\n",
    "    print(\"Distance between \",(x1,y1),\"&\",(x2,y2),np.sqrt((x2-x1)**2) + (y2-y1)**2)"
   ]
  },
  {
   "cell_type": "code",
   "execution_count": null,
   "metadata": {},
   "outputs": [],
   "source": []
  },
  {
   "cell_type": "code",
   "execution_count": null,
   "metadata": {},
   "outputs": [],
   "source": []
  },
  {
   "cell_type": "code",
   "execution_count": null,
   "metadata": {},
   "outputs": [],
   "source": []
  },
  {
   "cell_type": "code",
   "execution_count": null,
   "metadata": {},
   "outputs": [],
   "source": []
  },
  {
   "cell_type": "code",
   "execution_count": null,
   "metadata": {},
   "outputs": [],
   "source": []
  },
  {
   "cell_type": "code",
   "execution_count": null,
   "metadata": {},
   "outputs": [],
   "source": []
  },
  {
   "cell_type": "code",
   "execution_count": null,
   "metadata": {},
   "outputs": [],
   "source": []
  },
  {
   "cell_type": "code",
   "execution_count": null,
   "metadata": {},
   "outputs": [],
   "source": []
  },
  {
   "cell_type": "code",
   "execution_count": null,
   "metadata": {},
   "outputs": [],
   "source": []
  },
  {
   "cell_type": "code",
   "execution_count": null,
   "metadata": {},
   "outputs": [],
   "source": []
  },
  {
   "cell_type": "code",
   "execution_count": null,
   "metadata": {},
   "outputs": [],
   "source": []
  },
  {
   "cell_type": "code",
   "execution_count": null,
   "metadata": {},
   "outputs": [],
   "source": []
  },
  {
   "cell_type": "markdown",
   "metadata": {},
   "source": [
    "### How does the KNN algorithm work?\n",
    "In KNN, K is the number of nearest neighbors. The number of neighbors is the core deciding factor. K is generally an odd number if the number of classes is 2. When K=1, then the algorithm is known as the nearest neighbor algorithm. This is the simplest case. Suppose P1 is the point, for which label needs to predict. First, you find the one closest point to P1 and then the label of the nearest point assigned to P1.\n",
    "\n",
    "![download.png](download.png)"
   ]
  },
  {
   "cell_type": "markdown",
   "metadata": {},
   "source": [
    "Suppose P1 is the point, for which label needs to be predicted. First, you find the k closest points to P1 and then classify point by majority vote of its k neighbors. Each object votes for their class and the class with the most votes is taken as the prediction. For finding closest similar points, you find the distance between points using distance measures such as Euclidean distance, Hamming distance, Manhattan distance and Minkowski distance. KNN has the following basic steps:\n",
    "* Calculate distance\n",
    "* Find closest neighbors\n",
    "* Vote for labels\n",
    "\n",
    "![download%20%281%29.png](download%20%281%29.png)"
   ]
  },
  {
   "cell_type": "markdown",
   "metadata": {},
   "source": [
    "## Curse of Dimensionality\n",
    "\n",
    "* KNN performs better with a lower number of features than a large number of features.\n",
    "* You can say that when the number of features increases than it requires more data.\n",
    "* Increase in dimension also leads to the problem of overfitting. \n",
    "* To avoid overfitting, the needed data will need to grow exponentially as you increase the number of dimensions. \n",
    "* This problem of higher dimension is known as the Curse of Dimensionality.\n",
    "\n",
    "* overcome this curse of dimensionality , we will use PCA(Principal Componenet Analysis)\n"
   ]
  },
  {
   "cell_type": "markdown",
   "metadata": {},
   "source": [
    "## KNN using orange_telecom_churned\n",
    "\n",
    "customer churn data from the telecom industry for this week's exercises\n",
    "[dataset_Link](https://raw.githubusercontent.com/AP-State-Skill-Development-Corporation/Datasets/master/Classification/Orange_Telecom_Churn_Data.csv)"
   ]
  },
  {
   "cell_type": "code",
   "execution_count": 24,
   "metadata": {},
   "outputs": [],
   "source": [
    "# importing the Libraries\n",
    "import numpy as np\n",
    "import pandas as pd\n",
    "import matplotlib.pyplot as plt\n",
    "import warnings\n",
    "warnings.filterwarnings(\"ignore\", module = \"sklearn\")"
   ]
  },
  {
   "cell_type": "code",
   "execution_count": 25,
   "metadata": {
    "collapsed": true
   },
   "outputs": [
    {
     "data": {
      "text/html": [
       "<div>\n",
       "<style scoped>\n",
       "    .dataframe tbody tr th:only-of-type {\n",
       "        vertical-align: middle;\n",
       "    }\n",
       "\n",
       "    .dataframe tbody tr th {\n",
       "        vertical-align: top;\n",
       "    }\n",
       "\n",
       "    .dataframe thead th {\n",
       "        text-align: right;\n",
       "    }\n",
       "</style>\n",
       "<table border=\"1\" class=\"dataframe\">\n",
       "  <thead>\n",
       "    <tr style=\"text-align: right;\">\n",
       "      <th></th>\n",
       "      <th>state</th>\n",
       "      <th>account_length</th>\n",
       "      <th>area_code</th>\n",
       "      <th>phone_number</th>\n",
       "      <th>intl_plan</th>\n",
       "      <th>voice_mail_plan</th>\n",
       "      <th>number_vmail_messages</th>\n",
       "      <th>total_day_minutes</th>\n",
       "      <th>total_day_calls</th>\n",
       "      <th>total_day_charge</th>\n",
       "      <th>...</th>\n",
       "      <th>total_eve_calls</th>\n",
       "      <th>total_eve_charge</th>\n",
       "      <th>total_night_minutes</th>\n",
       "      <th>total_night_calls</th>\n",
       "      <th>total_night_charge</th>\n",
       "      <th>total_intl_minutes</th>\n",
       "      <th>total_intl_calls</th>\n",
       "      <th>total_intl_charge</th>\n",
       "      <th>number_customer_service_calls</th>\n",
       "      <th>churned</th>\n",
       "    </tr>\n",
       "  </thead>\n",
       "  <tbody>\n",
       "    <tr>\n",
       "      <th>0</th>\n",
       "      <td>KS</td>\n",
       "      <td>128</td>\n",
       "      <td>415</td>\n",
       "      <td>382-4657</td>\n",
       "      <td>no</td>\n",
       "      <td>yes</td>\n",
       "      <td>25</td>\n",
       "      <td>265.1</td>\n",
       "      <td>110</td>\n",
       "      <td>45.07</td>\n",
       "      <td>...</td>\n",
       "      <td>99</td>\n",
       "      <td>16.78</td>\n",
       "      <td>244.7</td>\n",
       "      <td>91</td>\n",
       "      <td>11.01</td>\n",
       "      <td>10.0</td>\n",
       "      <td>3</td>\n",
       "      <td>2.70</td>\n",
       "      <td>1</td>\n",
       "      <td>False</td>\n",
       "    </tr>\n",
       "    <tr>\n",
       "      <th>1</th>\n",
       "      <td>OH</td>\n",
       "      <td>107</td>\n",
       "      <td>415</td>\n",
       "      <td>371-7191</td>\n",
       "      <td>no</td>\n",
       "      <td>yes</td>\n",
       "      <td>26</td>\n",
       "      <td>161.6</td>\n",
       "      <td>123</td>\n",
       "      <td>27.47</td>\n",
       "      <td>...</td>\n",
       "      <td>103</td>\n",
       "      <td>16.62</td>\n",
       "      <td>254.4</td>\n",
       "      <td>103</td>\n",
       "      <td>11.45</td>\n",
       "      <td>13.7</td>\n",
       "      <td>3</td>\n",
       "      <td>3.70</td>\n",
       "      <td>1</td>\n",
       "      <td>False</td>\n",
       "    </tr>\n",
       "    <tr>\n",
       "      <th>2</th>\n",
       "      <td>NJ</td>\n",
       "      <td>137</td>\n",
       "      <td>415</td>\n",
       "      <td>358-1921</td>\n",
       "      <td>no</td>\n",
       "      <td>no</td>\n",
       "      <td>0</td>\n",
       "      <td>243.4</td>\n",
       "      <td>114</td>\n",
       "      <td>41.38</td>\n",
       "      <td>...</td>\n",
       "      <td>110</td>\n",
       "      <td>10.30</td>\n",
       "      <td>162.6</td>\n",
       "      <td>104</td>\n",
       "      <td>7.32</td>\n",
       "      <td>12.2</td>\n",
       "      <td>5</td>\n",
       "      <td>3.29</td>\n",
       "      <td>0</td>\n",
       "      <td>False</td>\n",
       "    </tr>\n",
       "    <tr>\n",
       "      <th>3</th>\n",
       "      <td>OH</td>\n",
       "      <td>84</td>\n",
       "      <td>408</td>\n",
       "      <td>375-9999</td>\n",
       "      <td>yes</td>\n",
       "      <td>no</td>\n",
       "      <td>0</td>\n",
       "      <td>299.4</td>\n",
       "      <td>71</td>\n",
       "      <td>50.90</td>\n",
       "      <td>...</td>\n",
       "      <td>88</td>\n",
       "      <td>5.26</td>\n",
       "      <td>196.9</td>\n",
       "      <td>89</td>\n",
       "      <td>8.86</td>\n",
       "      <td>6.6</td>\n",
       "      <td>7</td>\n",
       "      <td>1.78</td>\n",
       "      <td>2</td>\n",
       "      <td>False</td>\n",
       "    </tr>\n",
       "    <tr>\n",
       "      <th>4</th>\n",
       "      <td>OK</td>\n",
       "      <td>75</td>\n",
       "      <td>415</td>\n",
       "      <td>330-6626</td>\n",
       "      <td>yes</td>\n",
       "      <td>no</td>\n",
       "      <td>0</td>\n",
       "      <td>166.7</td>\n",
       "      <td>113</td>\n",
       "      <td>28.34</td>\n",
       "      <td>...</td>\n",
       "      <td>122</td>\n",
       "      <td>12.61</td>\n",
       "      <td>186.9</td>\n",
       "      <td>121</td>\n",
       "      <td>8.41</td>\n",
       "      <td>10.1</td>\n",
       "      <td>3</td>\n",
       "      <td>2.73</td>\n",
       "      <td>3</td>\n",
       "      <td>False</td>\n",
       "    </tr>\n",
       "  </tbody>\n",
       "</table>\n",
       "<p>5 rows × 21 columns</p>\n",
       "</div>"
      ],
      "text/plain": [
       "  state  account_length  area_code phone_number intl_plan voice_mail_plan  \\\n",
       "0    KS             128        415     382-4657        no             yes   \n",
       "1    OH             107        415     371-7191        no             yes   \n",
       "2    NJ             137        415     358-1921        no              no   \n",
       "3    OH              84        408     375-9999       yes              no   \n",
       "4    OK              75        415     330-6626       yes              no   \n",
       "\n",
       "   number_vmail_messages  total_day_minutes  total_day_calls  \\\n",
       "0                     25              265.1              110   \n",
       "1                     26              161.6              123   \n",
       "2                      0              243.4              114   \n",
       "3                      0              299.4               71   \n",
       "4                      0              166.7              113   \n",
       "\n",
       "   total_day_charge  ...  total_eve_calls  total_eve_charge  \\\n",
       "0             45.07  ...               99             16.78   \n",
       "1             27.47  ...              103             16.62   \n",
       "2             41.38  ...              110             10.30   \n",
       "3             50.90  ...               88              5.26   \n",
       "4             28.34  ...              122             12.61   \n",
       "\n",
       "   total_night_minutes  total_night_calls  total_night_charge  \\\n",
       "0                244.7                 91               11.01   \n",
       "1                254.4                103               11.45   \n",
       "2                162.6                104                7.32   \n",
       "3                196.9                 89                8.86   \n",
       "4                186.9                121                8.41   \n",
       "\n",
       "   total_intl_minutes  total_intl_calls  total_intl_charge  \\\n",
       "0                10.0                 3               2.70   \n",
       "1                13.7                 3               3.70   \n",
       "2                12.2                 5               3.29   \n",
       "3                 6.6                 7               1.78   \n",
       "4                10.1                 3               2.73   \n",
       "\n",
       "   number_customer_service_calls  churned  \n",
       "0                              1    False  \n",
       "1                              1    False  \n",
       "2                              0    False  \n",
       "3                              2    False  \n",
       "4                              3    False  \n",
       "\n",
       "[5 rows x 21 columns]"
      ]
     },
     "execution_count": 25,
     "metadata": {},
     "output_type": "execute_result"
    }
   ],
   "source": [
    "df = pd.read_csv(\"https://raw.githubusercontent.com/AP-State-Skill-Development-Corporation/Datasets/master/Classification/Orange_Telecom_Churn_Data.csv\")\n",
    "df.head()\n",
    "\n",
    "# orange_telecom_churned_data"
   ]
  },
  {
   "cell_type": "code",
   "execution_count": 26,
   "metadata": {},
   "outputs": [
    {
     "data": {
      "text/plain": [
       "(5000, 21)"
      ]
     },
     "execution_count": 26,
     "metadata": {},
     "output_type": "execute_result"
    }
   ],
   "source": [
    "df.shape"
   ]
  },
  {
   "cell_type": "code",
   "execution_count": 27,
   "metadata": {},
   "outputs": [
    {
     "data": {
      "text/plain": [
       "Index(['state', 'account_length', 'area_code', 'phone_number', 'intl_plan',\n",
       "       'voice_mail_plan', 'number_vmail_messages', 'total_day_minutes',\n",
       "       'total_day_calls', 'total_day_charge', 'total_eve_minutes',\n",
       "       'total_eve_calls', 'total_eve_charge', 'total_night_minutes',\n",
       "       'total_night_calls', 'total_night_charge', 'total_intl_minutes',\n",
       "       'total_intl_calls', 'total_intl_charge',\n",
       "       'number_customer_service_calls', 'churned'],\n",
       "      dtype='object')"
      ]
     },
     "execution_count": 27,
     "metadata": {},
     "output_type": "execute_result"
    }
   ],
   "source": [
    "df.columns"
   ]
  },
  {
   "cell_type": "code",
   "execution_count": 28,
   "metadata": {
    "collapsed": true
   },
   "outputs": [
    {
     "name": "stdout",
     "output_type": "stream",
     "text": [
      "<class 'pandas.core.frame.DataFrame'>\n",
      "RangeIndex: 5000 entries, 0 to 4999\n",
      "Data columns (total 21 columns):\n",
      " #   Column                         Non-Null Count  Dtype  \n",
      "---  ------                         --------------  -----  \n",
      " 0   state                          5000 non-null   object \n",
      " 1   account_length                 5000 non-null   int64  \n",
      " 2   area_code                      5000 non-null   int64  \n",
      " 3   phone_number                   5000 non-null   object \n",
      " 4   intl_plan                      5000 non-null   object \n",
      " 5   voice_mail_plan                5000 non-null   object \n",
      " 6   number_vmail_messages          5000 non-null   int64  \n",
      " 7   total_day_minutes              5000 non-null   float64\n",
      " 8   total_day_calls                5000 non-null   int64  \n",
      " 9   total_day_charge               5000 non-null   float64\n",
      " 10  total_eve_minutes              5000 non-null   float64\n",
      " 11  total_eve_calls                5000 non-null   int64  \n",
      " 12  total_eve_charge               5000 non-null   float64\n",
      " 13  total_night_minutes            5000 non-null   float64\n",
      " 14  total_night_calls              5000 non-null   int64  \n",
      " 15  total_night_charge             5000 non-null   float64\n",
      " 16  total_intl_minutes             5000 non-null   float64\n",
      " 17  total_intl_calls               5000 non-null   int64  \n",
      " 18  total_intl_charge              5000 non-null   float64\n",
      " 19  number_customer_service_calls  5000 non-null   int64  \n",
      " 20  churned                        5000 non-null   bool   \n",
      "dtypes: bool(1), float64(8), int64(8), object(4)\n",
      "memory usage: 786.3+ KB\n"
     ]
    }
   ],
   "source": [
    "df.info()"
   ]
  },
  {
   "cell_type": "code",
   "execution_count": 29,
   "metadata": {
    "collapsed": true
   },
   "outputs": [
    {
     "data": {
      "text/plain": [
       "state                            0\n",
       "account_length                   0\n",
       "area_code                        0\n",
       "phone_number                     0\n",
       "intl_plan                        0\n",
       "voice_mail_plan                  0\n",
       "number_vmail_messages            0\n",
       "total_day_minutes                0\n",
       "total_day_calls                  0\n",
       "total_day_charge                 0\n",
       "total_eve_minutes                0\n",
       "total_eve_calls                  0\n",
       "total_eve_charge                 0\n",
       "total_night_minutes              0\n",
       "total_night_calls                0\n",
       "total_night_charge               0\n",
       "total_intl_minutes               0\n",
       "total_intl_calls                 0\n",
       "total_intl_charge                0\n",
       "number_customer_service_calls    0\n",
       "churned                          0\n",
       "dtype: int64"
      ]
     },
     "execution_count": 29,
     "metadata": {},
     "output_type": "execute_result"
    }
   ],
   "source": [
    "df.isna().sum()"
   ]
  },
  {
   "cell_type": "markdown",
   "metadata": {},
   "source": [
    "## Data Cleaning"
   ]
  },
  {
   "cell_type": "code",
   "execution_count": 30,
   "metadata": {
    "collapsed": true
   },
   "outputs": [
    {
     "data": {
      "text/plain": [
       "state                                  KS\n",
       "account_length                        128\n",
       "area_code                             415\n",
       "phone_number                     382-4657\n",
       "intl_plan                              no\n",
       "voice_mail_plan                       yes\n",
       "number_vmail_messages                  25\n",
       "total_day_minutes                   265.1\n",
       "total_day_calls                       110\n",
       "total_day_charge                    45.07\n",
       "total_eve_minutes                   197.4\n",
       "total_eve_calls                        99\n",
       "total_eve_charge                    16.78\n",
       "total_night_minutes                 244.7\n",
       "total_night_calls                      91\n",
       "total_night_charge                  11.01\n",
       "total_intl_minutes                     10\n",
       "total_intl_calls                        3\n",
       "total_intl_charge                     2.7\n",
       "number_customer_service_calls           1\n",
       "churned                             False\n",
       "Name: 0, dtype: object"
      ]
     },
     "execution_count": 30,
     "metadata": {},
     "output_type": "execute_result"
    }
   ],
   "source": [
    "df.loc[0]"
   ]
  },
  {
   "cell_type": "code",
   "execution_count": 31,
   "metadata": {},
   "outputs": [],
   "source": [
    "df.drop([\"state\",\"area_code\",\"phone_number\"],axis = 1, inplace = True)"
   ]
  },
  {
   "cell_type": "code",
   "execution_count": 32,
   "metadata": {},
   "outputs": [
    {
     "data": {
      "text/plain": [
       "(5000, 18)"
      ]
     },
     "execution_count": 32,
     "metadata": {},
     "output_type": "execute_result"
    }
   ],
   "source": [
    "df.shape"
   ]
  },
  {
   "cell_type": "code",
   "execution_count": 33,
   "metadata": {},
   "outputs": [
    {
     "data": {
      "text/plain": [
       "no     4527\n",
       "yes     473\n",
       "Name: intl_plan, dtype: int64"
      ]
     },
     "execution_count": 33,
     "metadata": {},
     "output_type": "execute_result"
    }
   ],
   "source": [
    "# categorial data into numerics\n",
    "\n",
    "df[\"intl_plan\"].value_counts()"
   ]
  },
  {
   "cell_type": "code",
   "execution_count": 34,
   "metadata": {},
   "outputs": [
    {
     "data": {
      "text/plain": [
       "no     3677\n",
       "yes    1323\n",
       "Name: voice_mail_plan, dtype: int64"
      ]
     },
     "execution_count": 34,
     "metadata": {},
     "output_type": "execute_result"
    }
   ],
   "source": [
    "df[\"voice_mail_plan\"].value_counts()"
   ]
  },
  {
   "cell_type": "code",
   "execution_count": 35,
   "metadata": {},
   "outputs": [],
   "source": [
    "from sklearn.preprocessing import LabelBinarizer\n",
    "\n",
    "lb = LabelBinarizer()"
   ]
  },
  {
   "cell_type": "code",
   "execution_count": 36,
   "metadata": {},
   "outputs": [],
   "source": [
    "for col in [\"voice_mail_plan\",\"intl_plan\",\"churned\"]:\n",
    "    df[col] = lb.fit_transform(df[col])"
   ]
  },
  {
   "cell_type": "code",
   "execution_count": 37,
   "metadata": {
    "collapsed": true
   },
   "outputs": [
    {
     "data": {
      "text/html": [
       "<div>\n",
       "<style scoped>\n",
       "    .dataframe tbody tr th:only-of-type {\n",
       "        vertical-align: middle;\n",
       "    }\n",
       "\n",
       "    .dataframe tbody tr th {\n",
       "        vertical-align: top;\n",
       "    }\n",
       "\n",
       "    .dataframe thead th {\n",
       "        text-align: right;\n",
       "    }\n",
       "</style>\n",
       "<table border=\"1\" class=\"dataframe\">\n",
       "  <thead>\n",
       "    <tr style=\"text-align: right;\">\n",
       "      <th></th>\n",
       "      <th>account_length</th>\n",
       "      <th>intl_plan</th>\n",
       "      <th>voice_mail_plan</th>\n",
       "      <th>number_vmail_messages</th>\n",
       "      <th>total_day_minutes</th>\n",
       "      <th>total_day_calls</th>\n",
       "      <th>total_day_charge</th>\n",
       "      <th>total_eve_minutes</th>\n",
       "      <th>total_eve_calls</th>\n",
       "      <th>total_eve_charge</th>\n",
       "      <th>total_night_minutes</th>\n",
       "      <th>total_night_calls</th>\n",
       "      <th>total_night_charge</th>\n",
       "      <th>total_intl_minutes</th>\n",
       "      <th>total_intl_calls</th>\n",
       "      <th>total_intl_charge</th>\n",
       "      <th>number_customer_service_calls</th>\n",
       "      <th>churned</th>\n",
       "    </tr>\n",
       "  </thead>\n",
       "  <tbody>\n",
       "    <tr>\n",
       "      <th>0</th>\n",
       "      <td>128</td>\n",
       "      <td>0</td>\n",
       "      <td>1</td>\n",
       "      <td>25</td>\n",
       "      <td>265.1</td>\n",
       "      <td>110</td>\n",
       "      <td>45.07</td>\n",
       "      <td>197.4</td>\n",
       "      <td>99</td>\n",
       "      <td>16.78</td>\n",
       "      <td>244.7</td>\n",
       "      <td>91</td>\n",
       "      <td>11.01</td>\n",
       "      <td>10.0</td>\n",
       "      <td>3</td>\n",
       "      <td>2.70</td>\n",
       "      <td>1</td>\n",
       "      <td>0</td>\n",
       "    </tr>\n",
       "    <tr>\n",
       "      <th>1</th>\n",
       "      <td>107</td>\n",
       "      <td>0</td>\n",
       "      <td>1</td>\n",
       "      <td>26</td>\n",
       "      <td>161.6</td>\n",
       "      <td>123</td>\n",
       "      <td>27.47</td>\n",
       "      <td>195.5</td>\n",
       "      <td>103</td>\n",
       "      <td>16.62</td>\n",
       "      <td>254.4</td>\n",
       "      <td>103</td>\n",
       "      <td>11.45</td>\n",
       "      <td>13.7</td>\n",
       "      <td>3</td>\n",
       "      <td>3.70</td>\n",
       "      <td>1</td>\n",
       "      <td>0</td>\n",
       "    </tr>\n",
       "    <tr>\n",
       "      <th>2</th>\n",
       "      <td>137</td>\n",
       "      <td>0</td>\n",
       "      <td>0</td>\n",
       "      <td>0</td>\n",
       "      <td>243.4</td>\n",
       "      <td>114</td>\n",
       "      <td>41.38</td>\n",
       "      <td>121.2</td>\n",
       "      <td>110</td>\n",
       "      <td>10.30</td>\n",
       "      <td>162.6</td>\n",
       "      <td>104</td>\n",
       "      <td>7.32</td>\n",
       "      <td>12.2</td>\n",
       "      <td>5</td>\n",
       "      <td>3.29</td>\n",
       "      <td>0</td>\n",
       "      <td>0</td>\n",
       "    </tr>\n",
       "    <tr>\n",
       "      <th>3</th>\n",
       "      <td>84</td>\n",
       "      <td>1</td>\n",
       "      <td>0</td>\n",
       "      <td>0</td>\n",
       "      <td>299.4</td>\n",
       "      <td>71</td>\n",
       "      <td>50.90</td>\n",
       "      <td>61.9</td>\n",
       "      <td>88</td>\n",
       "      <td>5.26</td>\n",
       "      <td>196.9</td>\n",
       "      <td>89</td>\n",
       "      <td>8.86</td>\n",
       "      <td>6.6</td>\n",
       "      <td>7</td>\n",
       "      <td>1.78</td>\n",
       "      <td>2</td>\n",
       "      <td>0</td>\n",
       "    </tr>\n",
       "    <tr>\n",
       "      <th>4</th>\n",
       "      <td>75</td>\n",
       "      <td>1</td>\n",
       "      <td>0</td>\n",
       "      <td>0</td>\n",
       "      <td>166.7</td>\n",
       "      <td>113</td>\n",
       "      <td>28.34</td>\n",
       "      <td>148.3</td>\n",
       "      <td>122</td>\n",
       "      <td>12.61</td>\n",
       "      <td>186.9</td>\n",
       "      <td>121</td>\n",
       "      <td>8.41</td>\n",
       "      <td>10.1</td>\n",
       "      <td>3</td>\n",
       "      <td>2.73</td>\n",
       "      <td>3</td>\n",
       "      <td>0</td>\n",
       "    </tr>\n",
       "  </tbody>\n",
       "</table>\n",
       "</div>"
      ],
      "text/plain": [
       "   account_length  intl_plan  voice_mail_plan  number_vmail_messages  \\\n",
       "0             128          0                1                     25   \n",
       "1             107          0                1                     26   \n",
       "2             137          0                0                      0   \n",
       "3              84          1                0                      0   \n",
       "4              75          1                0                      0   \n",
       "\n",
       "   total_day_minutes  total_day_calls  total_day_charge  total_eve_minutes  \\\n",
       "0              265.1              110             45.07              197.4   \n",
       "1              161.6              123             27.47              195.5   \n",
       "2              243.4              114             41.38              121.2   \n",
       "3              299.4               71             50.90               61.9   \n",
       "4              166.7              113             28.34              148.3   \n",
       "\n",
       "   total_eve_calls  total_eve_charge  total_night_minutes  total_night_calls  \\\n",
       "0               99             16.78                244.7                 91   \n",
       "1              103             16.62                254.4                103   \n",
       "2              110             10.30                162.6                104   \n",
       "3               88              5.26                196.9                 89   \n",
       "4              122             12.61                186.9                121   \n",
       "\n",
       "   total_night_charge  total_intl_minutes  total_intl_calls  \\\n",
       "0               11.01                10.0                 3   \n",
       "1               11.45                13.7                 3   \n",
       "2                7.32                12.2                 5   \n",
       "3                8.86                 6.6                 7   \n",
       "4                8.41                10.1                 3   \n",
       "\n",
       "   total_intl_charge  number_customer_service_calls  churned  \n",
       "0               2.70                              1        0  \n",
       "1               3.70                              1        0  \n",
       "2               3.29                              0        0  \n",
       "3               1.78                              2        0  \n",
       "4               2.73                              3        0  "
      ]
     },
     "execution_count": 37,
     "metadata": {},
     "output_type": "execute_result"
    }
   ],
   "source": [
    "df.head()"
   ]
  },
  {
   "cell_type": "code",
   "execution_count": null,
   "metadata": {},
   "outputs": [],
   "source": []
  },
  {
   "cell_type": "code",
   "execution_count": null,
   "metadata": {},
   "outputs": [],
   "source": []
  },
  {
   "cell_type": "code",
   "execution_count": null,
   "metadata": {},
   "outputs": [],
   "source": []
  },
  {
   "cell_type": "markdown",
   "metadata": {},
   "source": [
    "# Preprocessing Techniques\n",
    "\n",
    "* Data Preprocessing is a technique that is used to convert the raw data into a clean data set\n",
    "\n",
    "### Data preprocessing steps\n",
    "\n",
    "* Loading data \n",
    "* Exploring data \n",
    "* Cleaning data  \n",
    "* Transforming data \n",
    "\n",
    "    * will learn data preprocessing techniques with scikit-learn, one of the most popular frameworks used for industry data science\n",
    "    * The scikit-learn library includes tools for data preprocessing and data mining. It is imported in Python via the statement import sklearn.\n",
    "\n",
    "![ddd.PNG](ddd.PNG)\n",
    "\n",
    "### Data Imputation \n",
    "\n",
    "* if the dataset is missing too many values, we just don't use it\n",
    "*  if only a few of the values are missing, we can perform data imputation to substitute the missing data with some other value(s).\n",
    "* There are many different methods for data imputation\n",
    "    * Using the mean value\n",
    "    * Using the median value\n",
    "    * Using the most frequent value\n",
    "    * Filling in missing values with a constant\n",
    "\n",
    "\n",
    "\n",
    "## Feature Scaling\n",
    "\n",
    "### 1. Standardizing Data\n",
    "                    \n",
    "\n",
    "* Data scientists will convert the data into a standard format to make it easier to understand.\n",
    "* The standard format refers to data that has 0 mean and unit variance (i.e. standard deviation = 1), and the process of    converting data into this format is called data standardization.\n",
    "* improve the performance of models\n",
    "* it rescales the data to have mean = 0 and varience(statistical measure that provides indicator of data's dispresion) = 1\n",
    "\n",
    "* Standardization rescales data so that it has a mean of 0 and a standard deviation of 1.\n",
    "* The formula for this is:  (𝑥 − 𝜇)/𝜎\n",
    "\n",
    "    * We subtract the mean (𝜇) from each value (x) and then divide by the standard deviation (𝜎)\n",
    "    \n",
    "![stddata.PNG](stddata.PNG)\n",
    "\n",
    "![std.PNG](std.PNG)\n",
    "\n",
    "    \n",
    "### 2. Data Range\n",
    "\n",
    "* Scale data by compressing it into a fixed range\n",
    "* One of the biggest use cases for this is compressing data into the range [0, 1]\n",
    "* Classifier is MinMaxScaler \n",
    "\n",
    "![minmax.PNG](minmax.PNG)\n",
    "\n",
    "### 3. Normalizing Data\n",
    "\n",
    "* Want to scale the individual data observations (i.e. rows)\n",
    "* Used in classification Problems and data mining \n",
    "* **ex : columns : salary,ex_yr,position_levels**\n",
    "* when clustering data we need to apply L2 normalization to each row\n",
    "* L2 normalization applied to a particular row of a data array \n",
    "* L2 norm of a row is just the square root of the sum of squared values for the row\n",
    "\n",
    "![normal.PNG](normal.PNG)\n",
    "\n",
    "\n",
    "### 4. Robust Scaling\n",
    "* Deal with is outliers (data point that is significantly further away from the other data points)\n",
    "* Robustly scale the data, i.e. avoid being affected by outliers\n",
    "* Scaling by using data's median and Interquartile Range (IQR)\n",
    "* Here mean affected but median remains same\n",
    "* Subtract the median from each data value then scale to the IQR\n",
    "\n",
    "\n"
   ]
  },
  {
   "cell_type": "markdown",
   "metadata": {},
   "source": [
    "12kg, 34gm, 46mm, 4tone --- \n",
    "\n",
    "total weight -- \n",
    "convert all these data into same unit -- \n",
    "\n",
    "Scaling\n"
   ]
  },
  {
   "cell_type": "code",
   "execution_count": 38,
   "metadata": {},
   "outputs": [],
   "source": [
    "# appling preprocessing Technique\n"
   ]
  },
  {
   "cell_type": "code",
   "execution_count": 39,
   "metadata": {},
   "outputs": [],
   "source": [
    "from sklearn.preprocessing import MinMaxScaler"
   ]
  },
  {
   "cell_type": "code",
   "execution_count": 40,
   "metadata": {},
   "outputs": [],
   "source": [
    "mnScl = MinMaxScaler()"
   ]
  },
  {
   "cell_type": "code",
   "execution_count": 48,
   "metadata": {},
   "outputs": [],
   "source": [
    "mnScl = mnScl.fit_transform(df)"
   ]
  },
  {
   "cell_type": "code",
   "execution_count": 49,
   "metadata": {},
   "outputs": [],
   "source": [
    "df_scl = pd.DataFrame(mnScl)"
   ]
  },
  {
   "cell_type": "code",
   "execution_count": 52,
   "metadata": {
    "collapsed": true
   },
   "outputs": [
    {
     "data": {
      "text/html": [
       "<div>\n",
       "<style scoped>\n",
       "    .dataframe tbody tr th:only-of-type {\n",
       "        vertical-align: middle;\n",
       "    }\n",
       "\n",
       "    .dataframe tbody tr th {\n",
       "        vertical-align: top;\n",
       "    }\n",
       "\n",
       "    .dataframe thead th {\n",
       "        text-align: right;\n",
       "    }\n",
       "</style>\n",
       "<table border=\"1\" class=\"dataframe\">\n",
       "  <thead>\n",
       "    <tr style=\"text-align: right;\">\n",
       "      <th></th>\n",
       "      <th>account_length</th>\n",
       "      <th>intl_plan</th>\n",
       "      <th>voice_mail_plan</th>\n",
       "      <th>number_vmail_messages</th>\n",
       "      <th>total_day_minutes</th>\n",
       "      <th>total_day_calls</th>\n",
       "      <th>total_day_charge</th>\n",
       "      <th>total_eve_minutes</th>\n",
       "      <th>total_eve_calls</th>\n",
       "      <th>total_eve_charge</th>\n",
       "      <th>total_night_minutes</th>\n",
       "      <th>total_night_calls</th>\n",
       "      <th>total_night_charge</th>\n",
       "      <th>total_intl_minutes</th>\n",
       "      <th>total_intl_calls</th>\n",
       "      <th>total_intl_charge</th>\n",
       "      <th>number_customer_service_calls</th>\n",
       "      <th>churned</th>\n",
       "    </tr>\n",
       "  </thead>\n",
       "  <tbody>\n",
       "    <tr>\n",
       "      <th>0</th>\n",
       "      <td>0.524793</td>\n",
       "      <td>0.0</td>\n",
       "      <td>1.0</td>\n",
       "      <td>0.480769</td>\n",
       "      <td>0.754196</td>\n",
       "      <td>0.666667</td>\n",
       "      <td>0.754183</td>\n",
       "      <td>0.542755</td>\n",
       "      <td>0.582353</td>\n",
       "      <td>0.542866</td>\n",
       "      <td>0.619494</td>\n",
       "      <td>0.520000</td>\n",
       "      <td>0.619584</td>\n",
       "      <td>0.500</td>\n",
       "      <td>0.15</td>\n",
       "      <td>0.500000</td>\n",
       "      <td>0.111111</td>\n",
       "      <td>0.0</td>\n",
       "    </tr>\n",
       "    <tr>\n",
       "      <th>1</th>\n",
       "      <td>0.438017</td>\n",
       "      <td>0.0</td>\n",
       "      <td>1.0</td>\n",
       "      <td>0.500000</td>\n",
       "      <td>0.459744</td>\n",
       "      <td>0.745455</td>\n",
       "      <td>0.459672</td>\n",
       "      <td>0.537531</td>\n",
       "      <td>0.605882</td>\n",
       "      <td>0.537690</td>\n",
       "      <td>0.644051</td>\n",
       "      <td>0.588571</td>\n",
       "      <td>0.644344</td>\n",
       "      <td>0.685</td>\n",
       "      <td>0.15</td>\n",
       "      <td>0.685185</td>\n",
       "      <td>0.111111</td>\n",
       "      <td>0.0</td>\n",
       "    </tr>\n",
       "    <tr>\n",
       "      <th>2</th>\n",
       "      <td>0.561983</td>\n",
       "      <td>0.0</td>\n",
       "      <td>0.0</td>\n",
       "      <td>0.000000</td>\n",
       "      <td>0.692461</td>\n",
       "      <td>0.690909</td>\n",
       "      <td>0.692436</td>\n",
       "      <td>0.333242</td>\n",
       "      <td>0.647059</td>\n",
       "      <td>0.333225</td>\n",
       "      <td>0.411646</td>\n",
       "      <td>0.594286</td>\n",
       "      <td>0.411930</td>\n",
       "      <td>0.610</td>\n",
       "      <td>0.25</td>\n",
       "      <td>0.609259</td>\n",
       "      <td>0.000000</td>\n",
       "      <td>0.0</td>\n",
       "    </tr>\n",
       "    <tr>\n",
       "      <th>3</th>\n",
       "      <td>0.342975</td>\n",
       "      <td>1.0</td>\n",
       "      <td>0.0</td>\n",
       "      <td>0.000000</td>\n",
       "      <td>0.851778</td>\n",
       "      <td>0.430303</td>\n",
       "      <td>0.851740</td>\n",
       "      <td>0.170195</td>\n",
       "      <td>0.517647</td>\n",
       "      <td>0.170171</td>\n",
       "      <td>0.498481</td>\n",
       "      <td>0.508571</td>\n",
       "      <td>0.498593</td>\n",
       "      <td>0.330</td>\n",
       "      <td>0.35</td>\n",
       "      <td>0.329630</td>\n",
       "      <td>0.222222</td>\n",
       "      <td>0.0</td>\n",
       "    </tr>\n",
       "    <tr>\n",
       "      <th>4</th>\n",
       "      <td>0.305785</td>\n",
       "      <td>1.0</td>\n",
       "      <td>0.0</td>\n",
       "      <td>0.000000</td>\n",
       "      <td>0.474253</td>\n",
       "      <td>0.684848</td>\n",
       "      <td>0.474230</td>\n",
       "      <td>0.407754</td>\n",
       "      <td>0.717647</td>\n",
       "      <td>0.407959</td>\n",
       "      <td>0.473165</td>\n",
       "      <td>0.691429</td>\n",
       "      <td>0.473270</td>\n",
       "      <td>0.505</td>\n",
       "      <td>0.15</td>\n",
       "      <td>0.505556</td>\n",
       "      <td>0.333333</td>\n",
       "      <td>0.0</td>\n",
       "    </tr>\n",
       "    <tr>\n",
       "      <th>...</th>\n",
       "      <td>...</td>\n",
       "      <td>...</td>\n",
       "      <td>...</td>\n",
       "      <td>...</td>\n",
       "      <td>...</td>\n",
       "      <td>...</td>\n",
       "      <td>...</td>\n",
       "      <td>...</td>\n",
       "      <td>...</td>\n",
       "      <td>...</td>\n",
       "      <td>...</td>\n",
       "      <td>...</td>\n",
       "      <td>...</td>\n",
       "      <td>...</td>\n",
       "      <td>...</td>\n",
       "      <td>...</td>\n",
       "      <td>...</td>\n",
       "      <td>...</td>\n",
       "    </tr>\n",
       "    <tr>\n",
       "      <th>4995</th>\n",
       "      <td>0.202479</td>\n",
       "      <td>0.0</td>\n",
       "      <td>1.0</td>\n",
       "      <td>0.769231</td>\n",
       "      <td>0.670555</td>\n",
       "      <td>0.769697</td>\n",
       "      <td>0.670515</td>\n",
       "      <td>0.613143</td>\n",
       "      <td>0.741176</td>\n",
       "      <td>0.613394</td>\n",
       "      <td>0.753165</td>\n",
       "      <td>0.662857</td>\n",
       "      <td>0.753517</td>\n",
       "      <td>0.495</td>\n",
       "      <td>0.25</td>\n",
       "      <td>0.494444</td>\n",
       "      <td>0.222222</td>\n",
       "      <td>0.0</td>\n",
       "    </tr>\n",
       "    <tr>\n",
       "      <th>4996</th>\n",
       "      <td>0.623967</td>\n",
       "      <td>0.0</td>\n",
       "      <td>0.0</td>\n",
       "      <td>0.000000</td>\n",
       "      <td>0.524040</td>\n",
       "      <td>0.545455</td>\n",
       "      <td>0.523929</td>\n",
       "      <td>0.706076</td>\n",
       "      <td>0.429412</td>\n",
       "      <td>0.706244</td>\n",
       "      <td>0.540759</td>\n",
       "      <td>0.645714</td>\n",
       "      <td>0.540799</td>\n",
       "      <td>0.735</td>\n",
       "      <td>0.10</td>\n",
       "      <td>0.735185</td>\n",
       "      <td>0.333333</td>\n",
       "      <td>1.0</td>\n",
       "    </tr>\n",
       "    <tr>\n",
       "      <th>4997</th>\n",
       "      <td>0.247934</td>\n",
       "      <td>0.0</td>\n",
       "      <td>0.0</td>\n",
       "      <td>0.000000</td>\n",
       "      <td>0.400000</td>\n",
       "      <td>0.539394</td>\n",
       "      <td>0.399933</td>\n",
       "      <td>0.475117</td>\n",
       "      <td>0.752941</td>\n",
       "      <td>0.475251</td>\n",
       "      <td>0.537722</td>\n",
       "      <td>0.554286</td>\n",
       "      <td>0.537985</td>\n",
       "      <td>0.680</td>\n",
       "      <td>0.20</td>\n",
       "      <td>0.679630</td>\n",
       "      <td>0.111111</td>\n",
       "      <td>0.0</td>\n",
       "    </tr>\n",
       "    <tr>\n",
       "      <th>4998</th>\n",
       "      <td>0.446281</td>\n",
       "      <td>0.0</td>\n",
       "      <td>0.0</td>\n",
       "      <td>0.000000</td>\n",
       "      <td>0.537127</td>\n",
       "      <td>0.406061</td>\n",
       "      <td>0.537149</td>\n",
       "      <td>0.472092</td>\n",
       "      <td>0.541176</td>\n",
       "      <td>0.472016</td>\n",
       "      <td>0.568101</td>\n",
       "      <td>0.508571</td>\n",
       "      <td>0.568374</td>\n",
       "      <td>0.425</td>\n",
       "      <td>0.30</td>\n",
       "      <td>0.425926</td>\n",
       "      <td>0.000000</td>\n",
       "      <td>0.0</td>\n",
       "    </tr>\n",
       "    <tr>\n",
       "      <th>4999</th>\n",
       "      <td>0.351240</td>\n",
       "      <td>0.0</td>\n",
       "      <td>1.0</td>\n",
       "      <td>0.653846</td>\n",
       "      <td>0.368137</td>\n",
       "      <td>0.618182</td>\n",
       "      <td>0.368139</td>\n",
       "      <td>0.734396</td>\n",
       "      <td>0.611765</td>\n",
       "      <td>0.734390</td>\n",
       "      <td>0.391899</td>\n",
       "      <td>0.571429</td>\n",
       "      <td>0.392234</td>\n",
       "      <td>0.465</td>\n",
       "      <td>0.80</td>\n",
       "      <td>0.464815</td>\n",
       "      <td>0.000000</td>\n",
       "      <td>0.0</td>\n",
       "    </tr>\n",
       "  </tbody>\n",
       "</table>\n",
       "<p>5000 rows × 18 columns</p>\n",
       "</div>"
      ],
      "text/plain": [
       "      account_length  intl_plan  voice_mail_plan  number_vmail_messages  \\\n",
       "0           0.524793        0.0              1.0               0.480769   \n",
       "1           0.438017        0.0              1.0               0.500000   \n",
       "2           0.561983        0.0              0.0               0.000000   \n",
       "3           0.342975        1.0              0.0               0.000000   \n",
       "4           0.305785        1.0              0.0               0.000000   \n",
       "...              ...        ...              ...                    ...   \n",
       "4995        0.202479        0.0              1.0               0.769231   \n",
       "4996        0.623967        0.0              0.0               0.000000   \n",
       "4997        0.247934        0.0              0.0               0.000000   \n",
       "4998        0.446281        0.0              0.0               0.000000   \n",
       "4999        0.351240        0.0              1.0               0.653846   \n",
       "\n",
       "      total_day_minutes  total_day_calls  total_day_charge  total_eve_minutes  \\\n",
       "0              0.754196         0.666667          0.754183           0.542755   \n",
       "1              0.459744         0.745455          0.459672           0.537531   \n",
       "2              0.692461         0.690909          0.692436           0.333242   \n",
       "3              0.851778         0.430303          0.851740           0.170195   \n",
       "4              0.474253         0.684848          0.474230           0.407754   \n",
       "...                 ...              ...               ...                ...   \n",
       "4995           0.670555         0.769697          0.670515           0.613143   \n",
       "4996           0.524040         0.545455          0.523929           0.706076   \n",
       "4997           0.400000         0.539394          0.399933           0.475117   \n",
       "4998           0.537127         0.406061          0.537149           0.472092   \n",
       "4999           0.368137         0.618182          0.368139           0.734396   \n",
       "\n",
       "      total_eve_calls  total_eve_charge  total_night_minutes  \\\n",
       "0            0.582353          0.542866             0.619494   \n",
       "1            0.605882          0.537690             0.644051   \n",
       "2            0.647059          0.333225             0.411646   \n",
       "3            0.517647          0.170171             0.498481   \n",
       "4            0.717647          0.407959             0.473165   \n",
       "...               ...               ...                  ...   \n",
       "4995         0.741176          0.613394             0.753165   \n",
       "4996         0.429412          0.706244             0.540759   \n",
       "4997         0.752941          0.475251             0.537722   \n",
       "4998         0.541176          0.472016             0.568101   \n",
       "4999         0.611765          0.734390             0.391899   \n",
       "\n",
       "      total_night_calls  total_night_charge  total_intl_minutes  \\\n",
       "0              0.520000            0.619584               0.500   \n",
       "1              0.588571            0.644344               0.685   \n",
       "2              0.594286            0.411930               0.610   \n",
       "3              0.508571            0.498593               0.330   \n",
       "4              0.691429            0.473270               0.505   \n",
       "...                 ...                 ...                 ...   \n",
       "4995           0.662857            0.753517               0.495   \n",
       "4996           0.645714            0.540799               0.735   \n",
       "4997           0.554286            0.537985               0.680   \n",
       "4998           0.508571            0.568374               0.425   \n",
       "4999           0.571429            0.392234               0.465   \n",
       "\n",
       "      total_intl_calls  total_intl_charge  number_customer_service_calls  \\\n",
       "0                 0.15           0.500000                       0.111111   \n",
       "1                 0.15           0.685185                       0.111111   \n",
       "2                 0.25           0.609259                       0.000000   \n",
       "3                 0.35           0.329630                       0.222222   \n",
       "4                 0.15           0.505556                       0.333333   \n",
       "...                ...                ...                            ...   \n",
       "4995              0.25           0.494444                       0.222222   \n",
       "4996              0.10           0.735185                       0.333333   \n",
       "4997              0.20           0.679630                       0.111111   \n",
       "4998              0.30           0.425926                       0.000000   \n",
       "4999              0.80           0.464815                       0.000000   \n",
       "\n",
       "      churned  \n",
       "0         0.0  \n",
       "1         0.0  \n",
       "2         0.0  \n",
       "3         0.0  \n",
       "4         0.0  \n",
       "...       ...  \n",
       "4995      0.0  \n",
       "4996      1.0  \n",
       "4997      0.0  \n",
       "4998      0.0  \n",
       "4999      0.0  \n",
       "\n",
       "[5000 rows x 18 columns]"
      ]
     },
     "execution_count": 52,
     "metadata": {},
     "output_type": "execute_result"
    }
   ],
   "source": [
    "df_scl.columns = df.columns\n",
    "df_scl"
   ]
  },
  {
   "cell_type": "code",
   "execution_count": 53,
   "metadata": {
    "collapsed": true
   },
   "outputs": [
    {
     "data": {
      "text/plain": [
       "account_length                   1.0\n",
       "intl_plan                        1.0\n",
       "voice_mail_plan                  1.0\n",
       "number_vmail_messages            1.0\n",
       "total_day_minutes                1.0\n",
       "total_day_calls                  1.0\n",
       "total_day_charge                 1.0\n",
       "total_eve_minutes                1.0\n",
       "total_eve_calls                  1.0\n",
       "total_eve_charge                 1.0\n",
       "total_night_minutes              1.0\n",
       "total_night_calls                1.0\n",
       "total_night_charge               1.0\n",
       "total_intl_minutes               1.0\n",
       "total_intl_calls                 1.0\n",
       "total_intl_charge                1.0\n",
       "number_customer_service_calls    1.0\n",
       "churned                          1.0\n",
       "dtype: float64"
      ]
     },
     "execution_count": 53,
     "metadata": {},
     "output_type": "execute_result"
    }
   ],
   "source": [
    "df_scl.max()"
   ]
  },
  {
   "cell_type": "code",
   "execution_count": 54,
   "metadata": {
    "collapsed": true
   },
   "outputs": [
    {
     "data": {
      "text/plain": [
       "account_length                   0.0\n",
       "intl_plan                        0.0\n",
       "voice_mail_plan                  0.0\n",
       "number_vmail_messages            0.0\n",
       "total_day_minutes                0.0\n",
       "total_day_calls                  0.0\n",
       "total_day_charge                 0.0\n",
       "total_eve_minutes                0.0\n",
       "total_eve_calls                  0.0\n",
       "total_eve_charge                 0.0\n",
       "total_night_minutes              0.0\n",
       "total_night_calls                0.0\n",
       "total_night_charge               0.0\n",
       "total_intl_minutes               0.0\n",
       "total_intl_calls                 0.0\n",
       "total_intl_charge                0.0\n",
       "number_customer_service_calls    0.0\n",
       "churned                          0.0\n",
       "dtype: float64"
      ]
     },
     "execution_count": 54,
     "metadata": {},
     "output_type": "execute_result"
    }
   ],
   "source": [
    "df_scl.min()"
   ]
  },
  {
   "cell_type": "code",
   "execution_count": 60,
   "metadata": {},
   "outputs": [],
   "source": [
    "mini = df[\"account_length\"].min()"
   ]
  },
  {
   "cell_type": "code",
   "execution_count": 61,
   "metadata": {},
   "outputs": [],
   "source": [
    "maxa  = df[\"account_length\"].max()"
   ]
  },
  {
   "cell_type": "code",
   "execution_count": 63,
   "metadata": {},
   "outputs": [
    {
     "data": {
      "text/plain": [
       "0.5247933884297521"
      ]
     },
     "execution_count": 63,
     "metadata": {},
     "output_type": "execute_result"
    }
   ],
   "source": [
    "(df[\"account_length\"][0] - mini ) / (maxa - mini)  # manually calculation "
   ]
  },
  {
   "cell_type": "code",
   "execution_count": 64,
   "metadata": {},
   "outputs": [],
   "source": [
    "# training and Testing\n",
    "\n",
    "from sklearn.model_selection import train_test_split"
   ]
  },
  {
   "cell_type": "code",
   "execution_count": 65,
   "metadata": {
    "collapsed": true
   },
   "outputs": [
    {
     "data": {
      "text/html": [
       "<div>\n",
       "<style scoped>\n",
       "    .dataframe tbody tr th:only-of-type {\n",
       "        vertical-align: middle;\n",
       "    }\n",
       "\n",
       "    .dataframe tbody tr th {\n",
       "        vertical-align: top;\n",
       "    }\n",
       "\n",
       "    .dataframe thead th {\n",
       "        text-align: right;\n",
       "    }\n",
       "</style>\n",
       "<table border=\"1\" class=\"dataframe\">\n",
       "  <thead>\n",
       "    <tr style=\"text-align: right;\">\n",
       "      <th></th>\n",
       "      <th>account_length</th>\n",
       "      <th>intl_plan</th>\n",
       "      <th>voice_mail_plan</th>\n",
       "      <th>number_vmail_messages</th>\n",
       "      <th>total_day_minutes</th>\n",
       "      <th>total_day_calls</th>\n",
       "      <th>total_day_charge</th>\n",
       "      <th>total_eve_minutes</th>\n",
       "      <th>total_eve_calls</th>\n",
       "      <th>total_eve_charge</th>\n",
       "      <th>total_night_minutes</th>\n",
       "      <th>total_night_calls</th>\n",
       "      <th>total_night_charge</th>\n",
       "      <th>total_intl_minutes</th>\n",
       "      <th>total_intl_calls</th>\n",
       "      <th>total_intl_charge</th>\n",
       "      <th>number_customer_service_calls</th>\n",
       "    </tr>\n",
       "  </thead>\n",
       "  <tbody>\n",
       "    <tr>\n",
       "      <th>0</th>\n",
       "      <td>0.524793</td>\n",
       "      <td>0.0</td>\n",
       "      <td>1.0</td>\n",
       "      <td>0.480769</td>\n",
       "      <td>0.754196</td>\n",
       "      <td>0.666667</td>\n",
       "      <td>0.754183</td>\n",
       "      <td>0.542755</td>\n",
       "      <td>0.582353</td>\n",
       "      <td>0.542866</td>\n",
       "      <td>0.619494</td>\n",
       "      <td>0.520000</td>\n",
       "      <td>0.619584</td>\n",
       "      <td>0.500</td>\n",
       "      <td>0.15</td>\n",
       "      <td>0.500000</td>\n",
       "      <td>0.111111</td>\n",
       "    </tr>\n",
       "    <tr>\n",
       "      <th>1</th>\n",
       "      <td>0.438017</td>\n",
       "      <td>0.0</td>\n",
       "      <td>1.0</td>\n",
       "      <td>0.500000</td>\n",
       "      <td>0.459744</td>\n",
       "      <td>0.745455</td>\n",
       "      <td>0.459672</td>\n",
       "      <td>0.537531</td>\n",
       "      <td>0.605882</td>\n",
       "      <td>0.537690</td>\n",
       "      <td>0.644051</td>\n",
       "      <td>0.588571</td>\n",
       "      <td>0.644344</td>\n",
       "      <td>0.685</td>\n",
       "      <td>0.15</td>\n",
       "      <td>0.685185</td>\n",
       "      <td>0.111111</td>\n",
       "    </tr>\n",
       "    <tr>\n",
       "      <th>2</th>\n",
       "      <td>0.561983</td>\n",
       "      <td>0.0</td>\n",
       "      <td>0.0</td>\n",
       "      <td>0.000000</td>\n",
       "      <td>0.692461</td>\n",
       "      <td>0.690909</td>\n",
       "      <td>0.692436</td>\n",
       "      <td>0.333242</td>\n",
       "      <td>0.647059</td>\n",
       "      <td>0.333225</td>\n",
       "      <td>0.411646</td>\n",
       "      <td>0.594286</td>\n",
       "      <td>0.411930</td>\n",
       "      <td>0.610</td>\n",
       "      <td>0.25</td>\n",
       "      <td>0.609259</td>\n",
       "      <td>0.000000</td>\n",
       "    </tr>\n",
       "    <tr>\n",
       "      <th>3</th>\n",
       "      <td>0.342975</td>\n",
       "      <td>1.0</td>\n",
       "      <td>0.0</td>\n",
       "      <td>0.000000</td>\n",
       "      <td>0.851778</td>\n",
       "      <td>0.430303</td>\n",
       "      <td>0.851740</td>\n",
       "      <td>0.170195</td>\n",
       "      <td>0.517647</td>\n",
       "      <td>0.170171</td>\n",
       "      <td>0.498481</td>\n",
       "      <td>0.508571</td>\n",
       "      <td>0.498593</td>\n",
       "      <td>0.330</td>\n",
       "      <td>0.35</td>\n",
       "      <td>0.329630</td>\n",
       "      <td>0.222222</td>\n",
       "    </tr>\n",
       "    <tr>\n",
       "      <th>4</th>\n",
       "      <td>0.305785</td>\n",
       "      <td>1.0</td>\n",
       "      <td>0.0</td>\n",
       "      <td>0.000000</td>\n",
       "      <td>0.474253</td>\n",
       "      <td>0.684848</td>\n",
       "      <td>0.474230</td>\n",
       "      <td>0.407754</td>\n",
       "      <td>0.717647</td>\n",
       "      <td>0.407959</td>\n",
       "      <td>0.473165</td>\n",
       "      <td>0.691429</td>\n",
       "      <td>0.473270</td>\n",
       "      <td>0.505</td>\n",
       "      <td>0.15</td>\n",
       "      <td>0.505556</td>\n",
       "      <td>0.333333</td>\n",
       "    </tr>\n",
       "    <tr>\n",
       "      <th>...</th>\n",
       "      <td>...</td>\n",
       "      <td>...</td>\n",
       "      <td>...</td>\n",
       "      <td>...</td>\n",
       "      <td>...</td>\n",
       "      <td>...</td>\n",
       "      <td>...</td>\n",
       "      <td>...</td>\n",
       "      <td>...</td>\n",
       "      <td>...</td>\n",
       "      <td>...</td>\n",
       "      <td>...</td>\n",
       "      <td>...</td>\n",
       "      <td>...</td>\n",
       "      <td>...</td>\n",
       "      <td>...</td>\n",
       "      <td>...</td>\n",
       "    </tr>\n",
       "    <tr>\n",
       "      <th>4995</th>\n",
       "      <td>0.202479</td>\n",
       "      <td>0.0</td>\n",
       "      <td>1.0</td>\n",
       "      <td>0.769231</td>\n",
       "      <td>0.670555</td>\n",
       "      <td>0.769697</td>\n",
       "      <td>0.670515</td>\n",
       "      <td>0.613143</td>\n",
       "      <td>0.741176</td>\n",
       "      <td>0.613394</td>\n",
       "      <td>0.753165</td>\n",
       "      <td>0.662857</td>\n",
       "      <td>0.753517</td>\n",
       "      <td>0.495</td>\n",
       "      <td>0.25</td>\n",
       "      <td>0.494444</td>\n",
       "      <td>0.222222</td>\n",
       "    </tr>\n",
       "    <tr>\n",
       "      <th>4996</th>\n",
       "      <td>0.623967</td>\n",
       "      <td>0.0</td>\n",
       "      <td>0.0</td>\n",
       "      <td>0.000000</td>\n",
       "      <td>0.524040</td>\n",
       "      <td>0.545455</td>\n",
       "      <td>0.523929</td>\n",
       "      <td>0.706076</td>\n",
       "      <td>0.429412</td>\n",
       "      <td>0.706244</td>\n",
       "      <td>0.540759</td>\n",
       "      <td>0.645714</td>\n",
       "      <td>0.540799</td>\n",
       "      <td>0.735</td>\n",
       "      <td>0.10</td>\n",
       "      <td>0.735185</td>\n",
       "      <td>0.333333</td>\n",
       "    </tr>\n",
       "    <tr>\n",
       "      <th>4997</th>\n",
       "      <td>0.247934</td>\n",
       "      <td>0.0</td>\n",
       "      <td>0.0</td>\n",
       "      <td>0.000000</td>\n",
       "      <td>0.400000</td>\n",
       "      <td>0.539394</td>\n",
       "      <td>0.399933</td>\n",
       "      <td>0.475117</td>\n",
       "      <td>0.752941</td>\n",
       "      <td>0.475251</td>\n",
       "      <td>0.537722</td>\n",
       "      <td>0.554286</td>\n",
       "      <td>0.537985</td>\n",
       "      <td>0.680</td>\n",
       "      <td>0.20</td>\n",
       "      <td>0.679630</td>\n",
       "      <td>0.111111</td>\n",
       "    </tr>\n",
       "    <tr>\n",
       "      <th>4998</th>\n",
       "      <td>0.446281</td>\n",
       "      <td>0.0</td>\n",
       "      <td>0.0</td>\n",
       "      <td>0.000000</td>\n",
       "      <td>0.537127</td>\n",
       "      <td>0.406061</td>\n",
       "      <td>0.537149</td>\n",
       "      <td>0.472092</td>\n",
       "      <td>0.541176</td>\n",
       "      <td>0.472016</td>\n",
       "      <td>0.568101</td>\n",
       "      <td>0.508571</td>\n",
       "      <td>0.568374</td>\n",
       "      <td>0.425</td>\n",
       "      <td>0.30</td>\n",
       "      <td>0.425926</td>\n",
       "      <td>0.000000</td>\n",
       "    </tr>\n",
       "    <tr>\n",
       "      <th>4999</th>\n",
       "      <td>0.351240</td>\n",
       "      <td>0.0</td>\n",
       "      <td>1.0</td>\n",
       "      <td>0.653846</td>\n",
       "      <td>0.368137</td>\n",
       "      <td>0.618182</td>\n",
       "      <td>0.368139</td>\n",
       "      <td>0.734396</td>\n",
       "      <td>0.611765</td>\n",
       "      <td>0.734390</td>\n",
       "      <td>0.391899</td>\n",
       "      <td>0.571429</td>\n",
       "      <td>0.392234</td>\n",
       "      <td>0.465</td>\n",
       "      <td>0.80</td>\n",
       "      <td>0.464815</td>\n",
       "      <td>0.000000</td>\n",
       "    </tr>\n",
       "  </tbody>\n",
       "</table>\n",
       "<p>5000 rows × 17 columns</p>\n",
       "</div>"
      ],
      "text/plain": [
       "      account_length  intl_plan  voice_mail_plan  number_vmail_messages  \\\n",
       "0           0.524793        0.0              1.0               0.480769   \n",
       "1           0.438017        0.0              1.0               0.500000   \n",
       "2           0.561983        0.0              0.0               0.000000   \n",
       "3           0.342975        1.0              0.0               0.000000   \n",
       "4           0.305785        1.0              0.0               0.000000   \n",
       "...              ...        ...              ...                    ...   \n",
       "4995        0.202479        0.0              1.0               0.769231   \n",
       "4996        0.623967        0.0              0.0               0.000000   \n",
       "4997        0.247934        0.0              0.0               0.000000   \n",
       "4998        0.446281        0.0              0.0               0.000000   \n",
       "4999        0.351240        0.0              1.0               0.653846   \n",
       "\n",
       "      total_day_minutes  total_day_calls  total_day_charge  total_eve_minutes  \\\n",
       "0              0.754196         0.666667          0.754183           0.542755   \n",
       "1              0.459744         0.745455          0.459672           0.537531   \n",
       "2              0.692461         0.690909          0.692436           0.333242   \n",
       "3              0.851778         0.430303          0.851740           0.170195   \n",
       "4              0.474253         0.684848          0.474230           0.407754   \n",
       "...                 ...              ...               ...                ...   \n",
       "4995           0.670555         0.769697          0.670515           0.613143   \n",
       "4996           0.524040         0.545455          0.523929           0.706076   \n",
       "4997           0.400000         0.539394          0.399933           0.475117   \n",
       "4998           0.537127         0.406061          0.537149           0.472092   \n",
       "4999           0.368137         0.618182          0.368139           0.734396   \n",
       "\n",
       "      total_eve_calls  total_eve_charge  total_night_minutes  \\\n",
       "0            0.582353          0.542866             0.619494   \n",
       "1            0.605882          0.537690             0.644051   \n",
       "2            0.647059          0.333225             0.411646   \n",
       "3            0.517647          0.170171             0.498481   \n",
       "4            0.717647          0.407959             0.473165   \n",
       "...               ...               ...                  ...   \n",
       "4995         0.741176          0.613394             0.753165   \n",
       "4996         0.429412          0.706244             0.540759   \n",
       "4997         0.752941          0.475251             0.537722   \n",
       "4998         0.541176          0.472016             0.568101   \n",
       "4999         0.611765          0.734390             0.391899   \n",
       "\n",
       "      total_night_calls  total_night_charge  total_intl_minutes  \\\n",
       "0              0.520000            0.619584               0.500   \n",
       "1              0.588571            0.644344               0.685   \n",
       "2              0.594286            0.411930               0.610   \n",
       "3              0.508571            0.498593               0.330   \n",
       "4              0.691429            0.473270               0.505   \n",
       "...                 ...                 ...                 ...   \n",
       "4995           0.662857            0.753517               0.495   \n",
       "4996           0.645714            0.540799               0.735   \n",
       "4997           0.554286            0.537985               0.680   \n",
       "4998           0.508571            0.568374               0.425   \n",
       "4999           0.571429            0.392234               0.465   \n",
       "\n",
       "      total_intl_calls  total_intl_charge  number_customer_service_calls  \n",
       "0                 0.15           0.500000                       0.111111  \n",
       "1                 0.15           0.685185                       0.111111  \n",
       "2                 0.25           0.609259                       0.000000  \n",
       "3                 0.35           0.329630                       0.222222  \n",
       "4                 0.15           0.505556                       0.333333  \n",
       "...                ...                ...                            ...  \n",
       "4995              0.25           0.494444                       0.222222  \n",
       "4996              0.10           0.735185                       0.333333  \n",
       "4997              0.20           0.679630                       0.111111  \n",
       "4998              0.30           0.425926                       0.000000  \n",
       "4999              0.80           0.464815                       0.000000  \n",
       "\n",
       "[5000 rows x 17 columns]"
      ]
     },
     "execution_count": 65,
     "metadata": {},
     "output_type": "execute_result"
    }
   ],
   "source": [
    "X = df_scl[df.columns[:-1]]\n",
    "X"
   ]
  },
  {
   "cell_type": "code",
   "execution_count": 66,
   "metadata": {},
   "outputs": [],
   "source": [
    "y = df_scl[\"churned\"]"
   ]
  },
  {
   "cell_type": "code",
   "execution_count": 73,
   "metadata": {},
   "outputs": [],
   "source": [
    "X_train,X_test,y_train,y_test = train_test_split(X,y,test_size = 0.3)"
   ]
  },
  {
   "cell_type": "code",
   "execution_count": 74,
   "metadata": {},
   "outputs": [],
   "source": [
    "from sklearn.neighbors import KNeighborsClassifier"
   ]
  },
  {
   "cell_type": "code",
   "execution_count": 75,
   "metadata": {},
   "outputs": [],
   "source": [
    "knn = KNeighborsClassifier(n_neighbors=3)\n"
   ]
  },
  {
   "cell_type": "code",
   "execution_count": 76,
   "metadata": {},
   "outputs": [
    {
     "data": {
      "text/plain": [
       "KNeighborsClassifier(n_neighbors=3)"
      ]
     },
     "execution_count": 76,
     "metadata": {},
     "output_type": "execute_result"
    }
   ],
   "source": [
    "knn.fit(X_train,y_train)"
   ]
  },
  {
   "cell_type": "code",
   "execution_count": 77,
   "metadata": {},
   "outputs": [],
   "source": [
    "y_pred = knn.predict(X_test)"
   ]
  },
  {
   "cell_type": "code",
   "execution_count": 79,
   "metadata": {},
   "outputs": [],
   "source": [
    "def accuracy(y_test,y_pred):\n",
    "    return sum(y_test == y_pred) / len(y_test)"
   ]
  },
  {
   "cell_type": "code",
   "execution_count": 81,
   "metadata": {},
   "outputs": [
    {
     "data": {
      "text/plain": [
       "89.60000000000001"
      ]
     },
     "execution_count": 81,
     "metadata": {},
     "output_type": "execute_result"
    }
   ],
   "source": [
    "accuracy(y_test,y_pred)*100"
   ]
  },
  {
   "cell_type": "code",
   "execution_count": 82,
   "metadata": {},
   "outputs": [],
   "source": [
    "from sklearn.metrics import accuracy_score,confusion_matrix"
   ]
  },
  {
   "cell_type": "code",
   "execution_count": 84,
   "metadata": {},
   "outputs": [
    {
     "data": {
      "text/plain": [
       "89.60000000000001"
      ]
     },
     "execution_count": 84,
     "metadata": {},
     "output_type": "execute_result"
    }
   ],
   "source": [
    "accuracy_score(y_test,y_pred)*100"
   ]
  },
  {
   "cell_type": "code",
   "execution_count": 86,
   "metadata": {},
   "outputs": [
    {
     "data": {
      "text/html": [
       "<div>\n",
       "<style scoped>\n",
       "    .dataframe tbody tr th:only-of-type {\n",
       "        vertical-align: middle;\n",
       "    }\n",
       "\n",
       "    .dataframe tbody tr th {\n",
       "        vertical-align: top;\n",
       "    }\n",
       "\n",
       "    .dataframe thead th {\n",
       "        text-align: right;\n",
       "    }\n",
       "</style>\n",
       "<table border=\"1\" class=\"dataframe\">\n",
       "  <thead>\n",
       "    <tr style=\"text-align: right;\">\n",
       "      <th></th>\n",
       "      <th>0</th>\n",
       "      <th>1</th>\n",
       "    </tr>\n",
       "  </thead>\n",
       "  <tbody>\n",
       "    <tr>\n",
       "      <th>0</th>\n",
       "      <td>1264</td>\n",
       "      <td>17</td>\n",
       "    </tr>\n",
       "    <tr>\n",
       "      <th>1</th>\n",
       "      <td>139</td>\n",
       "      <td>80</td>\n",
       "    </tr>\n",
       "  </tbody>\n",
       "</table>\n",
       "</div>"
      ],
      "text/plain": [
       "      0   1\n",
       "0  1264  17\n",
       "1   139  80"
      ]
     },
     "execution_count": 86,
     "metadata": {},
     "output_type": "execute_result"
    }
   ],
   "source": [
    "pd.DataFrame(confusion_matrix(y_test,y_pred))"
   ]
  },
  {
   "cell_type": "code",
   "execution_count": 89,
   "metadata": {
    "collapsed": true
   },
   "outputs": [
    {
     "name": "stdout",
     "output_type": "stream",
     "text": [
      "Accuracy of  1 is 0.879\n",
      "Accuracy of  2 is 0.889\n",
      "Accuracy of  3 is 0.896\n",
      "Accuracy of  4 is 0.889\n",
      "Accuracy of  5 is 0.895\n",
      "Accuracy of  6 is 0.883\n",
      "Accuracy of  7 is 0.891\n",
      "Accuracy of  8 is 0.886\n",
      "Accuracy of  9 is 0.894\n",
      "Accuracy of  10 is 0.887\n"
     ]
    }
   ],
   "source": [
    "# fit our model by changing k values range from 1 - 10\n",
    "di = {}\n",
    "for k in range(1,11):\n",
    "    knn = KNeighborsClassifier(n_neighbors= k)\n",
    "    knn.fit(X_train,y_train)\n",
    "    y_pred = knn.predict(X_test)\n",
    "    print(\"Accuracy of \",k, \"is\", round(accuracy_score(y_test,y_pred),3))\n",
    "    di[k ] = round(accuracy_score(y_test,y_pred),3)"
   ]
  },
  {
   "cell_type": "code",
   "execution_count": 91,
   "metadata": {},
   "outputs": [
    {
     "data": {
      "text/plain": [
       "dict_keys([1, 2, 3, 4, 5, 6, 7, 8, 9, 10])"
      ]
     },
     "execution_count": 91,
     "metadata": {},
     "output_type": "execute_result"
    }
   ],
   "source": [
    "di.keys()"
   ]
  },
  {
   "cell_type": "code",
   "execution_count": 92,
   "metadata": {},
   "outputs": [
    {
     "data": {
      "text/plain": [
       "dict_values([0.879, 0.889, 0.896, 0.889, 0.895, 0.883, 0.891, 0.886, 0.894, 0.887])"
      ]
     },
     "execution_count": 92,
     "metadata": {},
     "output_type": "execute_result"
    }
   ],
   "source": [
    "di.values()"
   ]
  },
  {
   "cell_type": "code",
   "execution_count": 94,
   "metadata": {
    "collapsed": true
   },
   "outputs": [
    {
     "data": {
      "image/png": "[encoded data removed]",
      "text/plain": [
       "<Figure size 432x288 with 1 Axes>"
      ]
     },
     "metadata": {
      "needs_background": "light"
     },
     "output_type": "display_data"
    }
   ],
   "source": [
    "plt.plot(list(di.keys()),list(di.values()))\n",
    "plt.show()"
   ]
  },
  {
   "cell_type": "markdown",
   "metadata": {},
   "source": [
    "# KNN multi class classification\n",
    "\n",
    "* more than two class"
   ]
  },
  {
   "cell_type": "code",
   "execution_count": 95,
   "metadata": {},
   "outputs": [],
   "source": [
    "from sklearn.datasets import load_iris"
   ]
  },
  {
   "cell_type": "code",
   "execution_count": 96,
   "metadata": {},
   "outputs": [],
   "source": [
    "iris = load_iris()"
   ]
  },
  {
   "cell_type": "code",
   "execution_count": 97,
   "metadata": {},
   "outputs": [
    {
     "data": {
      "text/plain": [
       "dict_keys(['data', 'target', 'frame', 'target_names', 'DESCR', 'feature_names', 'filename'])"
      ]
     },
     "execution_count": 97,
     "metadata": {},
     "output_type": "execute_result"
    }
   ],
   "source": [
    "iris.keys()"
   ]
  },
  {
   "cell_type": "code",
   "execution_count": 98,
   "metadata": {},
   "outputs": [],
   "source": [
    "iris_df = pd.DataFrame(iris.data,columns = iris.feature_names)"
   ]
  },
  {
   "cell_type": "code",
   "execution_count": 100,
   "metadata": {},
   "outputs": [],
   "source": [
    "iris_df[\"Target\"] = iris.target"
   ]
  },
  {
   "cell_type": "code",
   "execution_count": 102,
   "metadata": {},
   "outputs": [
    {
     "data": {
      "text/plain": [
       "2    50\n",
       "1    50\n",
       "0    50\n",
       "Name: Target, dtype: int64"
      ]
     },
     "execution_count": 102,
     "metadata": {},
     "output_type": "execute_result"
    }
   ],
   "source": [
    "iris_df[\"Target\"].value_counts()"
   ]
  },
  {
   "cell_type": "code",
   "execution_count": 103,
   "metadata": {},
   "outputs": [
    {
     "data": {
      "text/plain": [
       "array(['setosa', 'versicolor', 'virginica'], dtype='<U10')"
      ]
     },
     "execution_count": 103,
     "metadata": {},
     "output_type": "execute_result"
    }
   ],
   "source": [
    "iris.target_names"
   ]
  },
  {
   "cell_type": "code",
   "execution_count": 104,
   "metadata": {
    "collapsed": true
   },
   "outputs": [
    {
     "data": {
      "text/plain": [
       "sepal length (cm)    0\n",
       "sepal width (cm)     0\n",
       "petal length (cm)    0\n",
       "petal width (cm)     0\n",
       "Target               0\n",
       "dtype: int64"
      ]
     },
     "execution_count": 104,
     "metadata": {},
     "output_type": "execute_result"
    }
   ],
   "source": [
    "iris_df.isna().sum()"
   ]
  },
  {
   "cell_type": "code",
   "execution_count": 105,
   "metadata": {},
   "outputs": [],
   "source": [
    "from sklearn.model_selection import train_test_split\n"
   ]
  },
  {
   "cell_type": "code",
   "execution_count": 107,
   "metadata": {},
   "outputs": [],
   "source": [
    "X = iris_df[iris_df.columns[:-1]]\n",
    "y = iris_df[\"Target\"]"
   ]
  },
  {
   "cell_type": "code",
   "execution_count": 108,
   "metadata": {},
   "outputs": [],
   "source": [
    "X_train,X_test,y_train,y_test = train_test_split(X,y,test_size = 0.3)"
   ]
  },
  {
   "cell_type": "code",
   "execution_count": 109,
   "metadata": {},
   "outputs": [],
   "source": [
    "from sklearn.neighbors import KNeighborsClassifier"
   ]
  },
  {
   "cell_type": "code",
   "execution_count": 110,
   "metadata": {},
   "outputs": [],
   "source": [
    "k = KNeighborsClassifier(n_neighbors=3)"
   ]
  },
  {
   "cell_type": "code",
   "execution_count": 111,
   "metadata": {},
   "outputs": [
    {
     "data": {
      "text/plain": [
       "KNeighborsClassifier(n_neighbors=3)"
      ]
     },
     "execution_count": 111,
     "metadata": {},
     "output_type": "execute_result"
    }
   ],
   "source": [
    "k.fit(X_train,y_train)"
   ]
  },
  {
   "cell_type": "code",
   "execution_count": 113,
   "metadata": {},
   "outputs": [],
   "source": [
    "y_prd  = k.predict(X_test)"
   ]
  },
  {
   "cell_type": "code",
   "execution_count": 115,
   "metadata": {
    "scrolled": false
   },
   "outputs": [
    {
     "data": {
      "text/plain": [
       "0.9777777777777777"
      ]
     },
     "execution_count": 115,
     "metadata": {},
     "output_type": "execute_result"
    }
   ],
   "source": [
    "accuracy(y_test,y_prd)"
   ]
  },
  {
   "cell_type": "code",
   "execution_count": 120,
   "metadata": {},
   "outputs": [
    {
     "data": {
      "image/png": "[encoded data removed]",
      "text/plain": [
       "<Figure size 432x288 with 1 Axes>"
      ]
     },
     "metadata": {
      "needs_background": "light"
     },
     "output_type": "display_data"
    }
   ],
   "source": [
    "x2,y2 = 3,5\n",
    "plt.scatter(iris_df[\"petal length (cm)\"],iris_df[\"sepal length (cm)\"], c = iris_df[\"Target\"])\n",
    "plt.scatter(3,5, c = \"black\")\n",
    "plt.show()"
   ]
  },
  {
   "cell_type": "code",
   "execution_count": 116,
   "metadata": {},
   "outputs": [
    {
     "data": {
      "text/plain": [
       "Index(['sepal length (cm)', 'sepal width (cm)', 'petal length (cm)',\n",
       "       'petal width (cm)', 'Target'],\n",
       "      dtype='object')"
      ]
     },
     "execution_count": 116,
     "metadata": {},
     "output_type": "execute_result"
    }
   ],
   "source": [
    "iris_df.columns\n"
   ]
  },
  {
   "cell_type": "code",
   "execution_count": null,
   "metadata": {},
   "outputs": [],
   "source": []
  },
  {
   "cell_type": "code",
   "execution_count": null,
   "metadata": {},
   "outputs": [],
   "source": []
  },
  {
   "cell_type": "code",
   "execution_count": null,
   "metadata": {},
   "outputs": [],
   "source": []
  },
  {
   "cell_type": "code",
   "execution_count": null,
   "metadata": {},
   "outputs": [],
   "source": []
  },
  {
   "cell_type": "code",
   "execution_count": null,
   "metadata": {},
   "outputs": [],
   "source": []
  },
  {
   "cell_type": "code",
   "execution_count": null,
   "metadata": {},
   "outputs": [],
   "source": []
  },
  {
   "cell_type": "code",
   "execution_count": null,
   "metadata": {},
   "outputs": [],
   "source": []
  },
  {
   "cell_type": "code",
   "execution_count": null,
   "metadata": {},
   "outputs": [],
   "source": []
  },
  {
   "cell_type": "code",
   "execution_count": null,
   "metadata": {},
   "outputs": [],
   "source": []
  },
  {
   "cell_type": "code",
   "execution_count": null,
   "metadata": {},
   "outputs": [],
   "source": []
  },
  {
   "cell_type": "code",
   "execution_count": null,
   "metadata": {},
   "outputs": [],
   "source": []
  },
  {
   "cell_type": "code",
   "execution_count": null,
   "metadata": {},
   "outputs": [],
   "source": []
  },
  {
   "cell_type": "markdown",
   "metadata": {},
   "source": [
    "## How do you decide the number of neighbors in KNN?\n",
    "\n",
    "* The number of neighbors(K) in KNN is a hyperparameter that you need choose at the time of model building. \n",
    "* You can think of K as a controlling variable for the prediction model.\n",
    "* No. of neighbors, it depends on Each dataset has it's own requirements\n",
    "* Small number of neighbors, the noise will have a higher influence on the result\n",
    "* large number of neighbors make it computationally expensive\n",
    "\n",
    "* **choosen odd number if the number of classes is even**\n",
    "\n",
    "![download%20%282%29.png](download%20%282%29.png)"
   ]
  },
  {
   "cell_type": "markdown",
   "metadata": {},
   "source": []
  }
 ],
 "metadata": {
  "kernelspec": {
   "display_name": "Python 3",
   "language": "python",
   "name": "python3"
  },
  "language_info": {
   "codemirror_mode": {
    "name": "ipython",
    "version": 3
   },
   "file_extension": ".py",
   "mimetype": "text/x-python",
   "name": "python",
   "nbconvert_exporter": "python",
   "pygments_lexer": "ipython3",
   "version": "3.8.3"
  }
 },
 "nbformat": 4,
 "nbformat_minor": 4
}
